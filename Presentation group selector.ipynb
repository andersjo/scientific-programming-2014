{
 "metadata": {
  "name": "",
  "signature": "sha256:b2ae4fe8722f1715d9a0256d627109da7e7f27fe7985653450a77c8091bf5164"
 },
 "nbformat": 3,
 "nbformat_minor": 0,
 "worksheets": [
  {
   "cells": [
    {
     "cell_type": "heading",
     "level": 2,
     "metadata": {},
     "source": [
      "Randomized selector for group presentations"
     ]
    },
    {
     "cell_type": "code",
     "collapsed": false,
     "input": [
      "%matplotlib inline\n",
      "import pandas as pd\n",
      "import numpy as np\n",
      "\n",
      "np.random.seed()"
     ],
     "language": "python",
     "metadata": {},
     "outputs": []
    },
    {
     "cell_type": "markdown",
     "metadata": {},
     "source": [
      "What groups have already presented?"
     ]
    },
    {
     "cell_type": "code",
     "collapsed": false,
     "input": [
      "groups = range(1, 6)\n",
      "presentations_done_list = [1]\n",
      "\n",
      "presentations_done = pd.Series(presentations_done_list).value_counts()\n",
      "presentations_done = presentations_done.reindex(groups).fillna(0)\n",
      "presentations_done"
     ],
     "language": "python",
     "metadata": {},
     "outputs": []
    },
    {
     "cell_type": "markdown",
     "metadata": {},
     "source": [
      "Groups that still need to do presentations"
     ]
    },
    {
     "cell_type": "code",
     "collapsed": false,
     "input": [
      "groups_up = presentations_done < 2\n",
      "groups_up"
     ],
     "language": "python",
     "metadata": {},
     "outputs": []
    },
    {
     "cell_type": "markdown",
     "metadata": {},
     "source": [
      "Cut the probability of drawing the latest group to present in half. `group_prob` contains the probabilities of drawing each group, indexed by the group number. "
     ]
    },
    {
     "cell_type": "code",
     "collapsed": false,
     "input": [
      "group_prob = groups_up*1\n",
      "if len(presentations_done_list):\n",
      "    group_prob.ix[presentations_done_list[-1]] /= 2.0\n",
      "group_prob /= group_prob.sum()\n",
      "group_prob"
     ],
     "language": "python",
     "metadata": {},
     "outputs": []
    },
    {
     "cell_type": "markdown",
     "metadata": {},
     "source": [
      "Draw the next group"
     ]
    },
    {
     "cell_type": "code",
     "collapsed": false,
     "input": [
      "np.random.choice(group_prob.index, p=group_prob.values)"
     ],
     "language": "python",
     "metadata": {},
     "outputs": []
    }
   ],
   "metadata": {}
  }
 ]
}