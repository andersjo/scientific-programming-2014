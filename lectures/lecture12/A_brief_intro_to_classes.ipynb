{
 "metadata": {
  "name": "",
  "signature": "sha256:2c6374104cd9f1a1e146f0ba5ab6ed5beea011affad03d466282d9e71f644fc9"
 },
 "nbformat": 3,
 "nbformat_minor": 0,
 "worksheets": [
  {
   "cells": [
    {
     "cell_type": "markdown",
     "metadata": {},
     "source": [
      "## Classes\n",
      "\n",
      "A class represents shared data (i.e. variables) together with code (i.e. functions) that work on the data."
     ]
    },
    {
     "cell_type": "code",
     "collapsed": false,
     "input": [
      "class Person(object):\n",
      "    \n",
      "    def __init__(self, first_name, last_name, birth_year):\n",
      "        print \"Person __init__ called with\", first_name, last_name, birth_year\n",
      "        self.first_name = first_name\n",
      "        self.last_name = last_name\n",
      "        self.birth_year = birth_year\n",
      "    \n",
      "    def age(self):\n",
      "        # Approximate age of person\n",
      "        return 2014 - self.birth_year\n",
      "    \n",
      "    def what_is_this_self(self):\n",
      "        return self  "
     ],
     "language": "python",
     "metadata": {},
     "outputs": []
    },
    {
     "cell_type": "markdown",
     "metadata": {},
     "source": [
      "We make two *instances* of the class in the cell below. This calls the special function `__init__`, which are passed the parameters and performs any necessary initialization. \n",
      "\n",
      "#### Terminology \n",
      "\n",
      "- Instances of classes are called *objects* or *instances*.\n",
      "- Functions defined in the context of a class are called *methods*. \n",
      "- Variables within classes are sometimes referred to as *members*. "
     ]
    },
    {
     "cell_type": "code",
     "collapsed": false,
     "input": [
      "uffe = Person(\"Uffe\", \"Karlsen\", 1985)\n",
      "lulu = Person(\"Lulu\", \"Muehlenberg\", 1980)"
     ],
     "language": "python",
     "metadata": {},
     "outputs": []
    },
    {
     "cell_type": "markdown",
     "metadata": {},
     "source": [
      "Variables defined on `self` object in the `__init__` are accessible on the objects using the dot `.` operator."
     ]
    },
    {
     "cell_type": "code",
     "collapsed": false,
     "input": [
      "uffe.first_name"
     ],
     "language": "python",
     "metadata": {},
     "outputs": []
    },
    {
     "cell_type": "code",
     "collapsed": false,
     "input": [
      "uffe.last_name"
     ],
     "language": "python",
     "metadata": {},
     "outputs": []
    },
    {
     "cell_type": "markdown",
     "metadata": {},
     "source": [
      "The same goes for methods"
     ]
    },
    {
     "cell_type": "code",
     "collapsed": false,
     "input": [
      "uffe.age()"
     ],
     "language": "python",
     "metadata": {},
     "outputs": []
    },
    {
     "cell_type": "code",
     "collapsed": false,
     "input": [
      "uffe.what_is_this_self().age()"
     ],
     "language": "python",
     "metadata": {},
     "outputs": []
    },
    {
     "cell_type": "markdown",
     "metadata": {},
     "source": [
      "## Class composition"
     ]
    },
    {
     "cell_type": "code",
     "collapsed": false,
     "input": [
      "class Marriage(object):\n",
      "    \n",
      "    def __init__(self, first_person, second_person):\n",
      "        self.first_person = first_person\n",
      "        self.second_person = second_person\n",
      "        \n",
      "    def requires_approval_of_queen(self):\n",
      "        return self.first_person.age() < 18 or self.second_person.age() < 18\n",
      "    \n",
      "    def child_last_name(self):\n",
      "        return self.first_person.last_name + \"-\" + self.second_person.last_name\n",
      "    "
     ],
     "language": "python",
     "metadata": {},
     "outputs": []
    },
    {
     "cell_type": "code",
     "collapsed": false,
     "input": [
      "uffe_and_lulu = Marriage(uffe, lulu)"
     ],
     "language": "python",
     "metadata": {},
     "outputs": []
    },
    {
     "cell_type": "code",
     "collapsed": false,
     "input": [
      "uffe_and_lulu.requires_approval_of_queen()"
     ],
     "language": "python",
     "metadata": {},
     "outputs": []
    },
    {
     "cell_type": "code",
     "collapsed": false,
     "input": [
      "uffe_and_lulu.child_last_name()"
     ],
     "language": "python",
     "metadata": {},
     "outputs": []
    },
    {
     "cell_type": "markdown",
     "metadata": {},
     "source": [
      "## Class inheritance\n",
      "\n",
      "Class inheritance is a powerful mechanism, which is often misused. It is most useful when your code models entities with **is-a** relationships. \n",
      "\n",
      "A class hierarchy reflects a particular view of the world. If that turns out to be out of sync with reality, it is often costly to refactor."
     ]
    },
    {
     "cell_type": "code",
     "collapsed": false,
     "input": [
      "class Worker(Person):\n",
      "    pass\n",
      "\n",
      "class Leader(Person):\n",
      "    def __init__(self, first_name, last_name, birth_year, n_subjects):\n",
      "        super(Leader, self).__init__(first_name, last_name, birth_year)\n",
      "        print \"Leader __init__ called with\", first_name, last_name, birth_year, n_subjects\n",
      "        self.n_subjects = n_subjects\n",
      "        \n",
      "class Queen(Leader):\n",
      "    def __init__(self, first_name, last_name, birth_year, n_subjects, year_of_ascension):\n",
      "        super(Queen, self).__init__(first_name, last_name, birth_year, n_subjects)\n",
      "        print \"Queen __init__ called with\", first_name, last_name, birth_year, n_subjects, year_of_ascension\n",
      "        self.year_of_ascension = year_of_ascension"
     ],
     "language": "python",
     "metadata": {},
     "outputs": []
    },
    {
     "cell_type": "code",
     "collapsed": false,
     "input": [
      "margrethe = Queen(\"Margrethe\", \"Rex\", 1940, 5E6, 1972)"
     ],
     "language": "python",
     "metadata": {},
     "outputs": []
    },
    {
     "cell_type": "code",
     "collapsed": false,
     "input": [
      "margrethe.year_of_ascension"
     ],
     "language": "python",
     "metadata": {},
     "outputs": []
    },
    {
     "cell_type": "code",
     "collapsed": false,
     "input": [
      "margrethe_and_uffe = Marriage(margrethe, uffe)\n",
      "margrethe_and_uffe.requires_approval_of_queen()"
     ],
     "language": "python",
     "metadata": {},
     "outputs": []
    },
    {
     "cell_type": "code",
     "collapsed": false,
     "input": [],
     "language": "python",
     "metadata": {},
     "outputs": []
    }
   ],
   "metadata": {}
  }
 ]
}