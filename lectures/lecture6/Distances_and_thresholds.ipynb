{
 "metadata": {
  "name": "",
  "signature": "sha256:8d745772b2ffc7490c3e2a3115dc8fc1c4e852cebb97dc3fcf728e1a97e5d1ba"
 },
 "nbformat": 3,
 "nbformat_minor": 0,
 "worksheets": [
  {
   "cells": [
    {
     "cell_type": "code",
     "collapsed": false,
     "input": [
      "%matplotlib inline\n",
      "from skimage import io, draw, color, measure\n",
      "import skimage.data, skimage.filter, skimage.io, skimage.draw\n",
      "from skimage.io import imshow\n",
      "import numpy as np\n",
      "import pandas as pd\n",
      "import matplotlib.pyplot as plt"
     ],
     "language": "python",
     "metadata": {},
     "outputs": []
    },
    {
     "cell_type": "markdown",
     "metadata": {},
     "source": [
      "### Distances between vectors"
     ]
    },
    {
     "cell_type": "code",
     "collapsed": false,
     "input": [
      "vectors_2d = np.array([(1, 1), (0, 1), (.5, .5), (-1, -1)])\n",
      "D = pd.DataFrame(vectors_2d, columns=['x', 'y'])\n",
      "D"
     ],
     "language": "python",
     "metadata": {},
     "outputs": []
    },
    {
     "cell_type": "code",
     "collapsed": false,
     "input": [
      "plt.scatter(D.x, D.y)\n",
      "plt.axhline(0)\n",
      "plt.axvline(0);"
     ],
     "language": "python",
     "metadata": {},
     "outputs": []
    },
    {
     "cell_type": "markdown",
     "metadata": {},
     "source": [
      "Calculate the distances"
     ]
    },
    {
     "cell_type": "code",
     "collapsed": false,
     "input": [
      "from scipy.spatial.distance import cdist"
     ],
     "language": "python",
     "metadata": {},
     "outputs": []
    },
    {
     "cell_type": "code",
     "collapsed": false,
     "input": [
      "origin_vector = np.array([0, 0]).reshape(1, -1)\n",
      "# Straight line (Euclidean) distance\n",
      "cdist(origin_vector, vectors_2d)"
     ],
     "language": "python",
     "metadata": {},
     "outputs": []
    },
    {
     "cell_type": "code",
     "collapsed": false,
     "input": [
      "D['euclidean'] = cdist(origin_vector, vectors_2d, 'euclidean').ravel()\n",
      "D"
     ],
     "language": "python",
     "metadata": {},
     "outputs": []
    },
    {
     "cell_type": "code",
     "collapsed": false,
     "input": [
      "D['cityblock'] = cdist(origin_vector, vectors_2d, 'cityblock').ravel()\n",
      "D"
     ],
     "language": "python",
     "metadata": {},
     "outputs": []
    },
    {
     "cell_type": "markdown",
     "metadata": {},
     "source": [
      "#### Minkowski distance (generalization)\n",
      "\n",
      "The Minkowski distance is paramameterized by $p$. When $p=1$ it is cityblock distance. When $p=2$ it is Euclidean distance.\n",
      "\n",
      "$$\\left(\\sum_{i=1}^n |x_i-y_i|^p\\right)^{1/p}$$\n"
     ]
    },
    {
     "cell_type": "code",
     "collapsed": false,
     "input": [
      "D['L1'] = cdist(origin_vector, vectors_2d, 'minkowski', p=1).ravel()\n",
      "D['L2'] = cdist(origin_vector, vectors_2d, 'minkowski', p=2).ravel()\n",
      "D"
     ],
     "language": "python",
     "metadata": {},
     "outputs": []
    },
    {
     "cell_type": "markdown",
     "metadata": {},
     "source": [
      "Many more distance functions are described in the documentation for [cdist](http://docs.scipy.org/doc/scipy/reference/generated/scipy.spatial.distance.cdist.html)."
     ]
    },
    {
     "cell_type": "markdown",
     "metadata": {},
     "source": [
      "### Distance images and thresholding"
     ]
    },
    {
     "cell_type": "code",
     "collapsed": false,
     "input": [
      "car_image = io.imread(\"cote_dazur.jpg\")\n",
      "car_image = skimage.img_as_float(car_image)\n",
      "imshow(car_image)"
     ],
     "language": "python",
     "metadata": {},
     "outputs": []
    },
    {
     "cell_type": "code",
     "collapsed": false,
     "input": [
      "red_car_zoom = car_image[450:500, 400:450]\n",
      "imshow(red_car_zoom)"
     ],
     "language": "python",
     "metadata": {},
     "outputs": []
    },
    {
     "cell_type": "code",
     "collapsed": false,
     "input": [
      "average_red = np.array([red_car_zoom[:,:,0].mean(), red_car_zoom[:,:,1].mean(), red_car_zoom[:,:,2].mean()])\n",
      "imshow(average_red.reshape(1, 1, 3))"
     ],
     "language": "python",
     "metadata": {},
     "outputs": []
    },
    {
     "cell_type": "code",
     "collapsed": false,
     "input": [
      "distances = cdist(average_red.reshape(1, 3), car_image.reshape(-1, 3))\n",
      "distances.shape"
     ],
     "language": "python",
     "metadata": {},
     "outputs": []
    },
    {
     "cell_type": "code",
     "collapsed": false,
     "input": [
      "distance_img = distances.reshape(car_image.shape[0], car_image.shape[1])\n",
      "imshow(distance_img)"
     ],
     "language": "python",
     "metadata": {},
     "outputs": []
    },
    {
     "cell_type": "code",
     "collapsed": false,
     "input": [
      "imshow(distance_img < 0.4)"
     ],
     "language": "python",
     "metadata": {},
     "outputs": []
    },
    {
     "cell_type": "code",
     "collapsed": false,
     "input": [
      "imshow(distance_img < 0.5)"
     ],
     "language": "python",
     "metadata": {},
     "outputs": []
    },
    {
     "cell_type": "markdown",
     "metadata": {},
     "source": [
      "Extract image pixels from the original image using the mask"
     ]
    },
    {
     "cell_type": "code",
     "collapsed": false,
     "input": [
      "blank_image = np.zeros_like(car_image)\n",
      "mask = distance_img < 0.4\n",
      "blank_image[mask] = car_image[mask]\n",
      "imshow(blank_image)"
     ],
     "language": "python",
     "metadata": {},
     "outputs": []
    },
    {
     "cell_type": "markdown",
     "metadata": {},
     "source": [
      "### Labeling images"
     ]
    },
    {
     "cell_type": "code",
     "collapsed": false,
     "input": [
      "canvas = np.zeros((16, 16))\n",
      "rr, cc = draw.circle(4, 3, 3)\n",
      "canvas[rr, cc] = 1\n",
      "\n",
      "rr, cc = draw.circle(8, 10, 4)\n",
      "canvas[rr, cc] = 1\n",
      "\n",
      "canvas[12, 13] = 1\n",
      "\n",
      "imshow(canvas)"
     ],
     "language": "python",
     "metadata": {},
     "outputs": []
    },
    {
     "cell_type": "code",
     "collapsed": false,
     "input": [
      "regions, n_regions = measure.label(canvas, background=0, return_num=True)\n",
      "print \"Number of regions\", n_regions\n",
      "regions"
     ],
     "language": "python",
     "metadata": {},
     "outputs": []
    },
    {
     "cell_type": "code",
     "collapsed": false,
     "input": [
      "# Using 4-connectivity\n",
      "regions, n_regions = measure.label(canvas, background=0, return_num=True, neighbors=4)\n",
      "print \"Number of regions\", n_regions\n",
      "regions"
     ],
     "language": "python",
     "metadata": {},
     "outputs": []
    }
   ],
   "metadata": {}
  }
 ]
}