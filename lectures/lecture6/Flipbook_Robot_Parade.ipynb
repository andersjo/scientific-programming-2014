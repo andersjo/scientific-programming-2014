{
 "metadata": {
  "name": "",
  "signature": "sha256:d2fd37d1ff7e98524e12e4fd2a41283395c54ff2163cdfcdb0b8535d1a90fa5f"
 },
 "nbformat": 3,
 "nbformat_minor": 0,
 "worksheets": [
  {
   "cells": [
    {
     "cell_type": "markdown",
     "metadata": {},
     "source": [
      "Exercise - Flipbook Robot Parade\n",
      "====\n",
      "\n",
      "![Robot Parade](robot_parade.jpg)\n",
      "\n",
      "In this exercise, you are implementing a flipbook for robots. It's one of those kids books woith images, where you have three separate parts of the page, and by going to different pages for each part, you can compose a new image.\n",
      "\n",
      "You will draw simple images for the heads, bodies, and legs of the robots, and implement a fucntion to generate a random image of a whole robot.\n",
      "\n",
      "\n",
      "Part1\n",
      "----\n",
      "\n",
      "Create at least 2 heads, 2 bodies, and 2 feet. Each should be drawn on a 10-by-20 binary matrix, i.e., using only 1s and 0s. You can use all line and circle drawing elemnts you have encountered so far. \n"
     ]
    },
    {
     "cell_type": "code",
     "collapsed": false,
     "input": [
      "%matplotlib inline\n",
      "import matplotlib.pyplot as plt\n",
      "\n",
      "# Your code here"
     ],
     "language": "python",
     "metadata": {},
     "outputs": [],
     "prompt_number": 1
    },
    {
     "cell_type": "markdown",
     "metadata": {},
     "source": [
      "Part 2\n",
      "----\n",
      "\n",
      "Write a function that uses the robot parts you drew in the first part to generate a random robot and color it. You need to select the different elements, assemble them into a full robot, increase the size to be 200 by 300, and color the background in one and the lines in another color.\n"
     ]
    },
    {
     "cell_type": "code",
     "collapsed": false,
     "input": [
      "def draw_robot(color1, color2):\n",
      "    # Your code here\n",
      "    pass"
     ],
     "language": "python",
     "metadata": {},
     "outputs": [],
     "prompt_number": 3
    },
    {
     "cell_type": "code",
     "collapsed": false,
     "input": [],
     "language": "python",
     "metadata": {},
     "outputs": []
    }
   ],
   "metadata": {}
  }
 ]
}