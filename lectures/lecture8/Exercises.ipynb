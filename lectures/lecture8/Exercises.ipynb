{
 "metadata": {
  "name": "",
  "signature": "sha256:ca6d97ec077122511a1ddfac18208277c4f43d95e2cf1d0407e5d3dfc761af5a"
 },
 "nbformat": 3,
 "nbformat_minor": 0,
 "worksheets": [
  {
   "cells": [
    {
     "cell_type": "markdown",
     "metadata": {},
     "source": [
      "Exercises\n",
      "===="
     ]
    },
    {
     "cell_type": "code",
     "collapsed": false,
     "input": [
      "import numpy as np\n",
      "\n",
      "A = np.zeros((12,12), dtype=int)\n",
      "edges = {1:[0], 2:[0], 3:[1,2,4], 4:[8,10], 5:[2,6], 7:[3,4,9], 8:[5], 9:[11], 10:[9,11]}\n",
      "for start_state, goal_list in edges.iteritems():\n",
      "    for goal in goal_list:\n",
      "        A[start_state, goal] = 1\n",
      "\n",
      "        \n",
      "def get_children(graph, node):\n",
      "    return np.nonzero(graph[node])[0].tolist()\n"
     ],
     "language": "python",
     "metadata": {},
     "outputs": []
    },
    {
     "cell_type": "markdown",
     "metadata": {},
     "source": [
      "In these exercises, you will implement two of the most common search algorithms. To jog your memory, and to enable you to check whether you get the correct result, here is the search tree we will use (rooted in 7).\n",
      "\n",
      "<img src=search_tree.png width=450px>\n",
      "\n",
      "\n",
      "\n",
      "1. Depth-First Search\n",
      "---\n",
      "\n",
      "The strategy in Depth-First Search (DFS) is to make a deep-dive: pick the first child node, look at its first child node, and so on. The way this is implemented is by a data structure called a ***stack***: whatever is put on last is the next thing we have to look at. It is also called a LIFO (Last In First Out). \n",
      "\n",
      "In Python, there is no dedicated stack structure. Instead, we use a list. We append at the end of te list, and we also get the next item by looking at the last item of the list. Rather than assigning the last item to a variable and then deleting the last list element, we use a function, `pop()`, that removes the last element from the list and returns it in one go.\n",
      "\n",
      "Exercise 1\n",
      "----\n",
      "\n",
      "Implement DFS in the box below. Print out the stack at each iteration before you pop the next item. For starters, simply output the goal node once it has been found.\n"
     ]
    },
    {
     "cell_type": "code",
     "collapsed": false,
     "input": [
      "def dfs(graph, goal, start):\n",
      "    # Your code here\n",
      "    return None\n",
      "                    \n",
      "print dfs(A, 5, 7)"
     ],
     "language": "python",
     "metadata": {},
     "outputs": [
      {
       "output_type": "stream",
       "stream": "stdout",
       "text": [
        "None\n"
       ]
      }
     ],
     "prompt_number": 9
    },
    {
     "cell_type": "markdown",
     "metadata": {},
     "source": [
      "Exercise 1.1\n",
      "----\n",
      "\n",
      "Modify you code to return the ***path*** to the goal node (i.e., a list of nodes) rather than just the goal node. You will have to change what goes on the stack and keep track of the current path.\n",
      "\n"
     ]
    },
    {
     "cell_type": "code",
     "collapsed": false,
     "input": [
      "def dfs_path(graph, goal, start):\n",
      "    # Your code here\n",
      "    return None\n",
      "                    \n",
      "print dfs_path(A, 5, 7)"
     ],
     "language": "python",
     "metadata": {},
     "outputs": [
      {
       "output_type": "stream",
       "stream": "stdout",
       "text": [
        " None\n"
       ]
      }
     ],
     "prompt_number": 12
    },
    {
     "cell_type": "markdown",
     "metadata": {},
     "source": [
      "2. Breadth-First Search\n",
      "---\n",
      "\n",
      "DFS is reasonably fast in practice, and more efficient if you have to search the entire tree anywyas, but it has a problem: if on of the branches of the tree is infinite, but does not contain the solution, we never get a solution. Breadth-First Search (BFS) avoids this by going \"level-by-level\". It needs more memory, but it will find the solution.\n",
      "\n",
      "Instead of a stack, we now use a ***queue***: whatever is put in first comes out first (FIFO: First In First Out). The only change we have to make in our code is to pop the first, rather than the last element of our list. Everything else stays the same.\n",
      "\n",
      "Exercise 2\n",
      "----\n",
      "\n",
      "Implement BFS in the box below. Print out the queue at each iteration before you pop the next item. Return the path to the goal.\n"
     ]
    },
    {
     "cell_type": "code",
     "collapsed": false,
     "input": [
      "def bfs_path(graph, goal, start):\n",
      "    # Your code here\n",
      "    return None\n",
      "                    \n",
      "print \"DFS\", dfs_path(A, 5, 7)\n",
      "print\n",
      "print \"BFS\", bfs_path(A, 5, 7)"
     ],
     "language": "python",
     "metadata": {},
     "outputs": [
      {
       "output_type": "stream",
       "stream": "stdout",
       "text": [
        "DFS None\n",
        "\n",
        "BFS None\n"
       ]
      }
     ],
     "prompt_number": 13
    },
    {
     "cell_type": "markdown",
     "metadata": {},
     "source": [
      "Exercise 2.1\n",
      "----\n",
      "\n",
      "Rather than just the first best path, return all best paths. Try it with `bfs_path(A, 0, 7)`."
     ]
    },
    {
     "cell_type": "code",
     "collapsed": false,
     "input": [],
     "language": "python",
     "metadata": {},
     "outputs": []
    }
   ],
   "metadata": {}
  }
 ]
}