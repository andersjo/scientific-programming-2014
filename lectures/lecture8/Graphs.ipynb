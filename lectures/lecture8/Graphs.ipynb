{
 "metadata": {
  "name": "",
  "signature": "sha256:89da3d5511b64fecbfe02d3d5eb8fcaff955cf0ef71ff62aeed40d3e566f5fce"
 },
 "nbformat": 3,
 "nbformat_minor": 0,
 "worksheets": [
  {
   "cells": [
    {
     "cell_type": "markdown",
     "metadata": {},
     "source": [
      "Graphs\n",
      "====\n",
      "\n",
      "Graphs are an incredibly versatile and powerful structure that is used today for a wide variety of problems, from transport engineering, social media (think Google, and of course Facebook), natural language processing, to social sciences (think Facebook again).\n",
      "\n",
      "Despite its success, graphs are a very simple object. They consist of two sets of objects, namely the ***nodes*** (also called *vertices*) and the ***edges*** (also called *lines* or *arcs*). Nodes are typically called $u$ and $v$, and edges are a pair of nodes, e.g., $(u, v)$.\n",
      "\n",
      "The simplest (and admittedly somewhat boring) graph has only one node, and thus typically no edges (nodes *can* have edges to themselves, though).\n",
      "\n",
      "As soon as we add a second node, we can have an edge (we don't have to, though: nodes in a graph can be isolated). Edges come in two main variants: ***directed*** and ***undirected*** edges. A convenient way to represent the edges in a graph is via a matrix. The number of rows and columns is given by the number of nodes, and each cell of the matrix indicates whether there is an edge between the nodes. Typically, the rows represent the starting and the columns the end nodes. This matrix is called the ***adjacency matrix***.\n",
      "\n",
      "If we have an *undirected* edge $(u, v)$, we can go back and forth between the two nodes, $u$ and $v$, i.e., information can be transmitted in both directions. The adjacency matrix is symmetric across the diagonal.\n",
      "\n",
      "<img src=undirected.png width=450px>\n",
      "\n",
      "In *directed* edges, information can only go from the starting to the finishing node. So if we want to be able to go back and forth betwen $u$ and $v$, we'd have to add two edges, one in each direction.\n",
      "\n",
      "<img src=directed.png width=450px>\n",
      "\n",
      "Edges can not only have a direction, but also a weight. This indicates the strength of the connection between two nodes. In an unweighted graph, all edges typically just have a weight of 1. Otherwise, we can give the edges whatever value we like to represent probabilities, costs, distances, etc. If the graph is weighted and undirected, the edge has the same weight in both directions. Weighted directed graphs are sometimes called networks.\n",
      "\n",
      "<img src=weighted.png width=450px>\n",
      "\n",
      "The reason why graphs are so powerful is because nodes and edges can represent so many things, and often without oversimplifying things. They can naturally be people and their relations to each other, web sites and their links, cities and their travel distances, states in a game and the actions to get there, or words and their relations to one another."
     ]
    },
    {
     "cell_type": "markdown",
     "metadata": {},
     "source": [
      "Trees\n",
      "----\n",
      "\n",
      "In many branches of artificial intelligence, a special form of graphs is used, that is called trees. Trees are directed graphs, and have a special node, called the ***root***. This means that all nodes except the root have a parent. Trees are also not allowed to have cycles, i.e., none of the children or grand-children or further-down successors of a node $u$ can be the parent of $u$. Trees are often used for objects with a hierarchical structure, for example XML documents, and have been successfully applied to parsing natural language (ignoring that language sometimes does have cycles). Everything that works on graphs (search, etc.) thus also works for trees, but not necessarily vice versa.\n",
      "\n",
      "<img src=tree.png width=450px>\n"
     ]
    },
    {
     "cell_type": "markdown",
     "metadata": {},
     "source": [
      "Search\n",
      "====\n",
      "\n",
      "One of the most common (and most useful) operations on graphs is search. We said earlier that graphs are so powerful because they can naturally depict a lot of objects, and search made that even clearer. \n",
      "\n",
      "One of the breakthroughs in artificial intelligence was the realization that we can use search in order to find the best next steps in a game. Each game state can be depicted as a tree node, with the current state as root. The children of each node are the states that correspond to the result of some action. So if we are at a point in the game where we have the choice between taking the magic sword or not, the child nodes of the current state are the one where we have the sword, and the one where we don't.\n",
      "One of the important decisions we need to make is how to represent each state, i.e., what kind of information it contains. \n",
      "\n",
      "We search a state-tree by going down the tree to find the best outcome node (with whatever \"best\" is in our case).\n",
      "We can then either return the best node we found, or the path (i.e., the other nodes and the actions that were involved in reaching them) that were visited along the way.\n",
      "\n",
      "The easiest way to search would be of course to simply look at each node in turn until we have found our goal. While this is guaranteed to find the goal, it is impossible for most real-life applications. It would either take waaaay too long, or it would simply never finish (some search trees can be infinite).\n",
      "\n",
      "In general, tree-search works as follows\n",
      "\n",
      "<pre>\n",
      "def search(tree, goal, strategy):\n",
      "    <b>visited</b> = set()\n",
      "    get start node\n",
      "    add start node to <b>strategy</b> and <b>visited</b>\n",
      "\n",
      "    while <b>strategy</b> is not empty:\n",
      "\n",
      "        <b>current</b> = choose next node from <b>strategy</b>\n",
      "\n",
      "        if <b>current</b> == <b>goal</b>:\n",
      "            return <b>current</b>\n",
      "        else:\n",
      "            for child in <b>current</b>.children:\n",
      "            if child is not in <b>visited</b>:\n",
      "                <b>visited</b>.add(<b>current</b>)\n",
      "                expand <b>strategy</b> with child\n",
      "\n",
      "    return None\n",
      "\n",
      "</pre>\n",
      "\n",
      "This looks almost like Python, but not quite. The reason is that there are different search algorithms, and they mainly differ in the strategy they use, i.e., what kind of data structure they use in order to decide on the next node to visit (this is a popular job-interview question). We will look at three of the most well-known search algorithms.\n",
      "\n",
      "Here is the state graph and adjacency matrix we will use:\n",
      "<img src=state_graph.png width=450px>\n",
      "\n",
      "We can encode that in a `numpy` matrix."
     ]
    },
    {
     "cell_type": "code",
     "collapsed": false,
     "input": [
      "import numpy as np\n",
      "\n",
      "A = np.zeros((12,12), dtype=int)\n",
      "edges = {1:[0], 2:[0], 3:[1,2,4], 4:[8,10], 5:[6], 7:[3,4,9], 8:[5], 9:[11], 10:[9,11]}\n",
      "for start_state, goal_list in edges.iteritems():\n",
      "    for goal in goal_list:\n",
      "        A[start_state, goal] = 1\n",
      "print A\n"
     ],
     "language": "python",
     "metadata": {},
     "outputs": [
      {
       "output_type": "stream",
       "stream": "stdout",
       "text": [
        "[[0 0 0 0 0 0 0 0 0 0 0 0]\n",
        " [1 0 0 0 0 0 0 0 0 0 0 0]\n",
        " [1 0 0 0 0 0 0 0 0 0 0 0]\n",
        " [0 1 1 0 1 0 0 0 0 0 0 0]\n",
        " [0 0 0 0 0 0 0 0 1 0 1 0]\n",
        " [0 0 0 0 0 0 1 0 0 0 0 0]\n",
        " [0 0 0 0 0 0 0 0 0 0 0 0]\n",
        " [0 0 0 1 1 0 0 0 0 1 0 0]\n",
        " [0 0 0 0 0 1 0 0 0 0 0 0]\n",
        " [0 0 0 0 0 0 0 0 0 0 0 1]\n",
        " [0 0 0 0 0 0 0 0 0 1 0 1]\n",
        " [0 0 0 0 0 0 0 0 0 0 0 0]]\n",
        "1\n"
       ]
      }
     ],
     "prompt_number": 19
    },
    {
     "cell_type": "markdown",
     "metadata": {},
     "source": [
      "The search tree depends on where we start, so it will look different from time to time. For now, let's see how we search our way from node number 7. In that case, the search tree looks like this:\n",
      "<img src=search_tree.png width=450px>\n",
      "\n",
      "\n",
      "\n",
      "1. Depth-First Search\n",
      "---\n",
      "\n",
      "The strategy in Depth-First Search (DFS) is to make a deep-dive: pick the first child node, look at its first child node, and so on. The way this is implemented is by a data structure called a ***stack***: whatever is put on last is the next thing we have to look at. It is also called a LIFO (Last In First Out). \n",
      "\n",
      "In Python, there is no dedicated stack structure. Instead, we use a list. We append at the end of te list, and we also get the next item by looking at the last item of the list. Rather than assigning the last item to a variable and then deleting the last list element, we use a function, `pop()`, that removes the last element from the list and returns it in one go.\n",
      "\n",
      "Exercise 1\n",
      "----\n",
      "\n",
      "Implement DFS in the box below. Print out the stack at each iteration before you pop the next item. For starters, simply output the goal node once it has been found.\n",
      "\n",
      "Exercise 1.1\n",
      "----\n",
      "\n",
      "Modify you code to return the ***path*** to the goal node rather than just the node."
     ]
    },
    {
     "cell_type": "code",
     "collapsed": false,
     "input": [
      "def get_children(graph, node):\n",
      "    return np.nonzero(graph[node])[0].tolist()\n",
      "\n",
      "\n",
      "\n",
      "def dfs(graph, goal, start):\n",
      "    # Your code here\n",
      "    \n",
      "    # DH REMOVE CODE!!!\n",
      "    visited = set([start])\n",
      "    stack = [start]\n",
      "    \n",
      "    while stack:\n",
      "        current = stack.pop()\n",
      "\n",
      "        print stack, current\n",
      "        \n",
      "        if current == goal:\n",
      "            return current\n",
      "        \n",
      "        else:\n",
      "            for child in get_children(graph, current):\n",
      "                if child not in visited:\n",
      "                    stack.append(child)\n",
      "                    visited.add(child)\n",
      "    return None\n",
      "                    \n",
      "print dfs(A, 5, 7)"
     ],
     "language": "python",
     "metadata": {},
     "outputs": [
      {
       "output_type": "stream",
       "stream": "stdout",
       "text": [
        "[] 7\n",
        "[3, 4] 9\n",
        "[3, 4] 11\n",
        "[3] 4\n",
        "[3, 8] 10\n",
        "[3] 8\n",
        "[3] 5\n",
        "5\n"
       ]
      }
     ],
     "prompt_number": 24
    },
    {
     "cell_type": "markdown",
     "metadata": {},
     "source": [
      "2. Breadth-First Search\n",
      "---\n",
      "\n",
      "DFS is reasonably fast in practice, and more efficient if you have to search the entire tree anywyas, but it has a problem: if on of the branches of the tree is infinite, but does not contain the solution, we never get a solution. Breadth-First Search (BFS) avoids this by going \"level-by-level\". It needs more memory, but it will find the solution.\n",
      "\n",
      "Instead of a stack, we now use a ***queue***: whatever is put in first comes out first (FIFO: First In First Out). The only change we have to make in our code is to pop the first, rather than the last element of our list. Everything else stays the same.\n",
      "\n",
      "Exercise 2\n",
      "----\n",
      "\n",
      "Implement BFS in the box below. Print out the queue at each iteration before you pop the next item. Return the path to the goal.\n"
     ]
    },
    {
     "cell_type": "code",
     "collapsed": false,
     "input": [
      "def bfs(graph, goal, start):\n",
      "    # Your code here\n",
      "    \n",
      "    # DH REMOVE CODE!!!\n",
      "\n",
      "    visited = set([start])\n",
      "    queue = [start]\n",
      "    \n",
      "    while queue:\n",
      "        current = queue.pop(0)\n",
      "\n",
      "        print queue, current\n",
      "        \n",
      "        if current == goal:\n",
      "            return current\n",
      "        \n",
      "        else:\n",
      "            for child in get_children(graph, current):\n",
      "                if child not in visited:\n",
      "                    queue.append(child)\n",
      "                    visited.add(child)\n",
      "    return None\n",
      "                    \n",
      "print dfs(A, 5, 7)\n",
      "print bfs(A, 5, 7)"
     ],
     "language": "python",
     "metadata": {},
     "outputs": [
      {
       "output_type": "stream",
       "stream": "stdout",
       "text": [
        "[] 7\n",
        "[3, 4] 9\n",
        "[3, 4] 11\n",
        "[3] 4\n",
        "[3, 8] 10\n",
        "[3] 8\n",
        "[3] 5\n",
        "5\n",
        "[] 7\n",
        "[4, 9] 3\n",
        "[9, 1, 2] 4\n",
        "[1, 2, 8, 10] 9\n",
        "[2, 8, 10, 11] 1\n",
        "[8, 10, 11, 0] 2\n",
        "[10, 11, 0] 8\n",
        "[11, 0, 5] 10\n",
        "[0, 5] 11\n",
        "[5] 0\n",
        "[] 5\n",
        "5\n"
       ]
      }
     ],
     "prompt_number": 26
    },
    {
     "cell_type": "markdown",
     "metadata": {},
     "source": [
      "3. A\\* Search\n",
      "---\n",
      "\n"
     ]
    },
    {
     "cell_type": "markdown",
     "metadata": {},
     "source": [
      "The previous two search algorithms simply relied on the structure of the search tree, without including any information from the edge weights. Those algorithms are thus called *uninformed*.\n",
      "\n",
      "In contrast, A\\* is an informed search algorithm, which uses a heuristic to estimate which states should be explored further. \n",
      "\n",
      "For each state $n$, we compute two measures, called $h(n)$ (the cost of getting from $n$ to the goal, or ***h***ome), and $g(n)$ (the cost of ***g***etting to $n$). Those two measure are added up to another measure, $f(n)$. Then, we sort all future states by their $f$-values, and expand the one with the lowest.\n",
      "\n",
      "The core idea is that there is no sense in exploring bad states. The question is of course: how do we measure *bad*? This is up to the heuristics. The heuristics can be anything we want, as long as they don't give too pessimistic an estimate. That is, $f(n)$ should never be greater than the true cost.\n",
      "\n",
      "In Python, we can use a list of tuples $(f(n), n)$ to find the best state.\n",
      "\n",
      "A\\* is used in a number of different applications, such as\n",
      "\n",
      "* routing problems\n",
      "* resource planning problems\n",
      "* robot motion planning\n",
      "* language analysis\n",
      "* machine translation\n",
      "* speech recognition\n"
     ]
    },
    {
     "cell_type": "markdown",
     "metadata": {},
     "source": [
      "Reading\n",
      "====\n",
      "\n",
      "* anthing that has to do with search"
     ]
    },
    {
     "cell_type": "code",
     "collapsed": false,
     "input": [],
     "language": "python",
     "metadata": {},
     "outputs": []
    }
   ],
   "metadata": {}
  }
 ]
}