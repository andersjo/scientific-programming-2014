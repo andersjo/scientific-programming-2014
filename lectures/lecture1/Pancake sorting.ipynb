{
 "metadata": {
  "name": "",
  "signature": "sha256:7e2216b11d0f56bb63bf5779fa3129019a6edd1f5a6d5b01cb0f38179fcb3883"
 },
 "nbformat": 3,
 "nbformat_minor": 0,
 "worksheets": [
  {
   "cells": [
    {
     "cell_type": "heading",
     "level": 2,
     "metadata": {},
     "source": [
      "Pancake sorting"
     ]
    },
    {
     "cell_type": "heading",
     "level": 3,
     "metadata": {},
     "source": [
      "Introduction"
     ]
    },
    {
     "cell_type": "markdown",
     "metadata": {},
     "source": [
      "![Stack of pancakes](https://encrypted-tbn2.gstatic.com/images?q=tbn:ANd9GcSKxUPbo0pKvu0gFNjN0R3UYMyRh3qS-DqKNKsmHVKq7MDCiHXS)\n",
      "\n",
      "In class we introduced you to a sorting problem with practical implications: How can you arrange a stack of pancakes according to size, so that the largest pancake is placed at the bottom of the stack and the smallest on top, *if* you are only allowed to use a spatula to flip (parts of) the stack?\n",
      "\n",
      "To solve this problem we need to come up with some kind of procedure or recipe where, if we follow the steps closely, the result will always be a beautifully sorted pile of pancakes, no matter what the initial stack looked like. Such a recipe is called an *algorithm*, so when you successfully complete this exercise, you will have designed and implemented an actual algorithm on your own!\n",
      "\n",
      "** Exercise** It is sometimes said that 90 % of programming is done (or perhaps rather *should* be done) with pen and paper, meaning that it is important to think what you want to do in your program before getting in front of the screen. Therefore, describe in plain, non-technical language what your algorithm will do. (Please actually do this). "
     ]
    },
    {
     "cell_type": "heading",
     "level": 3,
     "metadata": {},
     "source": [
      "Slicing, indexing and reversing"
     ]
    },
    {
     "cell_type": "heading",
     "level": 4,
     "metadata": {},
     "source": [
      "Indexing"
     ]
    },
    {
     "cell_type": "markdown",
     "metadata": {},
     "source": [
      "Writing the text of this exercise is a little like doing a movie review. We want to tell you as much as possible about the exercise as we can without spoiling the fun of finding things out on your own. \n",
      "\n",
      "Let's begin with the basics. Whatever approach you chose to take, you will need a stack of pancakes. So here it is:"
     ]
    },
    {
     "cell_type": "code",
     "collapsed": false,
     "input": [
      "pancakes = ['****', '***', '**', '******', '*****']"
     ],
     "language": "python",
     "metadata": {},
     "outputs": [],
     "prompt_number": 50
    },
    {
     "cell_type": "markdown",
     "metadata": {},
     "source": [
      "The list of pancakes has the bottom pancake as the first element and the top pancake as the last element. In Python you can retrieve a specific element of a list by using the `my_list[index]` syntax, where `index` is an integer.\n",
      "\n",
      "**Exercise** Print the pancake at the bottom."
     ]
    },
    {
     "cell_type": "code",
     "collapsed": false,
     "input": [],
     "language": "python",
     "metadata": {},
     "outputs": [],
     "prompt_number": 50
    },
    {
     "cell_type": "markdown",
     "metadata": {},
     "source": [
      "By convention the indices start at zero in Python. Thus a list of length $n$ has indices $0, 1, ..., n-1$. It might be helpful to think of an index as telling you how many steps you need to take from the beginning of the list to reach that element. The list starts at zero, and so you need to take zero steps to get there. \n",
      "\n",
      "What happens if you decide to take a step back instead of forward? Well, let's try:\n",
      "\n",
      "(We use the reasoning that since a step forward is `1`, a step backward must be `-1`)"
     ]
    },
    {
     "cell_type": "code",
     "collapsed": false,
     "input": [
      "pancakes[-1]"
     ],
     "language": "python",
     "metadata": {},
     "outputs": [
      {
       "metadata": {},
       "output_type": "pyout",
       "prompt_number": 51,
       "text": [
        "'*****'"
       ]
      }
     ],
     "prompt_number": 51
    },
    {
     "cell_type": "markdown",
     "metadata": {},
     "source": [
      "Okay. Whenever you start at the list and take one step back, you arrive at the end of the list. \n",
      "\n",
      "**Exercise** What happens if you take two steps back?"
     ]
    },
    {
     "cell_type": "code",
     "collapsed": false,
     "input": [],
     "language": "python",
     "metadata": {},
     "outputs": [],
     "prompt_number": 51
    },
    {
     "cell_type": "heading",
     "level": 4,
     "metadata": {},
     "source": [
      "Slicing"
     ]
    },
    {
     "cell_type": "markdown",
     "metadata": {},
     "source": [
      "The spatula is a wonderful tool that gives you the power to take out a part of the pancake stack. Similarly, the *slicing notation* in Python gives you the ability to take out parts of lists. The basic form of a slice is `my_list[start_index:end_index]`. Like in `range` the `end_index` itself is not included."
     ]
    },
    {
     "cell_type": "code",
     "collapsed": false,
     "input": [
      "pancakes[0:3]"
     ],
     "language": "python",
     "metadata": {},
     "outputs": [
      {
       "metadata": {},
       "output_type": "pyout",
       "prompt_number": 52,
       "text": [
        "['****', '***', '**']"
       ]
      }
     ],
     "prompt_number": 52
    },
    {
     "cell_type": "markdown",
     "metadata": {},
     "source": [
      "You can leave off the first element (default value is `0` - the beginning of the list)"
     ]
    },
    {
     "cell_type": "code",
     "collapsed": false,
     "input": [
      "pancakes[:3]"
     ],
     "language": "python",
     "metadata": {},
     "outputs": [
      {
       "metadata": {},
       "output_type": "pyout",
       "prompt_number": 53,
       "text": [
        "['****', '***', '**']"
       ]
      }
     ],
     "prompt_number": 53
    },
    {
     "cell_type": "markdown",
     "metadata": {},
     "source": [
      "The last element (default value is the length of the list)"
     ]
    },
    {
     "cell_type": "code",
     "collapsed": false,
     "input": [
      "pancakes[2:]"
     ],
     "language": "python",
     "metadata": {},
     "outputs": [
      {
       "metadata": {},
       "output_type": "pyout",
       "prompt_number": 54,
       "text": [
        "['**', '******', '*****']"
       ]
      }
     ],
     "prompt_number": 54
    },
    {
     "cell_type": "markdown",
     "metadata": {},
     "source": [
      "Or even both. Note that the line below gives the same result as just saying `pancakes`."
     ]
    },
    {
     "cell_type": "code",
     "collapsed": false,
     "input": [
      "pancakes[:]"
     ],
     "language": "python",
     "metadata": {},
     "outputs": [
      {
       "metadata": {},
       "output_type": "pyout",
       "prompt_number": 55,
       "text": [
        "['****', '***', '**', '******', '*****']"
       ]
      }
     ],
     "prompt_number": 55
    },
    {
     "cell_type": "markdown",
     "metadata": {},
     "source": [
      "The full form of the slice notation is `my_list[start_index:end_index:step_size]`. By default the step size is `1`. If you specify a step size of `2` you will get every other element. In other words, a step size of `2` means that you start at element `0`, jump to element `2`, then jump to element `4`, and so on. Of course, if you provided a `start_index` other than `0`, you would start at element `start_index`, jump to `start_index + step_size`, then jump to `start_index + 2*step_size`, etc. "
     ]
    },
    {
     "cell_type": "code",
     "collapsed": false,
     "input": [
      "print pancakes[0:len(pancakes):1]\n",
      "print pancakes[::1] # Same as above\n",
      "\n",
      "print pancakes[0:len(pancakes):2]\n",
      "print pancakes[::2] # Same as above"
     ],
     "language": "python",
     "metadata": {},
     "outputs": [
      {
       "output_type": "stream",
       "stream": "stdout",
       "text": [
        "['****', '***', '**', '******', '*****']\n",
        "['****', '***', '**', '******', '*****']\n",
        "['****', '**', '*****']\n",
        "['****', '**', '*****']\n"
       ]
      }
     ],
     "prompt_number": 56
    },
    {
     "cell_type": "heading",
     "level": 4,
     "metadata": {},
     "source": [
      "Reversing"
     ]
    },
    {
     "cell_type": "markdown",
     "metadata": {},
     "source": [
      "The `step_size` parameter enables a neat trick that comes in handy when you implement the pancake-stack flip. Instead of taking forward steps, you will be stepping backwards, which gives you the list in reverse:"
     ]
    },
    {
     "cell_type": "code",
     "collapsed": false,
     "input": [
      "forward = range(5)\n",
      "backward = forward[::-1]\n",
      "print forward\n",
      "print backward"
     ],
     "language": "python",
     "metadata": {},
     "outputs": [
      {
       "output_type": "stream",
       "stream": "stdout",
       "text": [
        "[0, 1, 2, 3, 4]\n",
        "[4, 3, 2, 1, 0]\n"
       ]
      }
     ],
     "prompt_number": 57
    },
    {
     "cell_type": "markdown",
     "metadata": {},
     "source": [
      "When `step_size` is set to `-1`, you can still specify the other `start_index` and `end_index` parameters. For instance, to get the `[1, 2, 3]` subsequence of the `forward` list in reverse, you write:"
     ]
    },
    {
     "cell_type": "code",
     "collapsed": false,
     "input": [
      "forward[3:0:-1]"
     ],
     "language": "python",
     "metadata": {},
     "outputs": [
      {
       "metadata": {},
       "output_type": "pyout",
       "prompt_number": 58,
       "text": [
        "[3, 2, 1]"
       ]
      }
     ],
     "prompt_number": 58
    },
    {
     "cell_type": "markdown",
     "metadata": {},
     "source": [
      "Bear in mind that you also have to \"think backwards\" when using `-1` as the step size. The parameters are still `start_index` and `end_index` and still mean the same thing, *except* that `start_index` should be after `end_index`, since we are moving in the opposite direction.\n",
      "\n",
      "If this is confusing, don't worry. Because you know how to slice a list in the forward direction and you know how you can reverse a list (namely using the `my_list[::-1]` notation), you can always break the operation into two steps:"
     ]
    },
    {
     "cell_type": "code",
     "collapsed": false,
     "input": [
      "one_two_three = forward[1:4]\n",
      "one_two_three[::-1]"
     ],
     "language": "python",
     "metadata": {},
     "outputs": [
      {
       "metadata": {},
       "output_type": "pyout",
       "prompt_number": 59,
       "text": [
        "[3, 2, 1]"
       ]
      }
     ],
     "prompt_number": 59
    },
    {
     "cell_type": "markdown",
     "metadata": {},
     "source": [
      "It's perfectly fine to do it this way. In general, if you can think of a simple way to solve a problem, you should try that first, even if it takes a couple of more lines to do than the \"elegant\" solution. Once you have learned more about the problem or had a new idea, you can always return to the code and consider whether there might be a better way of doing it."
     ]
    },
    {
     "cell_type": "heading",
     "level": 3,
     "metadata": {},
     "source": [
      "Visualization and debugging"
     ]
    },
    {
     "cell_type": "markdown",
     "metadata": {},
     "source": [
      "A rare but joyful experience as a programmer is to write a program in one sitting, run it, and get correct and expected results back. In fact most programs are written and rewritten many times over before they finally work. In this process it is important to be able to get facts about what the program is actually doing, facts which can be compared to what you would expect it do it. One time-honored method for gaining insight into the workings of the program is to print the value of variables of interest at strategic times in the program. (This approach is sometimes called *printf* debugging, after the name of the print function in the C language). You will be doing this a lot. \n",
      "\n",
      "Most objects in Python show sensible information when you print them, but when you have a complex data structure, you may be better off by defining a custom visualization function. \n",
      "\n",
      "**Exercise** Provide an implementation of the `visualize_pancakes` function below. Make sure that it outputs the pancakes with element zero at the bottom of the stack. Test it using the `pancakes` variable."
     ]
    },
    {
     "cell_type": "code",
     "collapsed": false,
     "input": [
      "def visualize_pancakes(list_of_pancakes, description):\n",
      "    print \"Stack:\", description\n",
      "    \n",
      "    print \"\""
     ],
     "language": "python",
     "metadata": {},
     "outputs": [],
     "prompt_number": 60
    },
    {
     "cell_type": "code",
     "collapsed": false,
     "input": [
      "def find_largest_pancake(list_of_pancakes):\n",
      "    largest_pancake = ''\n",
      "    for pancake in list_of_pancakes:\n",
      "        if len(largest_pancake) < len(pancake):\n",
      "            largest_pancake = pancake\n",
      "    return largest_pancake\n",
      "\n",
      "def print_stack(list_of_pancakes):\n",
      "    for pancake in reversed(list_of_pancakes):\n",
      "        print pancake\n",
      "    print \"\""
     ],
     "language": "python",
     "metadata": {},
     "outputs": [],
     "prompt_number": 61
    },
    {
     "cell_type": "heading",
     "level": 3,
     "metadata": {},
     "source": [
      "Algorithm"
     ]
    },
    {
     "cell_type": "markdown",
     "metadata": {},
     "source": [
      "We are finally ready to begin implementing the algorithm. Defined below are a couple of variables and a skeleton for the code that you may or may not want to use in your own algorithm. "
     ]
    },
    {
     "cell_type": "code",
     "collapsed": false,
     "input": [
      "unsorted_pancakes = list(pancakes)\n",
      "sorted_pancakes = []\n",
      "\n",
      "while len(unsorted_pancakes) > 0:\n",
      "    visualize_pancakes(sorted_pancakes + unsorted_pancakes, \"Whole stack\")\n",
      "    \n",
      "    # Your code here\n",
      "\n",
      "    # Here we transfer one element from the unsorted_pancakes to sorted_panckes on each iteration\n",
      "    # Of course this doesn't sort anything, but it does prevent the loop from running forever.\n",
      "    # Should be removed when you begin to write your own code.\n",
      "    sorted_pancakes.append(unsorted_pancakes.pop())"
     ],
     "language": "python",
     "metadata": {},
     "outputs": [
      {
       "output_type": "stream",
       "stream": "stdout",
       "text": [
        "Stack: Whole stack\n",
        "\n",
        "Stack: Whole stack\n",
        "\n",
        "Stack: Whole stack\n",
        "\n",
        "Stack: Whole stack\n",
        "\n",
        "Stack: Whole stack\n",
        "\n"
       ]
      }
     ],
     "prompt_number": 62
    }
   ],
   "metadata": {}
  }
 ]
}