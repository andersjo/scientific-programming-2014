{
 "metadata": {
  "name": "",
  "signature": "sha256:bd7f6501ce4bb13709ec1832c1b07bdbf71518929b14343d37c0b3d5c2fcebd1"
 },
 "nbformat": 3,
 "nbformat_minor": 0,
 "worksheets": [
  {
   "cells": [
    {
     "cell_type": "heading",
     "level": 2,
     "metadata": {},
     "source": [
      "Nobel prize winners."
     ]
    },
    {
     "cell_type": "markdown",
     "metadata": {},
     "source": [
      "You will be working on a dataset recording various attributes of Nobel Prize winners. To answer the questions in this exercise, you will need to look at the year the prize was awarded, the area in which the recipient was recognized (e.g. Literature, Peace), as well as the gender and name of the prize winner.\n",
      "\n",
      "This information is made available in the variables `by_year`, `by_area`, and `by_gender`, which are imported below. The variables are dictionaries which have strings as keys and sets of names as values. You have to use these variables to answer the questions.\n",
      "\n",
      "The dataset was downloaded from the [Many Eyes](http://www-958.ibm.com/software/analytics/manyeyes/datasets/nobel-prize-winners) web site and cleaned up a little."
     ]
    },
    {
     "cell_type": "code",
     "collapsed": false,
     "input": [
      "from prize_winners import by_year, by_area, by_gender"
     ],
     "language": "python",
     "metadata": {},
     "outputs": [],
     "prompt_number": 1
    },
    {
     "cell_type": "markdown",
     "metadata": {},
     "source": [
      "**Exercise** In which areas are the Nobel Prize awarded? Provide code to answer the question in a new cell below."
     ]
    },
    {
     "cell_type": "markdown",
     "metadata": {},
     "source": [
      "**Exercise** Has an approximately equal number of people won the prize in the different areas? Provide counts for each field."
     ]
    },
    {
     "cell_type": "markdown",
     "metadata": {},
     "source": [
      "**Exercise** How many people have been awarded a Nobel Prize in the 21th century?"
     ]
    },
    {
     "cell_type": "markdown",
     "metadata": {},
     "source": [
      "**Exercise** When was the first year the prize in Economics was given out?"
     ]
    },
    {
     "cell_type": "markdown",
     "metadata": {},
     "source": [
      "**Exercise** Has anyone ever won more than one prize?"
     ]
    },
    {
     "cell_type": "markdown",
     "metadata": {},
     "source": [
      "**Exercise** Which field has the most gender inequality?"
     ]
    },
    {
     "cell_type": "code",
     "collapsed": false,
     "input": [],
     "language": "python",
     "metadata": {},
     "outputs": []
    }
   ],
   "metadata": {}
  }
 ]
}