{
 "metadata": {
  "name": "",
  "signature": "sha256:527bf05f202a5a65015e1dd5ba44a7b6a7c0c61867233f0f66a49cb96b6a92c3"
 },
 "nbformat": 3,
 "nbformat_minor": 0,
 "worksheets": [
  {
   "cells": [
    {
     "cell_type": "heading",
     "level": 2,
     "metadata": {},
     "source": [
      "Representation of images"
     ]
    },
    {
     "cell_type": "code",
     "collapsed": false,
     "input": [
      "%matplotlib inline\n",
      "from skimage import data, io, draw\n",
      "import skimage.filter\n",
      "from skimage.io import imshow\n",
      "import numpy as np\n",
      "import pandas as pd\n",
      "import matplotlib.pyplot as plt"
     ],
     "language": "python",
     "metadata": {},
     "outputs": []
    },
    {
     "cell_type": "markdown",
     "metadata": {},
     "source": [
      "In this first part of the exercise you will get to know the basics of how images are represented and manipulated in Python. While there are actually more than a few conteners to the title of most popular scientific image processing library in Python, the packages accept `numpy` arrays as a common image representation, and can therefore be mixed and matched as you please. Below is a list of the most notable packages:\n",
      "\n",
      "- [Mahotas](http://luispedro.org/software/mahotas)\n",
      "- [Scikit-image](http://scikit-image.org/)\n",
      "- [OpenCV](http://opencv.org/)\n",
      "- [SimpleCV](http://simplecv.org/)\n",
      "\n",
      "In these exercises and for the homework we will be using [scikit-image](http://scikit-image.org/). \n",
      "\n",
      "You'll meet three types of images with different representations. \n",
      "\n",
      "#### Black-and-white images\n",
      "\n",
      "Pixels are either on or off. Black-and-white images are stored as 2-dimensional arrays of zeros and ones (optionally `True` and `False` values)\n",
      "\n",
      "#### Grayscale images\n",
      "\n",
      "Like black-and-white images, grayscale images associate a single number with each pixel. The number is the lightness of the pixel, which may be black, white, or any of the grays in between.\n",
      "\n",
      "#### Color images\n",
      "\n",
      "In color images a pixel is represented by an ordered list of numbers, typically three or four. Taken across the whole image these numbers are also called channels. In the RGB model the channels are red, green, and blue. The RGBA model extends this with an alpha channel, which encodes the transparency of a pixel. Color images are 3-dimensional arrays, which people sometimes refer to as tensors."
     ]
    },
    {
     "cell_type": "heading",
     "level": 3,
     "metadata": {},
     "source": [
      "Black-and-white images (2 dimensions)"
     ]
    },
    {
     "cell_type": "markdown",
     "metadata": {},
     "source": [
      "Here is an inspirational image titled *Before the dawn of time*.\n",
      "\n",
      "You will be given the opportunity to wreak havock with it in a moment, so enjoy it while it lasts."
     ]
    },
    {
     "cell_type": "code",
     "collapsed": false,
     "input": [
      "black_img = np.zeros((16, 16), dtype=bool)\n",
      "imshow(black_img)"
     ],
     "language": "python",
     "metadata": {},
     "outputs": []
    },
    {
     "cell_type": "markdown",
     "metadata": {},
     "source": [
      "As promised we are about to disturb the deep silence and calm of the black canvas by drawing a couple of white lines. The image is indexed by two lists, one produced by `range(4, 10)` and the other by `np.repeat(4, 6)`. These lists gives the row indices `[4, 5, 6, 7, 8, 9]` and the column indices `[4, 4, 4, 4, 4, 4]` for the pixels to be updated. Thus the first pixel updated is located at $(4, 5)$."
     ]
    },
    {
     "cell_type": "code",
     "collapsed": false,
     "input": [
      "black_img[range(4,10), np.repeat(4, 6)] = True\n",
      "black_img[range(4,10), np.repeat(9, 6)] = True\n",
      "imshow(black_img)"
     ],
     "language": "python",
     "metadata": {},
     "outputs": []
    },
    {
     "cell_type": "markdown",
     "metadata": {},
     "source": [
      "**Exercise** Add two horizontal lines to the black image. They should start at rows 4 and 9, and span the columns 4 to 9 (both inclusive. "
     ]
    },
    {
     "cell_type": "code",
     "collapsed": false,
     "input": [
      "# Your code here"
     ],
     "language": "python",
     "metadata": {},
     "outputs": []
    },
    {
     "cell_type": "markdown",
     "metadata": {},
     "source": [
      "As mentioned there is a a close correspondence between the rendering of the image as black and white pixels and the values in the array. The exercise below should prove this point. \n",
      "\n",
      "**Exercise** Print the values in each row of the `black_img` on a separate line. Convert the values to zeros and ones before printing and put one space between each number. If you follow these instructions, the first three rows will look like this:\n",
      "\n",
      "```\n",
      "0 0 0 0 0 0 0 0 0 0 0 0 0 0 0 0\n",
      "0 0 0 0 0 0 0 0 0 0 0 0 0 0 0 0\n",
      "0 0 0 0 0 0 0 0 0 0 0 0 0 0 0 0\n",
      "```\n",
      "\n",
      "Hint: You can use a `for` loop to easily iterate over the rows. E.g. `for row in black_img` provides you with each row of the array in turn."
     ]
    },
    {
     "cell_type": "code",
     "collapsed": false,
     "input": [
      "# Your code here"
     ],
     "language": "python",
     "metadata": {},
     "outputs": []
    },
    {
     "cell_type": "markdown",
     "metadata": {},
     "source": [
      "Here are a couple of exercises related to drawing. Initialize a black $16 \\times 16$ canvas before each new drawing.\n"
     ]
    },
    {
     "cell_type": "markdown",
     "metadata": {},
     "source": [
      "**Exercise** Draw lines across both diagonals, making a cross"
     ]
    },
    {
     "cell_type": "code",
     "collapsed": false,
     "input": [
      "# Your code here"
     ],
     "language": "python",
     "metadata": {},
     "outputs": []
    },
    {
     "cell_type": "markdown",
     "metadata": {},
     "source": [
      "**Exercise** Draw a circle - or as close of an approximation as is possible"
     ]
    },
    {
     "cell_type": "code",
     "collapsed": false,
     "input": [
      "# Your code here"
     ],
     "language": "python",
     "metadata": {},
     "outputs": []
    },
    {
     "cell_type": "markdown",
     "metadata": {},
     "source": [
      "**Exercise** Draw a smiley. Pick your favourite."
     ]
    },
    {
     "cell_type": "code",
     "collapsed": false,
     "input": [
      "# Your code here"
     ],
     "language": "python",
     "metadata": {},
     "outputs": []
    },
    {
     "cell_type": "heading",
     "level": 3,
     "metadata": {},
     "source": [
      "Gray-scale images (2 dimensions)"
     ]
    },
    {
     "cell_type": "markdown",
     "metadata": {},
     "source": [
      "Below is a pretty random gray-scale picture. The input to the rendering function is a $16 \\times 16$ array, which is the same dimensionality as for the black-and-white image, but `imshow` knows that it should display grays, because there are intermediate values between the two extremes. This is evident from a histogram. Larger values correspond to more light, or lighther pixels."
     ]
    },
    {
     "cell_type": "code",
     "collapsed": false,
     "input": [
      "# Numbers between 0 and 1\n",
      "grayscale = np.random.random((16, 16)) \n",
      "imshow(grayscale)"
     ],
     "language": "python",
     "metadata": {},
     "outputs": []
    },
    {
     "cell_type": "markdown",
     "metadata": {},
     "source": [
      "Beware that `imshow` automatically rescales the intensity of grayscale pictures! The largest value in the image will thus be rendered as white and the smallest as black. This is why all of the variants of the `grayscale` image below render exactly the same."
     ]
    },
    {
     "cell_type": "code",
     "collapsed": false,
     "input": [
      "# Create a three-axis subplot\n",
      "fig, axes = plt.subplots(ncols=3)\n",
      "\n",
      "# `sca` abbrevates \"set current axis\"\n",
      "plt.sca(axes[0])\n",
      "imshow(grayscale * 0.1)\n",
      "\n",
      "plt.sca(axes[1])\n",
      "imshow(grayscale + 2)\n",
      "\n",
      "plt.sca(axes[2])\n",
      "imshow((grayscale - 0.5) * 2)"
     ],
     "language": "python",
     "metadata": {},
     "outputs": []
    },
    {
     "cell_type": "markdown",
     "metadata": {},
     "source": [
      "**Exercise** Create a gray-scale gradient. The lightness in a gradient is constant across any given row but increases with the row number. The gradient should start with minimum intensity (black) at the first row, and gradually become more white. Below is an example of a gradient. \n",
      "\n",
      "<img src=\"gradient_grayscale.png\" width=\"100\">"
     ]
    },
    {
     "cell_type": "code",
     "collapsed": false,
     "input": [
      "gradient_img = np.zeros((16, 16))\n",
      "# Your code here"
     ],
     "language": "python",
     "metadata": {},
     "outputs": []
    },
    {
     "cell_type": "markdown",
     "metadata": {},
     "source": [
      "**Exercise** Now, quick, turn the gradient 90 degrees so it becomes lighter from left to right! You should be able to do this in a single line, reusing the `gradient_img` from last exercise."
     ]
    },
    {
     "cell_type": "code",
     "collapsed": false,
     "input": [
      "# Your code here"
     ],
     "language": "python",
     "metadata": {},
     "outputs": []
    },
    {
     "cell_type": "heading",
     "level": 3,
     "metadata": {},
     "source": [
      "Color images (3 dimensions)"
     ]
    },
    {
     "cell_type": "markdown",
     "metadata": {},
     "source": [
      "Color images are represented as 3-dimensional structures. The two first dimensions are the rows and columns of the image. The third dimension contains color information, most typically represented by three numbers indicating the mixture of **R**ed, **G**reen, and **B**lue (RGB) in the color.\n",
      "\n",
      "Working with 3-dimensional images is actually not that different from working with 2-dimensional images, and you won't have to learn any new commands."
     ]
    },
    {
     "cell_type": "code",
     "collapsed": false,
     "input": [
      "np.random.seed(42)\n",
      "random_color_image = np.random.random((16, 16, 3))"
     ],
     "language": "python",
     "metadata": {},
     "outputs": []
    },
    {
     "cell_type": "markdown",
     "metadata": {},
     "source": [
      "**Exercise** Display the color image stored in `random_color_image`. How many elements (numbers) is the image made up of?"
     ]
    },
    {
     "cell_type": "code",
     "collapsed": false,
     "input": [
      "# Your code here"
     ],
     "language": "python",
     "metadata": {},
     "outputs": []
    },
    {
     "cell_type": "markdown",
     "metadata": {},
     "source": [
      "Uhh, lots of pretty colors. \n",
      "\n",
      "Let's examine the contents of cell $i=4$, $j=3$. It looks blue, but what is the mixture of colors actually?"
     ]
    },
    {
     "cell_type": "code",
     "collapsed": false,
     "input": [
      "almost_blue_pixel = random_color_image[4, 3]\n",
      "almost_blue_pixel"
     ],
     "language": "python",
     "metadata": {},
     "outputs": []
    },
    {
     "cell_type": "markdown",
     "metadata": {},
     "source": [
      "**Exercise** Make separate red, green and blue pixel arrays called `red_pixel`, `green_pixel` and `blue_pixel`. They should have the same shape as `almost_blue_pixel`. Then display all of them in a 5 by 1 image, where the fourth pixel is the sum of the previous three, and the fifth pixel consists of all zeros."
     ]
    },
    {
     "cell_type": "code",
     "collapsed": false,
     "input": [
      "# Your code here"
     ],
     "language": "python",
     "metadata": {},
     "outputs": []
    },
    {
     "cell_type": "heading",
     "level": 3,
     "metadata": {},
     "source": [
      "Converting between images"
     ]
    },
    {
     "cell_type": "markdown",
     "metadata": {},
     "source": [
      "It is useful to be able to convert between color images, grayscale images, and black-and-white images. Color images are richer than grayscale images, which again contain more information than black-and-white images. Conversion is this direction therefore loses information. However, grayscale and black-and-white images may be used for other purposes than display: filters, selectors, and masks. \n",
      "\n",
      "In this exercise you will convert an image from RGB colors to grayscale. First you will use a simple method in which red, green, and blue contribute equally to the lightness of the pixels in the grayscale image. This works surpringly well for many images, including all of the test images distributed with scikit-image. For the image you are given, however, a better method exists. \n",
      "\n",
      "We begin by loading in the image."
     ]
    },
    {
     "cell_type": "code",
     "collapsed": false,
     "input": [
      "parrot_image = data.imread(\"parrot-green-yellow.jpg\")\n",
      "imshow(parrot_image)"
     ],
     "language": "python",
     "metadata": {},
     "outputs": []
    },
    {
     "cell_type": "markdown",
     "metadata": {},
     "source": [
      "**Exercise** Display the individual color channels in a 3-column subplot. By default `imshow` uses the current active axis, which you can change by calling `plt.sca`. The title of each subplot should be the name of the color channel."
     ]
    },
    {
     "cell_type": "code",
     "collapsed": false,
     "input": [
      "fig, axes = plt.subplots(ncols=3)\n",
      "fig.set_size_inches(15, 10)\n",
      "\n",
      "# Your code here"
     ],
     "language": "python",
     "metadata": {},
     "outputs": []
    },
    {
     "cell_type": "markdown",
     "metadata": {},
     "source": [
      "**Exercise** Reduce the color image to a gray-scale image by taking the mean across the color channnels. After the reduction the image should be in a $300 \\times 400$ array. Display the final image."
     ]
    },
    {
     "cell_type": "code",
     "collapsed": false,
     "input": [
      "# Your code here"
     ],
     "language": "python",
     "metadata": {},
     "outputs": []
    },
    {
     "cell_type": "markdown",
     "metadata": {},
     "source": [
      "In the averaged image each color channel contributes equally. Perceptually, however, we are much more sensitive to greens. This fact motivates the `color.rgb2gray` function, which combines the colors in a non-uniform way, as per this equation:\n",
      "\n",
      "$$\\text{gray} = .2125r + .7154g + .0721b$$\n"
     ]
    },
    {
     "cell_type": "code",
     "collapsed": false,
     "input": [
      "from skimage import color\n",
      "imshow(color.rgb2gray(parrot_image))"
     ],
     "language": "python",
     "metadata": {},
     "outputs": []
    },
    {
     "cell_type": "markdown",
     "metadata": {},
     "source": [
      "The color transformation of `rgb2gray` boils down to a weighted average.\n",
      "\n",
      "**Exercise** Use `np.average` to perform grayscale conversion with same color mixing as in `rgb2gray`. Use the channel weights from the equation. Experiment with other color proportions."
     ]
    },
    {
     "cell_type": "code",
     "collapsed": false,
     "input": [
      "# Your code here\n"
     ],
     "language": "python",
     "metadata": {},
     "outputs": []
    }
   ],
   "metadata": {}
  }
 ]
}