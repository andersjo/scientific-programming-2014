{
 "metadata": {
  "name": "",
  "signature": "sha256:0f2f3f1df9f3a8c3c999b55952a9a7bdf0ceca5b20cfe93fe67ce473f6bdf057"
 },
 "nbformat": 3,
 "nbformat_minor": 0,
 "worksheets": [
  {
   "cells": [
    {
     "cell_type": "markdown",
     "metadata": {},
     "source": [
      "## Writing type-rich code\n",
      "\n",
      "Python comes with a wealth of built-in types ranging from essential primitives like *numbers* and *strings* to collections such as *dictionaries*, *tuples*, and *lists*. By combining the types that come with the language you can write just about anything, and indeed that's the way many scripts are written. \n",
      "\n",
      "However, a general purpose programming language like Python can only go so far in providing structures that make it easy and convenient to work with your specific problem. If you are interested in dependency parsing, you often need to store and manipulate the dependencies between the tokens of a sentence, as well as properties of these tokens. You can do this with a set of parallel arrays:\n",
      "\n",
      "```\n",
      "id = \"s01\"\n",
      "forms = [\"John\", \"loves\", ...]\n",
      "heads = [1, 0, ...]\n",
      "tags = [\"NOUN\", \"VERB\", ...]\n",
      "```\n",
      "\n",
      "But if you have more than one sentence, this quickly becomes somewhat unweildy:\n",
      "\n",
      "```\n",
      "id_s01 = \"s01\"\n",
      "forms_s01 = [\"John\", \"loves\", ...]\n",
      "heads_s01 = [1, 0, ...]\n",
      "tags_s01 = [\"NOUN\", \"VERB\", ...]\n",
      "\n",
      "id_s02 = \"s02\"\n",
      "forms_s02 = [\"Jesus\", \"wept\"]\n",
      "heads_s02 = [1, 0]\n",
      "tags_s02 = [\"NOUN\", \"VERB\"]\n",
      "```\n",
      "\n",
      "To keep things managable we could represent each sentence as a *dictionary* and put all of them in a *list*:\n",
      "\n",
      "```\n",
      "[{'id': \"s01\",\n",
      "  'forms': [\"John\", \"loves\", ...],\n",
      "  'heads': [1, 0, ...],\n",
      "  'tags': [\"NOUN\", \"VERB\", ...]\n",
      "  },\n",
      "  {'id': \"s02\",\n",
      "  'forms': [\"Jesus\", \"wept\"],\n",
      "  'heads': [1, 0],\n",
      "  'tags': [\"NOUN\", \"VERB\"\n",
      "  }]\n",
      "```\n",
      "\n",
      "Note that we no longer need the `_s01` and `_s02` prefixes and can access attributes of different sentences by the same name (e.g. `forms` or `heads`). Because each sentence has its own dictionary, the names do not collide. Another way to say this is that the sentences have private *namespaces*. \n",
      "\n",
      "The idea of a namespace is pervasive in type-rich programming. In fact it is common to have user-defined types that do nothing but contain data. Here is a simple example"
     ]
    },
    {
     "cell_type": "code",
     "collapsed": false,
     "input": [
      "class Sentence(object): # All classes inherit from `object`\n",
      "\n",
      "    def __init__(self, id, forms, heads, tags): \n",
      "        self.id = id\n",
      "        self.forms = forms\n",
      "        self.heads = heads\n",
      "        self.tags = tags"
     ],
     "language": "python",
     "metadata": {},
     "outputs": []
    },
    {
     "cell_type": "markdown",
     "metadata": {},
     "source": [
      "We make one *instance* of the class in the cell below. This calls the special function `__init__`, which are passed the parameters and performs any necessary initialization. \n",
      "\n",
      "#### Terminology \n",
      "\n",
      "- Instances of classes are called *objects* or *instances*.\n",
      "- Functions defined in the context of a class are called *methods*. \n",
      "- Variables within classes are sometimes referred to as *member variables*.\n",
      "- The funny looking `__init__` method is called a *constructor*"
     ]
    },
    {
     "cell_type": "code",
     "collapsed": false,
     "input": [
      "short = Sentence(id=\"s02\", forms=[\"Jesus\", \"wept\"], heads=[1, 0], tags=[\"NOUN\", \"VERB\"])\n",
      "short"
     ],
     "language": "python",
     "metadata": {},
     "outputs": []
    },
    {
     "cell_type": "markdown",
     "metadata": {},
     "source": [
      "The member variables, which on the *inside* (within the class definition) are referenced using `self` (e.g. `self.forms`), can be accessed on the *outside* using the name of the instance. "
     ]
    },
    {
     "cell_type": "code",
     "collapsed": false,
     "input": [
      "print short.forms\n",
      "print short.heads"
     ],
     "language": "python",
     "metadata": {},
     "outputs": []
    },
    {
     "cell_type": "markdown",
     "metadata": {},
     "source": [
      "### Encapsulation and data consistency\n",
      "\n",
      "So far custom types at least one advantage over dictionaries: Python checks your code for (some types of) spelling mistakes. In languages like C and Java custom types are also much faster than dictionaries. For instance, Python will throw an error if you mispell `forms` as `forns` when you access a member variable. A custom type limits your freedom the data by *encapsulating*  it. This is a good thing, because it prevents many errors. \n",
      "\n",
      "Encapsulating enables you to go further in ensuring that your data is consistent. One useful pattern is to check for consistency in the initializer and fail to construct the object if the data is invalid. This obsession with errors may seem strange, since we want our programs to run without errors. But errors will always find a way to surface, and it is much preferable to catch an error as early and as close to the point where it is introduced as possible, since that makes the cost of finding it far smaller.\n",
      "\n",
      "Furthermore, if you only manipulate the data through methods provided provided by the class, you can even maintain the consistency throughout the lifetime of an object through a *class invariant*. "
     ]
    },
    {
     "cell_type": "code",
     "collapsed": false,
     "input": [
      "class ConsistentSentence(object): \n",
      "\n",
      "    def __init__(self, id, forms, heads, tags): \n",
      "        assert len(forms) == len(heads), \"Forms and heads should be same length\"\n",
      "        assert len(heads) == len(tags), \"Heads and tags should be same length\"\n",
      "        \n",
      "        self.id = id\n",
      "        self.forms = forms\n",
      "        self.heads = heads\n",
      "        self.tags = tags\n"
     ],
     "language": "python",
     "metadata": {},
     "outputs": []
    },
    {
     "cell_type": "code",
     "collapsed": false,
     "input": [
      "short = ConsistentSentence(id=\"s02\", forms=[\"Jesus\", \"wept\"], heads=[1, 0, 0], tags=[\"NOUN\", \"VERB\"])\n",
      "short"
     ],
     "language": "python",
     "metadata": {},
     "outputs": []
    },
    {
     "cell_type": "markdown",
     "metadata": {},
     "source": [
      "### Methods "
     ]
    },
    {
     "cell_type": "code",
     "collapsed": false,
     "input": [
      "class SentenceWithMethods(object): \n",
      "\n",
      "    def __init__(self, id, forms, heads, tags): \n",
      "        self.id = id\n",
      "        self.forms = forms\n",
      "        self.heads = heads\n",
      "        self.tags = tags\n",
      "        \n",
      "    def number_of_chars(self):\n",
      "        n_chars = sum(len(form) for form in self.forms) + len(self.forms) - 1\n",
      "        return max(n_chars, 0)\n",
      "    "
     ],
     "language": "python",
     "metadata": {},
     "outputs": []
    },
    {
     "cell_type": "code",
     "collapsed": false,
     "input": [
      "short = SentenceWithMethods(id=\"s02\", forms=[\"Jesus\", \"wept\"], heads=[1, 0], tags=[\"NOUN\", \"VERB\"])\n",
      "short.number_of_chars()"
     ],
     "language": "python",
     "metadata": {},
     "outputs": []
    },
    {
     "cell_type": "markdown",
     "metadata": {},
     "source": [
      "## Generalizing behavior\n",
      "\n",
      "Since custom types allow us to package both behavoir (via methods) and data (using member variables), they are ideal candidates for abstracting algorithms. \n",
      "\n",
      "Recall that the only difference between depth-first search (DFS) and breath-first search (BFS) was the type of data structure used for the fringe. DFS uses a stack where BFS uses a queue. In the example below we abstract the fringe data structures as custom types and provide them as arguments for the `search` function. "
     ]
    },
    {
     "cell_type": "code",
     "collapsed": false,
     "input": [
      "import numpy as np\n",
      "\n",
      "# generate a graph\n",
      "A = np.zeros((12,12), dtype=int)\n",
      "edges = {1:[0], 2:[0], 3:[1,2,4], 4:[8,10], 5:[6], 7:[3,4,9], 8:[5], 9:[11], 10:[9,11]}\n",
      "for start_state, goal_list in edges.iteritems():\n",
      "    for goal in goal_list:\n",
      "        A[start_state, goal] = 1\n",
      "\n",
      "\n",
      "class Search(object):\n",
      "    \n",
      "    def __init__(self):\n",
      "        '''\n",
      "        there is no fringe in the generic Search object\n",
      "        '''\n",
      "        self.fringe = None\n",
      "        \n",
      "    def put(self, node):\n",
      "        '''\n",
      "        this ensures that the user has to choose one implementation\n",
      "        '''\n",
      "        raise NotImplementedError\n",
      "        \n",
      "    def get(self):\n",
      "        '''\n",
      "        this ensures that the user has to choose one implementation\n",
      "        '''\n",
      "        raise NotImplementedError\n",
      "        \n",
      "    def get_children(self, graph, node):\n",
      "        '''\n",
      "        just a helper function\n",
      "        '''\n",
      "        return np.nonzero(graph[node])[0].tolist()\n",
      "        \n",
      "    def run(self, graph, goal, start):\n",
      "        '''\n",
      "        the generic search algorithm\n",
      "        '''        \n",
      "        visited = set([start])\n",
      "        path = []\n",
      "        \n",
      "        self.put([start])               # <-- use the respective method to add to the fringe\n",
      "\n",
      "        while not self.is_empty():      # <-- use respective method to check whether fringe is empty\n",
      "            current_path = self.get()   # <-- use the respective method to get the next node to expand\n",
      "            current = current_path[-1]\n",
      "            path.append(current)\n",
      "\n",
      "            if current == goal:\n",
      "                return current_path\n",
      "\n",
      "            else:\n",
      "                children = self.get_children(graph, current)\n",
      "\n",
      "                for child in children:\n",
      "                    if child not in visited or child == goal:\n",
      "                        self.put(current_path + [child]) # <-- use the respective method to add to the fringe\n",
      "                        visited.add(child) \n",
      "        return None\n",
      " \n",
      "    \n",
      "class DFS(Search):\n",
      "    '''\n",
      "    implements depth-first-search\n",
      "    '''\n",
      "    \n",
      "    def __init__(self):\n",
      "        '''\n",
      "        fringe is a stack\n",
      "        '''\n",
      "        self.fringe = []\n",
      "    \n",
      "    def put(self, node):\n",
      "        self.fringe.append(node)\n",
      "        \n",
      "    def get(self):\n",
      "        return self.fringe.pop()\n",
      "        \n",
      "    def is_empty(self):\n",
      "        return len(self.fringe) == 0\n",
      "\n",
      "    \n",
      "class BFS(Search):\n",
      "    '''\n",
      "    implements breadth-first-search\n",
      "    '''\n",
      "    \n",
      "    def __init__(self):\n",
      "        '''\n",
      "        fringe is a queue\n",
      "        '''\n",
      "        from Queue import Queue\n",
      "        self.fringe = Queue()\n",
      "    \n",
      "    def put(self, node):\n",
      "        self.fringe.put(node)\n",
      "        \n",
      "    def get(self):\n",
      "        return self.fringe.get()\n",
      "        \n",
      "    def is_empty(self):\n",
      "        return self.fringe.empty()\n",
      "\n",
      "    \n",
      "my_dfs_search = DFS()\n",
      "my_bfs_search = BFS()\n",
      "\n",
      "print my_dfs_search.run(A, 5, 7)\n",
      "print my_bfs_search.run(A, 5, 7)"
     ],
     "language": "python",
     "metadata": {},
     "outputs": [
      {
       "output_type": "stream",
       "stream": "stdout",
       "text": [
        "[7, 4, 8, 5]\n",
        "[7, 4, 8, 5]\n"
       ]
      }
     ],
     "prompt_number": 17
    },
    {
     "cell_type": "markdown",
     "metadata": {},
     "source": [
      "## Modeling choices\n",
      "\n",
      "When do you need to define custom types and what should they be?\n",
      "\n",
      "- In machine learning you have *classifiers*, *preprocessing steps*, and *\n",
      "\n",
      "- Information retrieval deals *documents* and have different *ranking strategies*.\n",
      "\n",
      "- Physics simulations model *particles*. \n",
      "\n",
      "- A chess game has a *board* and a *game strategy*. "
     ]
    },
    {
     "cell_type": "markdown",
     "metadata": {},
     "source": [
      "## Duck-typing\n",
      "\n",
      "![]()\n",
      "\n"
     ]
    },
    {
     "cell_type": "markdown",
     "metadata": {},
     "source": [
      "The type system in Python is very lax in the sense that it rarely if ever insists on a specific type. What matters is that the type can do what is is asked to do. E.g. implements a function with a particular name.\n",
      "\n",
      "In other words, **if it walks like a duck and quacks like a duck, it is a duck.**\n",
      "\n",
      "\n",
      "![duck_and_owl.jpg](duck_and_owl.jpg)\n",
      "![duck_and_owl.jpg](lokkeand.jpg)\n",
      "\n",
      "For Python it doesn't matter whether the type is called `LogisticRegression` or `NaiveBayes` as long it implements, say, the `.fit()` function."
     ]
    },
    {
     "cell_type": "markdown",
     "metadata": {},
     "source": [
      "## Class inheritance\n",
      "\n",
      "Class inheritance is a powerful mechanism, which is often misused. It is most useful when your code models entities with **is-a** relationships. \n",
      "\n",
      "A class hierarchy reflects a particular view of the world. If that turns out to be out of sync with reality, it is often costly to refactor."
     ]
    },
    {
     "cell_type": "code",
     "collapsed": false,
     "input": [
      "class Person(object):\n",
      "    def __init__(self, first_name, last_name, birth_year):\n",
      "        print \"Person  __init__ called with\", first_name, last_name, birth_year\n",
      "        self.first_name = first_name\n",
      "        self.last_name = last_name\n",
      "        self.birth_year = birth_year\n",
      "\n",
      "class Worker(Person):\n",
      "    pass\n",
      "\n",
      "class Leader(Person):\n",
      "    def __init__(self, first_name, last_name, birth_year, n_subjects):\n",
      "        super(Leader, self).__init__(first_name, last_name, birth_year)\n",
      "        print \"Leader __init__ called with\", first_name, last_name, birth_year, n_subjects\n",
      "        self.n_subjects = n_subjects\n",
      "        \n",
      "class Queen(Leader):\n",
      "    def __init__(self, first_name, last_name, birth_year, n_subjects, year_of_ascension):\n",
      "        super(Queen, self).__init__(first_name, last_name, birth_year, n_subjects)\n",
      "        print \"Queen __init__ called with\", first_name, last_name, birth_year, n_subjects, year_of_ascension\n",
      "        self.year_of_ascension = year_of_ascension"
     ],
     "language": "python",
     "metadata": {},
     "outputs": []
    },
    {
     "cell_type": "code",
     "collapsed": false,
     "input": [
      "margrethe = Queen(\"Margrethe\", \"Rex\", 1940, 5E6, 1972)"
     ],
     "language": "python",
     "metadata": {},
     "outputs": []
    },
    {
     "cell_type": "code",
     "collapsed": false,
     "input": [
      "margrethe.year_of_ascension"
     ],
     "language": "python",
     "metadata": {},
     "outputs": []
    },
    {
     "cell_type": "markdown",
     "metadata": {},
     "source": [
      "## Special methods\n",
      "\n",
      "- `__repr__` \n",
      "- `__str__`\n",
      "- `__cmp__`\n",
      "- `__hash__`\n",
      "\n"
     ]
    },
    {
     "cell_type": "code",
     "collapsed": false,
     "input": [],
     "language": "python",
     "metadata": {},
     "outputs": []
    }
   ],
   "metadata": {}
  }
 ]
}