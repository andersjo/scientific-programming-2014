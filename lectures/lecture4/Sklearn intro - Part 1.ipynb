{
 "metadata": {
  "name": "",
  "signature": "sha256:3536cd30cb56ad823d2b07634698e9b96cbfd1ae0b78196d3d4360e38c2e4fe1"
 },
 "nbformat": 3,
 "nbformat_minor": 0,
 "worksheets": [
  {
   "cells": [
    {
     "cell_type": "heading",
     "level": 1,
     "metadata": {},
     "source": [
      "Introduction to sklearn: `fit`, `predict`, and `score`"
     ]
    },
    {
     "cell_type": "code",
     "collapsed": false,
     "input": [
      "%matplotlib inline\n",
      "import sklearn\n",
      "import pandas as pd\n",
      "import numpy as np\n",
      "from matplotlib import pyplot as plt\n",
      "import codecs\n",
      "import json"
     ],
     "language": "python",
     "metadata": {},
     "outputs": []
    },
    {
     "cell_type": "heading",
     "level": 3,
     "metadata": {},
     "source": [
      "Task: Professional athelete classification"
     ]
    },
    {
     "cell_type": "markdown",
     "metadata": {},
     "source": [
      "From a pool of professional athletes, can we predict who is a sumo wrestler and who is a Major League Baseball player?\n",
      "\n",
      "![Sumo vs. Major League Baseball](sumo-vs-mlb.jpg)\n",
      "\n",
      "\n",
      "#### Sumos\n",
      "Data on sumo wrestlers was obtained by issuing this [query](http://tinyurl.com/m5k2ej8) on FreeBase."
     ]
    },
    {
     "cell_type": "code",
     "collapsed": false,
     "input": [
      "sumo_json = json.loads(codecs.open(\"sumos.json\", encoding='utf-8').read())\n",
      "sumo = pd.DataFrame(sumo_json['result'])\n",
      "sumo['height_cm'] = sumo.height_meters * 100\n",
      "sumo.tail()"
     ],
     "language": "python",
     "metadata": {},
     "outputs": []
    },
    {
     "cell_type": "heading",
     "level": 4,
     "metadata": {},
     "source": [
      "Baseball players"
     ]
    },
    {
     "cell_type": "markdown",
     "metadata": {},
     "source": [
      "The dataset with height and weight for players in Major League Baseball (MLB) was downloaded from this [HTML page](http://wiki.stat.ucla.edu/socr/index.php/SOCR_Data_MLB_HeightsWeights#SOCR_Data_-_1035_Records_of_Heights_.28in.29_and_Weights_.28lbs.29_of_Major_League_Baseball_Players), copied into a spreadsheet and exported as a csv-file."
     ]
    },
    {
     "cell_type": "code",
     "collapsed": false,
     "input": [
      "mlb = pd.read_csv(\"mlb_heights.csv\", encoding='utf-8')\n",
      "mlb['height_cm'] = mlb.Height_inches * 2.54\n",
      "mlb['weight_kg'] = mlb.Weight_pounds * 0.45359237\n",
      "mlb.tail()"
     ],
     "language": "python",
     "metadata": {},
     "outputs": []
    },
    {
     "cell_type": "heading",
     "level": 4,
     "metadata": {},
     "source": [
      "Combining MLB players and sumo wrestlers"
     ]
    },
    {
     "cell_type": "code",
     "collapsed": false,
     "input": [
      "sumo_vs_mlb = pd.concat([sumo[['height_cm', 'weight_kg']], \n",
      "                         mlb.ix[100:200, ['height_cm', 'weight_kg']]])\n",
      "sumo_vs_mlb.tail()"
     ],
     "language": "python",
     "metadata": {},
     "outputs": []
    },
    {
     "cell_type": "code",
     "collapsed": false,
     "input": [
      "is_sumo = np.ones(len(sumo_vs_mlb))\n",
      "is_sumo[len(sumo):] = 0\n",
      "is_sumo"
     ],
     "language": "python",
     "metadata": {},
     "outputs": []
    },
    {
     "cell_type": "code",
     "collapsed": false,
     "input": [
      "colors = np.where(is_sumo, 'b', 'r')\n",
      "sumo_vs_mlb.plot(kind='scatter', x='weight_kg', y='height_cm', color=colors);"
     ],
     "language": "python",
     "metadata": {},
     "outputs": []
    },
    {
     "cell_type": "heading",
     "level": 3,
     "metadata": {},
     "source": [
      "From pandas to sklearn"
     ]
    },
    {
     "cell_type": "code",
     "collapsed": false,
     "input": [
      "X = sumo_vs_mlb[['weight_kg', 'height_cm']].values\n",
      "print \"shape\", X.shape\n",
      "X"
     ],
     "language": "python",
     "metadata": {},
     "outputs": []
    },
    {
     "cell_type": "heading",
     "level": 4,
     "metadata": {},
     "source": [
      "Creating a fixed train and test set"
     ]
    },
    {
     "cell_type": "code",
     "collapsed": false,
     "input": [
      "from sklearn.cross_validation import train_test_split\n",
      "X_train, X_test, y_train, y_test = train_test_split(X, is_sumo, random_state=100)\n",
      "print \"Train shape\", X_train.shape, \"Test shape\", X_test.shape"
     ],
     "language": "python",
     "metadata": {},
     "outputs": []
    },
    {
     "cell_type": "heading",
     "level": 3,
     "metadata": {},
     "source": [
      "Fitting the classifier"
     ]
    },
    {
     "cell_type": "code",
     "collapsed": false,
     "input": [
      "from sklearn.linear_model import Perceptron\n",
      "perceptron = Perceptron()\n",
      "perceptron"
     ],
     "language": "python",
     "metadata": {},
     "outputs": []
    },
    {
     "cell_type": "code",
     "collapsed": false,
     "input": [
      "perceptron.fit(X_train, y_train);"
     ],
     "language": "python",
     "metadata": {},
     "outputs": []
    },
    {
     "cell_type": "code",
     "collapsed": false,
     "input": [
      "perceptron.predict(X_test)"
     ],
     "language": "python",
     "metadata": {},
     "outputs": []
    },
    {
     "cell_type": "heading",
     "level": 3,
     "metadata": {},
     "source": [
      "Evaluation"
     ]
    },
    {
     "cell_type": "code",
     "collapsed": false,
     "input": [
      "y_pred = perceptron.predict(X_test)\n",
      "y_pred"
     ],
     "language": "python",
     "metadata": {},
     "outputs": []
    },
    {
     "cell_type": "code",
     "collapsed": false,
     "input": [
      "n_correct = (y_pred == y_test).sum()\n",
      "print \"Accuracy\", n_correct / float(y_test.shape[0])"
     ],
     "language": "python",
     "metadata": {},
     "outputs": []
    },
    {
     "cell_type": "code",
     "collapsed": false,
     "input": [
      "perceptron.score(X_test, y_test)"
     ],
     "language": "python",
     "metadata": {},
     "outputs": []
    },
    {
     "cell_type": "code",
     "collapsed": false,
     "input": [
      "from sklearn.metrics import precision_score, recall_score, f1_score, classification_report\n",
      "\n",
      "print \"Precision\", precision_score(y_test, y_pred)\n",
      "print \"Recall\", recall_score(y_test, y_pred)\n",
      "print \"F1 (balanced)\", f1_score(y_test, y_pred)"
     ],
     "language": "python",
     "metadata": {},
     "outputs": []
    },
    {
     "cell_type": "code",
     "collapsed": false,
     "input": [
      "print classification_report(y_test, y_pred)"
     ],
     "language": "python",
     "metadata": {},
     "outputs": []
    },
    {
     "cell_type": "heading",
     "level": 3,
     "metadata": {},
     "source": [
      "Estimated parameters of the model"
     ]
    },
    {
     "cell_type": "code",
     "collapsed": false,
     "input": [
      "print \"shape\", perceptron.coef_.shape\n",
      "perceptron.coef_"
     ],
     "language": "python",
     "metadata": {},
     "outputs": []
    },
    {
     "cell_type": "code",
     "collapsed": false,
     "input": [
      "print \"shape\", perceptron.intercept_.shape\n",
      "perceptron.intercept_"
     ],
     "language": "python",
     "metadata": {},
     "outputs": []
    },
    {
     "cell_type": "heading",
     "level": 4,
     "metadata": {},
     "source": [
      "Plotting the decision boundary"
     ]
    },
    {
     "cell_type": "code",
     "collapsed": false,
     "input": [
      "def decision_boundary(w, bias, dist=0, x_start=0, x_end=300):\n",
      "    y_start = -(x_start * w[0] + bias - dist) / w[1]\n",
      "    y_end = -(x_end * w[0] + bias - dist) / w[1]\n",
      "    return [x_start, x_end], [y_start, y_end]\n",
      "\n",
      "xx, yy = decision_boundary(perceptron.coef_[0], perceptron.intercept_[0])\n",
      "sumo_vs_mlb.plot(kind='scatter', x='weight_kg', y='height_cm', color=colors);\n",
      "plt.xlim(60, 300)\n",
      "plt.ylim(160, 210)\n",
      "plt.plot(xx, yy);"
     ],
     "language": "python",
     "metadata": {},
     "outputs": []
    },
    {
     "cell_type": "heading",
     "level": 3,
     "metadata": {},
     "source": [
      "All classifiers support a uniform interface"
     ]
    },
    {
     "cell_type": "heading",
     "level": 4,
     "metadata": {},
     "source": [
      "Same procecedure as above, but with logistic regression"
     ]
    },
    {
     "cell_type": "code",
     "collapsed": false,
     "input": [
      "from sklearn.linear_model import LogisticRegression\n",
      "\n",
      "logistic = LogisticRegression()\n",
      "logistic"
     ],
     "language": "python",
     "metadata": {},
     "outputs": []
    },
    {
     "cell_type": "code",
     "collapsed": false,
     "input": [
      "logistic.fit(X_train, y_train)\n",
      "xx, yy = decision_boundary(logistic.coef_[0], logistic.intercept_[0])\n",
      "sumo_vs_mlb.plot(kind='scatter', x='weight_kg', y='height_cm', color=colors)\n",
      "plt.xlim(60, 300)\n",
      "plt.ylim(160, 210)\n",
      "plt.plot(xx, yy);"
     ],
     "language": "python",
     "metadata": {},
     "outputs": []
    },
    {
     "cell_type": "code",
     "collapsed": false,
     "input": [
      "y_pred = logistic.predict(X_test)\n",
      "print classification_report(y_test, y_pred)"
     ],
     "language": "python",
     "metadata": {},
     "outputs": []
    }
   ],
   "metadata": {}
  }
 ]
}