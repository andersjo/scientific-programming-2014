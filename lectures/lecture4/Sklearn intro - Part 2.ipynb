{
 "metadata": {
  "name": "",
  "signature": "sha256:0c32afcb92b7f7474306adbf4bbafd415e05cc00a694fc047bef0605a15a8750"
 },
 "nbformat": 3,
 "nbformat_minor": 0,
 "worksheets": [
  {
   "cells": [
    {
     "cell_type": "heading",
     "level": 1,
     "metadata": {},
     "source": [
      "Introduction to sklearn: Feature vectorization and preprocessing"
     ]
    },
    {
     "cell_type": "code",
     "collapsed": false,
     "input": [
      "%matplotlib inline\n",
      "import sklearn\n",
      "import pandas as pd\n",
      "import numpy as np"
     ],
     "language": "python",
     "metadata": {},
     "outputs": []
    },
    {
     "cell_type": "markdown",
     "metadata": {},
     "source": [
      "### Flow chart of a machine learning experiment in sklearn\n",
      "\n",
      "![Flow chart](supervised_scikit_learn.png)\n",
      "\n",
      "The flow chart above is borrowed from the AstroML [tutorial on sklearn](http://www.astroml.org/sklearn_tutorial/general_concepts.html). \n",
      "\n",
      "Compared to the setup of the first part it includes an additional *feature vectorization* step."
     ]
    },
    {
     "cell_type": "heading",
     "level": 3,
     "metadata": {},
     "source": [
      "Task: Prediction of survival on the Titanic"
     ]
    },
    {
     "cell_type": "markdown",
     "metadata": {},
     "source": [
      "The data is from a (currently running!) [competition](https://www.kaggle.com/c/titanic-gettingStarted) on the Machine learning contest site [Kaggle](https://www.kaggle.com). You are asked to predict whether a person survived the diaster given demographic such as gender and age, as well as additional information, such the price of the ticket, the room number of the cabin, etc."
     ]
    },
    {
     "cell_type": "code",
     "collapsed": false,
     "input": [
      "titanic = pd.read_csv(\"titanic_train.csv\", index_col=0)\n",
      "D_train = titanic.copy()\n",
      "del D_train['Survived']"
     ],
     "language": "python",
     "metadata": {},
     "outputs": []
    },
    {
     "cell_type": "markdown",
     "metadata": {},
     "source": [
      "Let's have a look at the data. For convenience, the variable descriptions from the [dataset homepage](https://www.kaggle.com/c/titanic-gettingStarted/data?genderclassmodel.csv) on Kaggle is reproduced below:\n",
      "\n",
      "````\n",
      "VARIABLE DESCRIPTIONS:\n",
      "survival        Survival\n",
      "                (0 = No; 1 = Yes)\n",
      "pclass          Passenger Class\n",
      "                (1 = 1st; 2 = 2nd; 3 = 3rd)\n",
      "name            Name\n",
      "sex             Sex\n",
      "age             Age\n",
      "sibsp           Number of Siblings/Spouses Aboard\n",
      "parch           Number of Parents/Children Aboard\n",
      "ticket          Ticket Number\n",
      "fare            Passenger Fare\n",
      "cabin           Cabin\n",
      "embarked        Port of Embarkation\n",
      "                (C = Cherbourg; Q = Queenstown; S = Southampton)\n",
      "````"
     ]
    },
    {
     "cell_type": "code",
     "collapsed": false,
     "input": [
      "titanic.head()"
     ],
     "language": "python",
     "metadata": {},
     "outputs": []
    },
    {
     "cell_type": "heading",
     "level": 3,
     "metadata": {},
     "source": [
      "Getting to know the data"
     ]
    },
    {
     "cell_type": "heading",
     "level": 4,
     "metadata": {},
     "source": [
      "What are good predictors of survival?"
     ]
    },
    {
     "cell_type": "code",
     "collapsed": false,
     "input": [
      "titanic.corr().Survived"
     ],
     "language": "python",
     "metadata": {},
     "outputs": []
    },
    {
     "cell_type": "heading",
     "level": 4,
     "metadata": {},
     "source": [
      "Survival per gender, grouped by passenger class"
     ]
    },
    {
     "cell_type": "code",
     "collapsed": false,
     "input": [
      "titanic.groupby(['Pclass', 'Sex']).Survived.mean()"
     ],
     "language": "python",
     "metadata": {},
     "outputs": []
    },
    {
     "cell_type": "heading",
     "level": 3,
     "metadata": {},
     "source": [
      "Handling missing values"
     ]
    },
    {
     "cell_type": "markdown",
     "metadata": {},
     "source": [
      "Percentage of values missing per column"
     ]
    },
    {
     "cell_type": "code",
     "collapsed": false,
     "input": [
      "D_train.isnull().sum() / float(len(D_train))"
     ],
     "language": "python",
     "metadata": {},
     "outputs": []
    },
    {
     "cell_type": "markdown",
     "metadata": {},
     "source": [
      "Considering that the majority of values in `Cabin` are missing, we decide to drop this column. Missing values in `Embarked` and `Cabin` are replaced with the most common value. Of course, one should be careful about such decisions, since they may greatly impact the predictive power of the final model. "
     ]
    },
    {
     "cell_type": "code",
     "collapsed": false,
     "input": [
      "del D_train['Cabin']\n",
      "D_train.Embarked.fillna(D_train.Embarked.mode()[0], inplace=True)\n",
      "D_train.Age.fillna(D_train.Age.mode()[0], inplace=True)"
     ],
     "language": "python",
     "metadata": {},
     "outputs": []
    },
    {
     "cell_type": "markdown",
     "metadata": {},
     "source": [
      "Recheck missing values"
     ]
    },
    {
     "cell_type": "code",
     "collapsed": false,
     "input": [
      "D_train.isnull().sum() / float(len(D_train))"
     ],
     "language": "python",
     "metadata": {},
     "outputs": []
    },
    {
     "cell_type": "heading",
     "level": 3,
     "metadata": {},
     "source": [
      "Preparing the input using `DictVectorizer`"
     ]
    },
    {
     "cell_type": "code",
     "collapsed": false,
     "input": [
      "from sklearn.feature_extraction import DictVectorizer"
     ],
     "language": "python",
     "metadata": {},
     "outputs": []
    },
    {
     "cell_type": "code",
     "collapsed": false,
     "input": [
      "vec = DictVectorizer()\n",
      "vec"
     ],
     "language": "python",
     "metadata": {},
     "outputs": []
    },
    {
     "cell_type": "markdown",
     "metadata": {},
     "source": [
      "The `.fit` method of `DictVectorizer` accepts a list of dictionaries where keys are feature names"
     ]
    },
    {
     "cell_type": "code",
     "collapsed": false,
     "input": [
      "toy_data = [{'sex': 'M', 'age': 45}, {'sex': 'F', 'age': 29, 'first_class': True}]\n",
      "vec.fit(toy_data)\n",
      "X = vec.transform(toy_data)\n",
      "X"
     ],
     "language": "python",
     "metadata": {},
     "outputs": []
    },
    {
     "cell_type": "code",
     "collapsed": false,
     "input": [
      "# Same result, but combines the two operations\n",
      "X = vec.fit_transform(toy_data)\n",
      "X"
     ],
     "language": "python",
     "metadata": {},
     "outputs": []
    },
    {
     "cell_type": "markdown",
     "metadata": {},
     "source": [
      "Visualizing the result"
     ]
    },
    {
     "cell_type": "code",
     "collapsed": false,
     "input": [
      "pd.DataFrame(X.toarray(), columns=vec.get_feature_names())"
     ],
     "language": "python",
     "metadata": {},
     "outputs": []
    },
    {
     "cell_type": "markdown",
     "metadata": {},
     "source": [
      "Tip: If your dataset is in a `DataFrame`, you can get the list of dictionaries format using the `to_dict` method"
     ]
    },
    {
     "cell_type": "code",
     "collapsed": false,
     "input": [
      "titanic.iloc[:2].to_dict('records')"
     ],
     "language": "python",
     "metadata": {},
     "outputs": []
    },
    {
     "cell_type": "heading",
     "level": 3,
     "metadata": {},
     "source": [
      "Transform the Titanic dataset"
     ]
    },
    {
     "cell_type": "code",
     "collapsed": false,
     "input": [
      "vec = DictVectorizer()\n",
      "y = titanic.Survived.values\n",
      "\n",
      "# Note we must use `D_train`. Otherwise we are including the attribute to predict (Survived) in the training set\n",
      "X = vec.fit_transform(D_train.to_dict('records'))\n",
      "X"
     ],
     "language": "python",
     "metadata": {},
     "outputs": []
    },
    {
     "cell_type": "code",
     "collapsed": false,
     "input": [
      "from sklearn.cross_validation import train_test_split\n",
      "X_train, X_test, y_train, y_test = train_test_split(X, y)"
     ],
     "language": "python",
     "metadata": {},
     "outputs": []
    },
    {
     "cell_type": "code",
     "collapsed": false,
     "input": [
      "from sklearn.linear_model import LogisticRegression\n",
      "from sklearn.metrics import classification_report\n",
      "\n",
      "clf = LogisticRegression()\n",
      "clf.fit(X_train, y_train)\n",
      "y_pred = clf.predict(X_test)\n",
      "print classification_report(y_test, y_pred)"
     ],
     "language": "python",
     "metadata": {},
     "outputs": []
    },
    {
     "cell_type": "code",
     "collapsed": false,
     "input": [
      "print \"Classifier classes\", clf.classes_\n",
      "features = pd.Series(clf.coef_[0], index=vec.get_feature_names())"
     ],
     "language": "python",
     "metadata": {},
     "outputs": []
    },
    {
     "cell_type": "code",
     "collapsed": false,
     "input": [
      "importance_order = features.abs().order(ascending=False).index\n",
      "features[importance_order].head(20)"
     ],
     "language": "python",
     "metadata": {},
     "outputs": []
    },
    {
     "cell_type": "heading",
     "level": 3,
     "metadata": {},
     "source": [
      "Standardizing the data"
     ]
    },
    {
     "cell_type": "code",
     "collapsed": false,
     "input": [
      "from sklearn.preprocessing import StandardScaler\n",
      "\n",
      "# Scale train and test separatedly\n",
      "scaler = StandardScaler()\n",
      "X_train_s = scaler.fit_transform(X_train.toarray())\n",
      "X_test_s = scaler.transform(X_test.toarray())\n",
      "\n",
      "clf = LogisticRegression()\n",
      "clf.fit(X_train_s, y_train)\n",
      "y_pred = clf.predict(X_test_s)\n",
      "print classification_report(y_test, y_pred)"
     ],
     "language": "python",
     "metadata": {},
     "outputs": []
    },
    {
     "cell_type": "code",
     "collapsed": false,
     "input": [
      "features = pd.Series(clf.coef_[0], index=vec.get_feature_names())\n",
      "importance_order = features.abs().order(ascending=False).index\n",
      "features[importance_order].head(20)"
     ],
     "language": "python",
     "metadata": {},
     "outputs": []
    }
   ],
   "metadata": {}
  }
 ]
}