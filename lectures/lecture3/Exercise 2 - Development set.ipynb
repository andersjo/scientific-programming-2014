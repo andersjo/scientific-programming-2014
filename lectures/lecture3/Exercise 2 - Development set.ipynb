{
 "metadata": {
  "name": ""
 },
 "nbformat": 3,
 "nbformat_minor": 0,
 "worksheets": [
  {
   "cells": [
    {
     "cell_type": "markdown",
     "metadata": {},
     "source": [
      "Exercise 2\n",
      "====\n",
      "\n",
      "Part 1\n",
      "----\n",
      "\n",
      "We have seen that the performance on training and test is not necessarily the same. In this exercise, you should first plot the performance on train and test when you vary the number of epochs. You can use any of the previous implementations. If you use, the two-dimensional data, use the Gaussian data.\n"
     ]
    },
    {
     "cell_type": "code",
     "collapsed": false,
     "input": [],
     "language": "python",
     "metadata": {},
     "outputs": []
    },
    {
     "cell_type": "markdown",
     "metadata": {},
     "source": [
      "Part 2\n",
      "----\n",
      "\n",
      "Rather than running for a predefined number of epochs, as in the last part, we can stop training once the perceptron reaches a certain performance. For this, we use a development set. Use your code from any of the previous exercises (for two or multiple dimensions), and implement an early-stopping mechanism. You will have to generate a development set and modify the `fit()` function."
     ]
    },
    {
     "cell_type": "code",
     "collapsed": false,
     "input": [],
     "language": "python",
     "metadata": {},
     "outputs": []
    }
   ],
   "metadata": {}
  }
 ]
}