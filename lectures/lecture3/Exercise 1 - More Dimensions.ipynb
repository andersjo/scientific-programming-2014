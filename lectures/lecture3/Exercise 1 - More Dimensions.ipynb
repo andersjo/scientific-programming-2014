{
 "metadata": {
  "name": "",
  "signature": "sha256:bf10ac64efe914ed7033bb7a125d3d8e0aacaf30a993bbaeca46d66a7896a84c"
 },
 "nbformat": 3,
 "nbformat_minor": 0,
 "worksheets": [
  {
   "cells": [
    {
     "cell_type": "markdown",
     "metadata": {},
     "source": [
      "Exercise 1\n",
      "====\n",
      "\n",
      "In this exercise you should extend the `fit_np` implementation of the perceptron to allow an arbitrary number of features, not just two. We provide a data set generator `make_separable_data`, which takes a dimensionality parameter. By default the parameter is set to 5. \n",
      "\n",
      "Note that as you move beyond two (and three) dimensions, you won't be able to plot the dataset and the decision boundary anymore!"
     ]
    },
    {
     "cell_type": "code",
     "collapsed": false,
     "input": [
      "import numpy as np\n",
      "import random\n",
      "import pandas as pd\n",
      "\n",
      "def make_separable_data(num, dimensions=5, epsilon=0.001):\n",
      "    '''\n",
      "    generates a linearly separable data set\n",
      "    '''\n",
      "    # fill the first column (the labels) randomly with -1s and 1s\n",
      "    labels = 2 * np.random.randint(0, 2, num) - 1\n",
      "    # pick x1 at random\n",
      "    x1 = np.random.random(num)\n",
      "    # base x2 off of x1, add random noise and epsilon, and move up or down\n",
      "    x2 = x1 + ((epsilon + np.random.random(num)) * labels)\n",
      "\n",
      "    X = np.vstack((x1,x2)).T\n",
      "\n",
      "    y = np.random.rand(2, dimensions)\n",
      "    X2 = np.dot(X,y)\n",
      "    \n",
      "    return pd.DataFrame(X2, columns=['x%s' % str(i+1) for i in xrange(dimensions)]), labels\n"
     ],
     "language": "python",
     "metadata": {},
     "outputs": [],
     "prompt_number": 53
    },
    {
     "cell_type": "markdown",
     "metadata": {},
     "source": [
      "Insert the `fit_np` function from the Perceptron notebook below. Then modify the implementation to accept a dataset of arbitrary dimensionality. \n",
      "\n",
      "Note that you can get a `numpy` array from a `DataFrame` in two ways\n",
      "\n",
      "* Call `np.array()` with the `DataFrame` as an argument\n",
      "* User the `.values()` function on the `DataFrame`"
     ]
    },
    {
     "cell_type": "code",
     "collapsed": false,
     "input": [
      "# Your code here"
     ],
     "language": "python",
     "metadata": {},
     "outputs": [],
     "prompt_number": 47
    },
    {
     "cell_type": "markdown",
     "metadata": {},
     "source": [
      "Test the implementation here"
     ]
    },
    {
     "cell_type": "code",
     "collapsed": false,
     "input": [
      "data, labels = make_separable_data(1000, epsilon=0.001)\n",
      "train_data = data[:800]\n",
      "train_labels = labels[:800]\n",
      "test_data = data[800:]\n",
      "test_labels = labels[800:]\n",
      "\n",
      "weights = fit_np(train_data, train_labels) \n",
      "train_predictions, train_accuracy = predict_np(train_data, train_labels, weights)\n",
      "print \"Train\", train_accuracy\n",
      "\n",
      "test_predictions, test_accuracy = predict_np(test_data, test_labels, weights)\n",
      "print \"Test\", test_accuracy"
     ],
     "language": "python",
     "metadata": {},
     "outputs": []
    },
    {
     "cell_type": "code",
     "collapsed": false,
     "input": [],
     "language": "python",
     "metadata": {},
     "outputs": [],
     "prompt_number": 6
    }
   ],
   "metadata": {}
  }
 ]
}