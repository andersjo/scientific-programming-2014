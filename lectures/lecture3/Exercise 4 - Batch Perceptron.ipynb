{
 "metadata": {
  "name": ""
 },
 "nbformat": 3,
 "nbformat_minor": 0,
 "worksheets": [
  {
   "cells": [
    {
     "cell_type": "markdown",
     "metadata": {},
     "source": [
      "Exercise 4\n",
      "====\n",
      "\n",
      "In the lecture, we have used a version of the *online* perceptron, which updates after each new instance it sees. This results in a lot of updates per epoch, and is theoretically sensitive to the order of instances.\n",
      "Rather than updateing after *every* instance, we can update once per epoch, after we have seen all instances. This is called the **batch** perceptron.\n",
      "\n",
      "Copy over your previous code and change the `fit()` function to only update at the end of the epoch. Instead of feature vectors, you can now operate on a matrix."
     ]
    },
    {
     "cell_type": "code",
     "collapsed": false,
     "input": [],
     "language": "python",
     "metadata": {},
     "outputs": []
    }
   ],
   "metadata": {}
  }
 ]
}