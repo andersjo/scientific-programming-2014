{
 "metadata": {
  "name": ""
 },
 "nbformat": 3,
 "nbformat_minor": 0,
 "worksheets": [
  {
   "cells": [
    {
     "cell_type": "markdown",
     "metadata": {},
     "source": [
      "Mathematical Notation and Equations\n",
      "=============\n",
      "\n",
      "Once you take StatsML or Vision, you will encounter a lot of mathematical notation, and it will be expected of you that you know a) what it means, and b) how to implement it.\n",
      "This exercise teaches you both.\n",
      "\n",
      "Start by reading in the data from `animals.data`, but this time, use the `pandas` module. The data should now be a matrix $\\mathbf{X}$, with a vector $\\mathbf{x}$ for each animal."
     ]
    },
    {
     "cell_type": "code",
     "collapsed": false,
     "input": [
      "import pandas as pd\n",
      "\n",
      "# TODO: your code here\n",
      "# X = ..."
     ],
     "language": "python",
     "metadata": {},
     "outputs": []
    },
    {
     "cell_type": "markdown",
     "metadata": {},
     "source": [
      "In the following, you will get one mathematical equation and be asked to implement it. You might have to use some functions from the `math` module. If you are not sure how they are called and how to use them, you can find the documentation [here](https://docs.python.org/2/library/math.html). In general, it is always a good idea to check with the documentation whenever you feel like there should be a function that does what you want (usually there is), or if you know that it exists, but you forgot the signature (i.e., the number and types of the arguments).\n",
      "\n",
      "Always execute your solution for *all* vectors in the data set.\n",
      "\n",
      "Hint: whenever you see $\\sum$ or $\\prod$, you will need a `for` loop. $M$ is the number of instances (the animals), indexed with $i$; and $N$ is simply the length of each vector (i.e., the number of features), indexed by $j$."
     ]
    },
    {
     "cell_type": "markdown",
     "metadata": {},
     "source": [
      "****\n",
      "\n",
      "\n",
      "EQ. 1\n",
      "----\n",
      "\n",
      "The first equations operates on the individual vectors to produce an object $d$ for each animal.\n",
      "\n",
      "$d_i = \\sum_{j=0}^N x_{ij} \\cdot x_{ij}$\n",
      "=========\n",
      "\n",
      "What kind of object is $d$?\n",
      "Do you remember what this operation on vectors is called?"
     ]
    },
    {
     "cell_type": "code",
     "collapsed": false,
     "input": [
      "# TODO: your code here"
     ],
     "language": "python",
     "metadata": {},
     "outputs": []
    },
    {
     "cell_type": "markdown",
     "metadata": {},
     "source": [
      "Is there an easier way to compute the same operation? Try to find it. How would you search for it?"
     ]
    },
    {
     "cell_type": "code",
     "collapsed": false,
     "input": [
      "# TODO: easier code here"
     ],
     "language": "python",
     "metadata": {},
     "outputs": []
    },
    {
     "cell_type": "markdown",
     "metadata": {},
     "source": [
      "****\n",
      "\n",
      "EQ. 2\n",
      "----\n",
      "\n",
      "We compute another object for each vector, called $n$.\n",
      "\n",
      "$n_i = \\sqrt{ \\sum_{j=0}^N x_{ij}^2 }$\n",
      "=========\n",
      "\n",
      "Again, what type of object is $n$?\n",
      "Do you remember what this operation on a vector is called? First implement the explicit (long) version with `for` loops, then the shorter version, if you can find it."
     ]
    },
    {
     "cell_type": "code",
     "collapsed": false,
     "input": [
      "# TODO: your code here"
     ],
     "language": "python",
     "metadata": {},
     "outputs": []
    },
    {
     "cell_type": "markdown",
     "metadata": {},
     "source": [
      "****\n",
      "\n",
      "EQ. 3\n",
      "----\n",
      "\n",
      "$p_i = \\prod_{j=0}^N x_{ij} \\cdot j$\n",
      "=========\n",
      "\n",
      "What does this do? (There is no special function for this equation)."
     ]
    },
    {
     "cell_type": "code",
     "collapsed": false,
     "input": [
      "# TODO: your code here"
     ],
     "language": "python",
     "metadata": {},
     "outputs": []
    },
    {
     "cell_type": "markdown",
     "metadata": {},
     "source": [
      "The equations above all dealt with vectors. Now, let's look at the whole matrix, $\\mathbf{X}$.\n",
      "\n",
      "****\n",
      "\n",
      "EQ. 4\n",
      "----\n",
      "In this exercise, you compute a probabiity distribution over the features, i.e., how frequent each feature is. Remember that the sum of all probabilities in the resulting vector has to be $1.0$!\n",
      "\n",
      "You need to compute two things\n",
      "\n",
      "\n",
      "$\\mathbf{Z} = \\sum_{i=0}^M \\sum_{j=0}^N x_{ij} $\n",
      "=========\n",
      "\n",
      "What object is $\\mathbf{Z}$ (vector, scalar, matrix, ...)?\n",
      "\n",
      "Now, we use $\\mathbf{Z}$ in another equation, to compute the vector $\\mathbf{w}$, element by element:\n",
      "\n",
      "\n",
      "$w_j = \\frac{1}{Z} \\cdot \\sum_{i=0}^M x_{ij} $\n",
      "=========\n",
      "\n",
      "Note that $\\mathbf{w}$ has $N$ elements, i.e., the same as the number of features."
     ]
    },
    {
     "cell_type": "code",
     "collapsed": false,
     "input": [
      "# TODO: your code here"
     ],
     "language": "python",
     "metadata": {},
     "outputs": []
    },
    {
     "cell_type": "markdown",
     "metadata": {},
     "source": [
      "Again, there are easier ways to accomplish this. See if you can find out how and implement it after you have coded the explicit version."
     ]
    },
    {
     "cell_type": "code",
     "collapsed": false,
     "input": [
      "# TODO: your code here"
     ],
     "language": "python",
     "metadata": {},
     "outputs": []
    },
    {
     "cell_type": "markdown",
     "metadata": {},
     "source": [
      "Finally, plot $\\mathbf{w}$."
     ]
    },
    {
     "cell_type": "code",
     "collapsed": false,
     "input": [
      "# TODO: your code here"
     ],
     "language": "python",
     "metadata": {},
     "outputs": []
    },
    {
     "cell_type": "markdown",
     "metadata": {},
     "source": [
      "EQ. 5\n",
      "----\n",
      "Now we can use $\\mathbf{w}$ and $\\mathbf{X}$ together.\n",
      "\n",
      "$y_i = \\sum_{j=0}^N w_{j} \\cdot x_{ij} $\n",
      "=========\n",
      "\n",
      "Again: first figure out which kind of object $\\mathbf{y}$ is, then see whether there is a shorter implementation. Can you explain what is happening here?"
     ]
    },
    {
     "cell_type": "code",
     "collapsed": false,
     "input": [],
     "language": "python",
     "metadata": {},
     "outputs": []
    }
   ],
   "metadata": {}
  }
 ]
}