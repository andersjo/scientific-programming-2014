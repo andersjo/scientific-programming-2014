{
 "metadata": {
  "name": "",
  "signature": "sha256:65ae43d2013700657ed23e3bfe7e013145f4d20100ef0a0313e4cf953fdd0042"
 },
 "nbformat": 3,
 "nbformat_minor": 0,
 "worksheets": [
  {
   "cells": [
    {
     "cell_type": "heading",
     "level": 3,
     "metadata": {},
     "source": [
      "Setting up"
     ]
    },
    {
     "cell_type": "code",
     "collapsed": false,
     "input": [
      "%matplotlib inline\n",
      "import pandas as pd"
     ],
     "language": "python",
     "metadata": {},
     "outputs": []
    },
    {
     "cell_type": "heading",
     "level": 3,
     "metadata": {},
     "source": [
      "Introducing the `DataFrame`"
     ]
    },
    {
     "cell_type": "code",
     "collapsed": false,
     "input": [
      "pd.DataFrame([7, 9, 13])"
     ],
     "language": "python",
     "metadata": {},
     "outputs": []
    },
    {
     "cell_type": "code",
     "collapsed": false,
     "input": [
      "pd.DataFrame(0, index=list('ROWS'), columns=list('COLUMNS'))"
     ],
     "language": "python",
     "metadata": {},
     "outputs": []
    },
    {
     "cell_type": "code",
     "collapsed": false,
     "input": [
      "observations = [[3, 2, 2], [2, 5, 10], [2, 7, 3]]\n",
      "pd.DataFrame(observations)"
     ],
     "language": "python",
     "metadata": {},
     "outputs": []
    },
    {
     "cell_type": "heading",
     "level": 4,
     "metadata": {},
     "source": [
      "Labeling columns and indices"
     ]
    },
    {
     "cell_type": "code",
     "collapsed": false,
     "input": [
      "pd.DataFrame(observations, columns=['crane', 'deer', 'golfer'])"
     ],
     "language": "python",
     "metadata": {},
     "outputs": []
    },
    {
     "cell_type": "code",
     "collapsed": false,
     "input": [
      "daily_walks = pd.DataFrame(observations, columns=['crane', 'deer', 'golfer'],\n",
      "             index=['monday', 'tuesday', 'wednesday'])\n",
      "daily_walks"
     ],
     "language": "python",
     "metadata": {},
     "outputs": []
    },
    {
     "cell_type": "heading",
     "level": 4,
     "metadata": {},
     "source": [
      "Selecting a single column"
     ]
    },
    {
     "cell_type": "code",
     "collapsed": false,
     "input": [
      "daily_walks.crane"
     ],
     "language": "python",
     "metadata": {},
     "outputs": []
    },
    {
     "cell_type": "heading",
     "level": 4,
     "metadata": {},
     "source": [
      "Selecting multiple columns"
     ]
    },
    {
     "cell_type": "code",
     "collapsed": false,
     "input": [
      "daily_walks[['crane', 'deer']]"
     ],
     "language": "python",
     "metadata": {},
     "outputs": []
    },
    {
     "cell_type": "heading",
     "level": 3,
     "metadata": {},
     "source": [
      "Summary statistics"
     ]
    },
    {
     "cell_type": "code",
     "collapsed": false,
     "input": [
      "daily_walks.sum()"
     ],
     "language": "python",
     "metadata": {},
     "outputs": []
    },
    {
     "cell_type": "code",
     "collapsed": false,
     "input": [
      "daily_walks.mean()"
     ],
     "language": "python",
     "metadata": {},
     "outputs": []
    },
    {
     "cell_type": "code",
     "collapsed": false,
     "input": [
      "daily_walks.describe()"
     ],
     "language": "python",
     "metadata": {},
     "outputs": []
    },
    {
     "cell_type": "heading",
     "level": 3,
     "metadata": {},
     "source": [
      "Transposing (changing rows to columns)"
     ]
    },
    {
     "cell_type": "code",
     "collapsed": false,
     "input": [
      "daily_walks.T # Why is this useful"
     ],
     "language": "python",
     "metadata": {},
     "outputs": []
    },
    {
     "cell_type": "code",
     "collapsed": false,
     "input": [
      "daily_walks.T.sum()"
     ],
     "language": "python",
     "metadata": {},
     "outputs": []
    },
    {
     "cell_type": "code",
     "collapsed": false,
     "input": [
      "daily_walks.T.describe()"
     ],
     "language": "python",
     "metadata": {},
     "outputs": []
    },
    {
     "cell_type": "heading",
     "level": 3,
     "metadata": {},
     "source": [
      "Missing observations"
     ]
    },
    {
     "cell_type": "code",
     "collapsed": false,
     "input": [
      "observations[2][1] = None\n",
      "confused_daily_walks = pd.DataFrame(observations, columns=['crane', 'deer', 'golfer'],\n",
      "             index=['monday', 'tuesday', 'wednesday'])\n",
      "confused_daily_walks"
     ],
     "language": "python",
     "metadata": {},
     "outputs": []
    },
    {
     "cell_type": "heading",
     "level": 4,
     "metadata": {},
     "source": [
      "Dropping missing rows"
     ]
    },
    {
     "cell_type": "code",
     "collapsed": false,
     "input": [
      "confused_daily_walks.dropna()"
     ],
     "language": "python",
     "metadata": {},
     "outputs": []
    },
    {
     "cell_type": "heading",
     "level": 4,
     "metadata": {},
     "source": [
      "Making up likely missing values"
     ]
    },
    {
     "cell_type": "code",
     "collapsed": false,
     "input": [
      "confused_daily_walks.fillna(confused_daily_walks.deer.mean())"
     ],
     "language": "python",
     "metadata": {},
     "outputs": []
    },
    {
     "cell_type": "heading",
     "level": 3,
     "metadata": {},
     "source": [
      "Indexing"
     ]
    },
    {
     "cell_type": "heading",
     "level": 4,
     "metadata": {},
     "source": [
      "Using `.ix` method"
     ]
    },
    {
     "cell_type": "code",
     "collapsed": false,
     "input": [
      "daily_walks.ix['monday', 'crane']"
     ],
     "language": "python",
     "metadata": {},
     "outputs": []
    },
    {
     "cell_type": "code",
     "collapsed": false,
     "input": [
      "daily_walks.ix[0]"
     ],
     "language": "python",
     "metadata": {},
     "outputs": []
    },
    {
     "cell_type": "code",
     "collapsed": false,
     "input": [
      "daily_walks.ix[0:2, ['crane', 'deer']]"
     ],
     "language": "python",
     "metadata": {},
     "outputs": []
    },
    {
     "cell_type": "heading",
     "level": 4,
     "metadata": {},
     "source": [
      "By location `.iloc`"
     ]
    },
    {
     "cell_type": "code",
     "collapsed": false,
     "input": [
      "daily_walks.iloc[0]"
     ],
     "language": "python",
     "metadata": {},
     "outputs": []
    },
    {
     "cell_type": "heading",
     "level": 3,
     "metadata": {},
     "source": [
      "Data from files"
     ]
    },
    {
     "cell_type": "markdown",
     "metadata": {},
     "source": [
      "Nobel Prize winners data from [Weinberg et al. 2011](http://www.ncbi.nlm.nih.gov/pmc/articles/PMC3223465/#!po=70.0000). "
     ]
    },
    {
     "cell_type": "code",
     "collapsed": false,
     "input": [
      "!head nobel_prize_winners_age.csv"
     ],
     "language": "python",
     "metadata": {},
     "outputs": []
    },
    {
     "cell_type": "code",
     "collapsed": false,
     "input": [
      "winners = pd.read_csv(\"nobel_prize_winners_age.csv\", sep=\";\")\n",
      "winners.head()"
     ],
     "language": "python",
     "metadata": {},
     "outputs": []
    },
    {
     "cell_type": "heading",
     "level": 3,
     "metadata": {},
     "source": [
      "Histogram"
     ]
    },
    {
     "cell_type": "code",
     "collapsed": false,
     "input": [
      "winners.year_prize.hist()"
     ],
     "language": "python",
     "metadata": {},
     "outputs": []
    },
    {
     "cell_type": "heading",
     "level": 3,
     "metadata": {},
     "source": [
      "Table of counts"
     ]
    },
    {
     "cell_type": "code",
     "collapsed": false,
     "input": [
      "winners.year_prize.value_counts()\n",
      "winners.year_prize.value_counts().sort_index().head()"
     ],
     "language": "python",
     "metadata": {},
     "outputs": []
    },
    {
     "cell_type": "heading",
     "level": 3,
     "metadata": {},
     "source": [
      "Sorting the index"
     ]
    },
    {
     "cell_type": "code",
     "collapsed": false,
     "input": [
      "winners.year_prize.value_counts().sort_index().plot();"
     ],
     "language": "python",
     "metadata": {},
     "outputs": []
    },
    {
     "cell_type": "heading",
     "level": 3,
     "metadata": {},
     "source": [
      "By field"
     ]
    },
    {
     "cell_type": "code",
     "collapsed": false,
     "input": [
      "winners.field.value_counts()"
     ],
     "language": "python",
     "metadata": {},
     "outputs": []
    },
    {
     "cell_type": "heading",
     "level": 3,
     "metadata": {},
     "source": [
      "Defining new variables"
     ]
    },
    {
     "cell_type": "code",
     "collapsed": false,
     "input": [
      "winners['age_at_prize'] = winners.year_prize - winners.year_birth"
     ],
     "language": "python",
     "metadata": {},
     "outputs": []
    },
    {
     "cell_type": "code",
     "collapsed": false,
     "input": [
      "print winners.age_at_prize.min()\n",
      "print winners.age_at_prize.mean()\n",
      "print winners.age_at_prize.max()"
     ],
     "language": "python",
     "metadata": {},
     "outputs": []
    },
    {
     "cell_type": "heading",
     "level": 3,
     "metadata": {},
     "source": [
      "Finding the minimum"
     ]
    },
    {
     "cell_type": "code",
     "collapsed": false,
     "input": [
      "index_of_youngest = winners.age_at_prize.argmin()\n",
      "winners.ix[index_of_youngest]"
     ],
     "language": "python",
     "metadata": {},
     "outputs": []
    },
    {
     "cell_type": "heading",
     "level": 3,
     "metadata": {},
     "source": [
      "Spread of variables"
     ]
    },
    {
     "cell_type": "code",
     "collapsed": false,
     "input": [
      "winners['degree_to_prize'] = winners.year_prize - (winners.year_birth + winners.age_highdegree)\n",
      "winners['degree_to_research'] = winners.year_research_mid - (winners.year_birth + winners.age_highdegree)\n",
      "winners['research_to_prize'] = winners.year_prize - winners.year_research_mid"
     ],
     "language": "python",
     "metadata": {},
     "outputs": []
    },
    {
     "cell_type": "code",
     "collapsed": false,
     "input": [
      "winners[['degree_to_prize', 'degree_to_research', 'research_to_prize']].boxplot();"
     ],
     "language": "python",
     "metadata": {},
     "outputs": []
    },
    {
     "cell_type": "heading",
     "level": 3,
     "metadata": {},
     "source": [
      "Grouping operations"
     ]
    },
    {
     "cell_type": "heading",
     "level": 4,
     "metadata": {},
     "source": [
      "Age of prize across fields"
     ]
    },
    {
     "cell_type": "code",
     "collapsed": false,
     "input": [
      "winners.groupby('field').age_at_prize.mean()"
     ],
     "language": "python",
     "metadata": {},
     "outputs": []
    },
    {
     "cell_type": "heading",
     "level": 4,
     "metadata": {},
     "source": [
      "Sharing of prizes"
     ]
    },
    {
     "cell_type": "code",
     "collapsed": false,
     "input": [
      "winners_per_year_in_chem = winners[winners.field == 'Chemistry'].groupby('year_prize').field.count()\n",
      "winners_per_year_in_chem.head(10)"
     ],
     "language": "python",
     "metadata": {},
     "outputs": []
    },
    {
     "cell_type": "code",
     "collapsed": false,
     "input": [
      "winners_per_year_in_chem.plot();"
     ],
     "language": "python",
     "metadata": {},
     "outputs": []
    },
    {
     "cell_type": "heading",
     "level": 4,
     "metadata": {},
     "source": [
      "Difference at two points in time"
     ]
    },
    {
     "cell_type": "code",
     "collapsed": false,
     "input": [
      "print \"1920-1939\", winners_per_year_in_chem.ix[1920:1940].mean()\n",
      "print \"1980-1999\", winners_per_year_in_chem.ix[1980:2000].mean()"
     ],
     "language": "python",
     "metadata": {},
     "outputs": []
    },
    {
     "cell_type": "heading",
     "level": 4,
     "metadata": {},
     "source": [
      "Smoothing the curve"
     ]
    },
    {
     "cell_type": "code",
     "collapsed": false,
     "input": [
      "pd.rolling_mean(winners_per_year_in_chem, 5).plot()"
     ],
     "language": "python",
     "metadata": {},
     "outputs": []
    },
    {
     "cell_type": "heading",
     "level": 4,
     "metadata": {},
     "source": [
      "Per decade"
     ]
    },
    {
     "cell_type": "code",
     "collapsed": false,
     "input": [
      "decades = (winners_per_year_in_chem.index / 10) * 10\n",
      "decades"
     ],
     "language": "python",
     "metadata": {},
     "outputs": []
    },
    {
     "cell_type": "code",
     "collapsed": false,
     "input": [
      "winners_per_year_in_chem.groupby(decades).mean().plot()"
     ],
     "language": "python",
     "metadata": {},
     "outputs": []
    },
    {
     "cell_type": "heading",
     "level": 3,
     "metadata": {},
     "source": [
      "Grouping by multiple values"
     ]
    },
    {
     "cell_type": "code",
     "collapsed": false,
     "input": [
      "by_year_prize_and_field = winners.groupby(['year_prize', 'field']).year_prize.count()\n",
      "by_year_prize_and_field.head(15)"
     ],
     "language": "python",
     "metadata": {},
     "outputs": []
    },
    {
     "cell_type": "code",
     "collapsed": false,
     "input": [
      "by_year_prize_and_field.unstack('field').head(20)"
     ],
     "language": "python",
     "metadata": {},
     "outputs": []
    },
    {
     "cell_type": "code",
     "collapsed": false,
     "input": [
      "n_prizes_by_field = by_year_prize_and_field.unstack('field').fillna(0)\n",
      "n_prizes_by_field.head(20)"
     ],
     "language": "python",
     "metadata": {},
     "outputs": []
    },
    {
     "cell_type": "code",
     "collapsed": false,
     "input": [
      "decades = (n_prizes_by_field.index/10)*10\n",
      "n_prizes_by_field.groupby(decades).mean().plot()"
     ],
     "language": "python",
     "metadata": {},
     "outputs": []
    },
    {
     "cell_type": "code",
     "collapsed": false,
     "input": [
      "n_prizes_by_field.groupby(decades).mean().plot(kind='bar') # barh"
     ],
     "language": "python",
     "metadata": {},
     "outputs": []
    }
   ],
   "metadata": {}
  }
 ]
}