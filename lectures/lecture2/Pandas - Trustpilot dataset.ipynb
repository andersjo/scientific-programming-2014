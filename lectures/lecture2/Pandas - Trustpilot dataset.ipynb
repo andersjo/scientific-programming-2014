{
 "metadata": {
  "name": "",
  "signature": "sha256:5c05040d159cade9a59772ea8fe4183487129a25c7b55c9d713094f7d784e100"
 },
 "nbformat": 3,
 "nbformat_minor": 0,
 "worksheets": [
  {
   "cells": [
    {
     "cell_type": "heading",
     "level": 2,
     "metadata": {},
     "source": [
      "Practical session with Trustpilot review data"
     ]
    },
    {
     "cell_type": "code",
     "collapsed": false,
     "input": [
      "%matplotlib inline\n",
      "import pandas as pd"
     ],
     "language": "python",
     "metadata": {},
     "outputs": [],
     "prompt_number": 1
    },
    {
     "cell_type": "heading",
     "level": 3,
     "metadata": {},
     "source": [
      "Looking at the data"
     ]
    },
    {
     "cell_type": "code",
     "collapsed": false,
     "input": [
      "!head trustpilot_reviews_dk.tsv"
     ],
     "language": "python",
     "metadata": {},
     "outputs": [
      {
       "output_type": "stream",
       "stream": "stdout",
       "text": [
        "user_id\tname\tbirth_year\tgender\tcompany\trating\treview_len\r\n",
        "2008915\tAnders Harvest\t1955\tM\twww.autoeurope.dk\t4\t15\r\n",
        "707613\tGordon Steffensen\t1955\tM\twww.laptops.dk\t5\t77\r\n",
        "707613\tGordon Steffensen\t1955\tM\twww.cpt.dk\t5\t1292\r\n",
        "707613\tGordon Steffensen\t1955\tM\twww.philipsonwine.com\t5\t95\r\n",
        "899885\ttue\t1979\tM\tsmykkemester.dk\t5\t332\r\n",
        "899885\ttue\t1979\tM\twww.rbsalg.dk\t5\t273\r\n",
        "899885\ttue\t1979\tM\twww.dvcenter.dk\t5\t506\r\n",
        "899885\ttue\t1979\tM\twww.3.dk\t5\t600\r\n",
        "899885\ttue\t1979\tM\tcarhartt-wip.dk\t5\t396\r\n"
       ]
      }
     ],
     "prompt_number": 2
    },
    {
     "cell_type": "code",
     "collapsed": false,
     "input": [
      "reviews = pd.read_csv(\"trustpilot_reviews_dk.tsv\", sep=\"\\t\")"
     ],
     "language": "python",
     "metadata": {},
     "outputs": [],
     "prompt_number": 3
    },
    {
     "cell_type": "code",
     "collapsed": false,
     "input": [
      "reviews.head()"
     ],
     "language": "python",
     "metadata": {},
     "outputs": [
      {
       "html": [
        "<div style=\"max-height:1000px;max-width:1500px;overflow:auto;\">\n",
        "<table border=\"1\" class=\"dataframe\">\n",
        "  <thead>\n",
        "    <tr style=\"text-align: right;\">\n",
        "      <th></th>\n",
        "      <th>user_id</th>\n",
        "      <th>name</th>\n",
        "      <th>birth_year</th>\n",
        "      <th>gender</th>\n",
        "      <th>company</th>\n",
        "      <th>rating</th>\n",
        "      <th>review_len</th>\n",
        "    </tr>\n",
        "  </thead>\n",
        "  <tbody>\n",
        "    <tr>\n",
        "      <th>0</th>\n",
        "      <td> 2008915</td>\n",
        "      <td>    Anders Harvest</td>\n",
        "      <td> 1955</td>\n",
        "      <td> M</td>\n",
        "      <td>     www.autoeurope.dk</td>\n",
        "      <td> 4</td>\n",
        "      <td>   15</td>\n",
        "    </tr>\n",
        "    <tr>\n",
        "      <th>1</th>\n",
        "      <td>  707613</td>\n",
        "      <td> Gordon Steffensen</td>\n",
        "      <td> 1955</td>\n",
        "      <td> M</td>\n",
        "      <td>        www.laptops.dk</td>\n",
        "      <td> 5</td>\n",
        "      <td>   77</td>\n",
        "    </tr>\n",
        "    <tr>\n",
        "      <th>2</th>\n",
        "      <td>  707613</td>\n",
        "      <td> Gordon Steffensen</td>\n",
        "      <td> 1955</td>\n",
        "      <td> M</td>\n",
        "      <td>            www.cpt.dk</td>\n",
        "      <td> 5</td>\n",
        "      <td> 1292</td>\n",
        "    </tr>\n",
        "    <tr>\n",
        "      <th>3</th>\n",
        "      <td>  707613</td>\n",
        "      <td> Gordon Steffensen</td>\n",
        "      <td> 1955</td>\n",
        "      <td> M</td>\n",
        "      <td> www.philipsonwine.com</td>\n",
        "      <td> 5</td>\n",
        "      <td>   95</td>\n",
        "    </tr>\n",
        "    <tr>\n",
        "      <th>4</th>\n",
        "      <td>  899885</td>\n",
        "      <td>               tue</td>\n",
        "      <td> 1979</td>\n",
        "      <td> M</td>\n",
        "      <td>       smykkemester.dk</td>\n",
        "      <td> 5</td>\n",
        "      <td>  332</td>\n",
        "    </tr>\n",
        "  </tbody>\n",
        "</table>\n",
        "</div>"
       ],
       "metadata": {},
       "output_type": "pyout",
       "prompt_number": 4,
       "text": [
        "   user_id               name  birth_year gender                company  \\\n",
        "0  2008915     Anders Harvest        1955      M      www.autoeurope.dk   \n",
        "1   707613  Gordon Steffensen        1955      M         www.laptops.dk   \n",
        "2   707613  Gordon Steffensen        1955      M             www.cpt.dk   \n",
        "3   707613  Gordon Steffensen        1955      M  www.philipsonwine.com   \n",
        "4   899885                tue        1979      M        smykkemester.dk   \n",
        "\n",
        "   rating  review_len  \n",
        "0       4          15  \n",
        "1       5          77  \n",
        "2       5        1292  \n",
        "3       5          95  \n",
        "4       5         332  "
       ]
      }
     ],
     "prompt_number": 4
    },
    {
     "cell_type": "code",
     "collapsed": false,
     "input": [
      "reviews.tail(3)"
     ],
     "language": "python",
     "metadata": {},
     "outputs": [
      {
       "html": [
        "<div style=\"max-height:1000px;max-width:1500px;overflow:auto;\">\n",
        "<table border=\"1\" class=\"dataframe\">\n",
        "  <thead>\n",
        "    <tr style=\"text-align: right;\">\n",
        "      <th></th>\n",
        "      <th>user_id</th>\n",
        "      <th>name</th>\n",
        "      <th>birth_year</th>\n",
        "      <th>gender</th>\n",
        "      <th>company</th>\n",
        "      <th>rating</th>\n",
        "      <th>review_len</th>\n",
        "    </tr>\n",
        "  </thead>\n",
        "  <tbody>\n",
        "    <tr>\n",
        "      <th>501537</th>\n",
        "      <td> 690344</td>\n",
        "      <td> Michael Wennergren Kruse</td>\n",
        "      <td> 1985</td>\n",
        "      <td> M</td>\n",
        "      <td>         fnebs.com</td>\n",
        "      <td> 5</td>\n",
        "      <td> 303</td>\n",
        "    </tr>\n",
        "    <tr>\n",
        "      <th>501538</th>\n",
        "      <td> 690344</td>\n",
        "      <td> Michael Wennergren Kruse</td>\n",
        "      <td> 1985</td>\n",
        "      <td> M</td>\n",
        "      <td> www.dustinhome.dk</td>\n",
        "      <td> 5</td>\n",
        "      <td>  57</td>\n",
        "    </tr>\n",
        "    <tr>\n",
        "      <th>501539</th>\n",
        "      <td> 690344</td>\n",
        "      <td> Michael Wennergren Kruse</td>\n",
        "      <td> 1985</td>\n",
        "      <td> M</td>\n",
        "      <td>         qiphe.com</td>\n",
        "      <td> 5</td>\n",
        "      <td> 362</td>\n",
        "    </tr>\n",
        "  </tbody>\n",
        "</table>\n",
        "</div>"
       ],
       "metadata": {},
       "output_type": "pyout",
       "prompt_number": 5,
       "text": [
        "        user_id                      name  birth_year gender  \\\n",
        "501537   690344  Michael Wennergren Kruse        1985      M   \n",
        "501538   690344  Michael Wennergren Kruse        1985      M   \n",
        "501539   690344  Michael Wennergren Kruse        1985      M   \n",
        "\n",
        "                  company  rating  review_len  \n",
        "501537          fnebs.com       5         303  \n",
        "501538  www.dustinhome.dk       5          57  \n",
        "501539          qiphe.com       5         362  "
       ]
      }
     ],
     "prompt_number": 5
    },
    {
     "cell_type": "heading",
     "level": 3,
     "metadata": {},
     "source": [
      "Making a new column `age` based on existing column `birth_year`"
     ]
    },
    {
     "cell_type": "code",
     "collapsed": false,
     "input": [
      "reviews['age'] = 2014 - reviews.birth_year"
     ],
     "language": "python",
     "metadata": {},
     "outputs": [],
     "prompt_number": 6
    },
    {
     "cell_type": "heading",
     "level": 3,
     "metadata": {},
     "source": [
      "Plotting age distribution"
     ]
    },
    {
     "cell_type": "code",
     "collapsed": false,
     "input": [
      "reviews.age.hist(bins=range(0,120))"
     ],
     "language": "python",
     "metadata": {},
     "outputs": [
      {
       "metadata": {},
       "output_type": "pyout",
       "prompt_number": 7,
       "text": [
        "<matplotlib.axes.AxesSubplot at 0x100762390>"
       ]
      },
      {
       "metadata": {},
       "output_type": "display_data",
       "png": "[encoded data removed]",
       "text": [
        "<matplotlib.figure.Figure at 0x10d79e610>"
       ]
      }
     ],
     "prompt_number": 7
    },
    {
     "cell_type": "code",
     "collapsed": false,
     "input": [
      "reviews.age.hist(by=reviews.gender, bins=range(0,120));"
     ],
     "language": "python",
     "metadata": {},
     "outputs": [
      {
       "metadata": {},
       "output_type": "display_data",
       "png": "[encoded data removed]",
       "text": [
        "<matplotlib.figure.Figure at 0x10bef3c10>"
       ]
      }
     ],
     "prompt_number": 8
    },
    {
     "cell_type": "heading",
     "level": 3,
     "metadata": {},
     "source": [
      "Getting rid of outliers"
     ]
    },
    {
     "cell_type": "code",
     "collapsed": false,
     "input": [
      "within_valid_age_range = (reviews.age > 16) & (reviews.age < 80)\n",
      "within_valid_age_range"
     ],
     "language": "python",
     "metadata": {},
     "outputs": [
      {
       "metadata": {},
       "output_type": "pyout",
       "prompt_number": 9,
       "text": [
        "0     True\n",
        "1     True\n",
        "2     True\n",
        "3     True\n",
        "4     True\n",
        "5     True\n",
        "6     True\n",
        "7     True\n",
        "8     True\n",
        "9     True\n",
        "10    True\n",
        "11    True\n",
        "12    True\n",
        "13    True\n",
        "14    True\n",
        "...\n",
        "501525    True\n",
        "501526    True\n",
        "501527    True\n",
        "501528    True\n",
        "501529    True\n",
        "501530    True\n",
        "501531    True\n",
        "501532    True\n",
        "501533    True\n",
        "501534    True\n",
        "501535    True\n",
        "501536    True\n",
        "501537    True\n",
        "501538    True\n",
        "501539    True\n",
        "Name: age, Length: 501540, dtype: bool"
       ]
      }
     ],
     "prompt_number": 9
    },
    {
     "cell_type": "code",
     "collapsed": false,
     "input": [
      "within_valid_age_range.sum() / float(len(within_valid_age_range))"
     ],
     "language": "python",
     "metadata": {},
     "outputs": [
      {
       "metadata": {},
       "output_type": "pyout",
       "prompt_number": 10,
       "text": [
        "0.99024604219005463"
       ]
      }
     ],
     "prompt_number": 10
    },
    {
     "cell_type": "code",
     "collapsed": false,
     "input": [
      "reviews = reviews[within_valid_age_range]\n",
      "reviews.age.hist(bins=range(0,120));"
     ],
     "language": "python",
     "metadata": {},
     "outputs": [
      {
       "metadata": {},
       "output_type": "display_data",
       "png": "[encoded data removed]",
       "text": [
        "<matplotlib.figure.Figure at 0x109e88b50>"
       ]
      }
     ],
     "prompt_number": 11
    },
    {
     "cell_type": "heading",
     "level": 3,
     "metadata": {},
     "source": [
      "Correlations"
     ]
    },
    {
     "cell_type": "code",
     "collapsed": false,
     "input": [
      "reviews[['rating', 'review_len']].corr()"
     ],
     "language": "python",
     "metadata": {},
     "outputs": [
      {
       "html": [
        "<div style=\"max-height:1000px;max-width:1500px;overflow:auto;\">\n",
        "<table border=\"1\" class=\"dataframe\">\n",
        "  <thead>\n",
        "    <tr style=\"text-align: right;\">\n",
        "      <th></th>\n",
        "      <th>rating</th>\n",
        "      <th>review_len</th>\n",
        "    </tr>\n",
        "  </thead>\n",
        "  <tbody>\n",
        "    <tr>\n",
        "      <th>rating</th>\n",
        "      <td> 1.000000</td>\n",
        "      <td>-0.465672</td>\n",
        "    </tr>\n",
        "    <tr>\n",
        "      <th>review_len</th>\n",
        "      <td>-0.465672</td>\n",
        "      <td> 1.000000</td>\n",
        "    </tr>\n",
        "  </tbody>\n",
        "</table>\n",
        "</div>"
       ],
       "metadata": {},
       "output_type": "pyout",
       "prompt_number": 12,
       "text": [
        "              rating  review_len\n",
        "rating      1.000000   -0.465672\n",
        "review_len -0.465672    1.000000"
       ]
      }
     ],
     "prompt_number": 12
    },
    {
     "cell_type": "heading",
     "level": 3,
     "metadata": {},
     "source": [
      "Group behavior"
     ]
    },
    {
     "cell_type": "code",
     "collapsed": false,
     "input": [
      "counts = reviews.groupby(['gender', 'rating']).age.count()\n",
      "by_gender_and_rating = counts.unstack('gender')\n",
      "by_gender_and_rating"
     ],
     "language": "python",
     "metadata": {},
     "outputs": [
      {
       "html": [
        "<div style=\"max-height:1000px;max-width:1500px;overflow:auto;\">\n",
        "<table border=\"1\" class=\"dataframe\">\n",
        "  <thead>\n",
        "    <tr style=\"text-align: right;\">\n",
        "      <th>gender</th>\n",
        "      <th>F</th>\n",
        "      <th>M</th>\n",
        "    </tr>\n",
        "    <tr>\n",
        "      <th>rating</th>\n",
        "      <th></th>\n",
        "      <th></th>\n",
        "    </tr>\n",
        "  </thead>\n",
        "  <tbody>\n",
        "    <tr>\n",
        "      <th>1</th>\n",
        "      <td>  13933</td>\n",
        "      <td>  33094</td>\n",
        "    </tr>\n",
        "    <tr>\n",
        "      <th>2</th>\n",
        "      <td>   5536</td>\n",
        "      <td>  12680</td>\n",
        "    </tr>\n",
        "    <tr>\n",
        "      <th>3</th>\n",
        "      <td>   7403</td>\n",
        "      <td>  13106</td>\n",
        "    </tr>\n",
        "    <tr>\n",
        "      <th>4</th>\n",
        "      <td>  25291</td>\n",
        "      <td>  41665</td>\n",
        "    </tr>\n",
        "    <tr>\n",
        "      <th>5</th>\n",
        "      <td> 135246</td>\n",
        "      <td> 199801</td>\n",
        "    </tr>\n",
        "  </tbody>\n",
        "</table>\n",
        "</div>"
       ],
       "metadata": {},
       "output_type": "pyout",
       "prompt_number": 13,
       "text": [
        "gender       F       M\n",
        "rating                \n",
        "1        13933   33094\n",
        "2         5536   12680\n",
        "3         7403   13106\n",
        "4        25291   41665\n",
        "5       135246  199801"
       ]
      }
     ],
     "prompt_number": 13
    },
    {
     "cell_type": "code",
     "collapsed": false,
     "input": [
      "norm_by_gender_and_rating = (by_gender_and_rating / by_gender_and_rating.sum()) # Broadcast\n",
      "norm_by_gender_and_rating"
     ],
     "language": "python",
     "metadata": {},
     "outputs": [
      {
       "html": [
        "<div style=\"max-height:1000px;max-width:1500px;overflow:auto;\">\n",
        "<table border=\"1\" class=\"dataframe\">\n",
        "  <thead>\n",
        "    <tr style=\"text-align: right;\">\n",
        "      <th>gender</th>\n",
        "      <th>F</th>\n",
        "      <th>M</th>\n",
        "    </tr>\n",
        "    <tr>\n",
        "      <th>rating</th>\n",
        "      <th></th>\n",
        "      <th></th>\n",
        "    </tr>\n",
        "  </thead>\n",
        "  <tbody>\n",
        "    <tr>\n",
        "      <th>1</th>\n",
        "      <td> 0.074345</td>\n",
        "      <td> 0.110186</td>\n",
        "    </tr>\n",
        "    <tr>\n",
        "      <th>2</th>\n",
        "      <td> 0.029540</td>\n",
        "      <td> 0.042218</td>\n",
        "    </tr>\n",
        "    <tr>\n",
        "      <th>3</th>\n",
        "      <td> 0.039502</td>\n",
        "      <td> 0.043636</td>\n",
        "    </tr>\n",
        "    <tr>\n",
        "      <th>4</th>\n",
        "      <td> 0.134951</td>\n",
        "      <td> 0.138723</td>\n",
        "    </tr>\n",
        "    <tr>\n",
        "      <th>5</th>\n",
        "      <td> 0.721662</td>\n",
        "      <td> 0.665236</td>\n",
        "    </tr>\n",
        "  </tbody>\n",
        "</table>\n",
        "</div>"
       ],
       "metadata": {},
       "output_type": "pyout",
       "prompt_number": 14,
       "text": [
        "gender         F         M\n",
        "rating                    \n",
        "1       0.074345  0.110186\n",
        "2       0.029540  0.042218\n",
        "3       0.039502  0.043636\n",
        "4       0.134951  0.138723\n",
        "5       0.721662  0.665236"
       ]
      }
     ],
     "prompt_number": 14
    },
    {
     "cell_type": "code",
     "collapsed": false,
     "input": [
      "norm_by_gender_and_rating.plot(kind='bar');"
     ],
     "language": "python",
     "metadata": {},
     "outputs": [
      {
       "metadata": {},
       "output_type": "display_data",
       "png": "[encoded data removed]",
       "text": [
        "<matplotlib.figure.Figure at 0x10c297390>"
       ]
      }
     ],
     "prompt_number": 15
    },
    {
     "cell_type": "heading",
     "level": 3,
     "metadata": {},
     "source": [
      "Filtering"
     ]
    },
    {
     "cell_type": "markdown",
     "metadata": {},
     "source": [
      "Only keep companies with at least 50 reviews"
     ]
    },
    {
     "cell_type": "code",
     "collapsed": false,
     "input": [
      "medium_companies = reviews.groupby('company').filter(lambda g: len(g) >= 50)"
     ],
     "language": "python",
     "metadata": {},
     "outputs": [],
     "prompt_number": 16
    },
    {
     "cell_type": "heading",
     "level": 3,
     "metadata": {},
     "source": [
      "Aggregation"
     ]
    },
    {
     "cell_type": "markdown",
     "metadata": {},
     "source": [
      "Compute a single value for each group. Here it is the percentage of male reviewers"
     ]
    },
    {
     "cell_type": "code",
     "collapsed": false,
     "input": [
      "def male_pct(series):\n",
      "    counts  = series.value_counts()\n",
      "    if 'M' in counts:\n",
      "        return counts.ix['M'] / float(counts.sum())\n",
      "    else:\n",
      "        return 0\n",
      "\n",
      "pct_males = medium_companies.groupby('company').gender.aggregate(male_pct)"
     ],
     "language": "python",
     "metadata": {},
     "outputs": [],
     "prompt_number": 17
    },
    {
     "cell_type": "code",
     "collapsed": false,
     "input": [
      "pct_males.order(ascending=True)"
     ],
     "language": "python",
     "metadata": {},
     "outputs": [
      {
       "metadata": {},
       "output_type": "pyout",
       "prompt_number": 18,
       "text": [
        "company\n",
        "www.carmakoma.com        0.000000\n",
        "kageoplevelser.dk        0.000000\n",
        "www.ginatricot.dk        0.014706\n",
        "nailmania.dk             0.014778\n",
        "www.kids-world.dk        0.019868\n",
        "www.nail4you.dk          0.020000\n",
        "www.tp-kjoler.dk         0.020833\n",
        "www.tikarideudstyr.dk    0.022222\n",
        "www.b4beauty.dk          0.023148\n",
        "www.hugin-mugin.com      0.023529\n",
        "www.solo.dk              0.023973\n",
        "www.smaahjerter.dk       0.024719\n",
        "www.trendpal.dk          0.026667\n",
        "www.larvefoedder.dk      0.029851\n",
        "ba10.dk                  0.031250\n",
        "...\n",
        "myprotein.com              0.961538\n",
        "www.topdata.dk             0.961832\n",
        "www.poiseofdenmark.com     0.962025\n",
        "www.msp-tuning.dk          0.962963\n",
        "www.steampowered.com       0.965517\n",
        "www.hifi-freaks.dk         0.966102\n",
        "ipcam-shop.dk              0.966102\n",
        "www.gamekeysnow.com        0.968750\n",
        "www.coolerkit.dk           0.969925\n",
        "www.gamers-shop.dk         0.970954\n",
        "www.vefafoto.dk            0.972603\n",
        "www.oliebiksen.dk          0.978836\n",
        "www.cjs-cdkeys.com         0.980198\n",
        "tapeconnection.dk          0.981481\n",
        "www.holte-modelhobby.dk    0.983051\n",
        "Name: gender, Length: 1269, dtype: float64"
       ]
      }
     ],
     "prompt_number": 18
    },
    {
     "cell_type": "markdown",
     "metadata": {},
     "source": [
      "What is the most balanced company?"
     ]
    },
    {
     "cell_type": "code",
     "collapsed": false,
     "input": [
      "(pct_males - 0.5).abs().order().head(50)"
     ],
     "language": "python",
     "metadata": {},
     "outputs": [
      {
       "metadata": {},
       "output_type": "pyout",
       "prompt_number": 19,
       "text": [
        "company\n",
        "www.boligbasen.dk           0.000000\n",
        "www.boligportal.dk          0.000000\n",
        "www.jysk-diner.dk           0.000000\n",
        "www.coffeebeansonline.eu    0.000000\n",
        "sovn-comfort.dk             0.000000\n",
        "www.familieadvokaten.dk     0.000000\n",
        "www.netdate.dk              0.000000\n",
        "www.klodskassen.dk          0.001002\n",
        "www.dvdoo.dk                0.002170\n",
        "www.veracura.dk             0.002857\n",
        "www.sport24.dk              0.002976\n",
        "lenson.dk                   0.003597\n",
        "www.kitchenone.dk           0.003726\n",
        "www.gucca.dk                0.003798\n",
        "www.synoptik.dk             0.005376\n",
        "shopsport.dk                0.005747\n",
        "www.stepnote.dk             0.005882\n",
        "www.ebay.dk                 0.006173\n",
        "mempolering.dk              0.006173\n",
        "dagensbedste.dk             0.006757\n",
        "www.gavekortet.dk           0.006849\n",
        "www.irma.dk                 0.007042\n",
        "www.sport24outlet.dk        0.007463\n",
        "www.filmudsalg.dk           0.007669\n",
        "www.sneakershop.dk          0.007692\n",
        "repfone.dk                  0.007937\n",
        "www.g.dk                    0.008065\n",
        "lampeguru.dk                0.008306\n",
        "unikmobil.dk                0.008333\n",
        "www.klodsland.dk            0.008475\n",
        "www.stadium.dk              0.009363\n",
        "mobilreparationer.dk        0.009615\n",
        "www.western-shop.dk         0.009804\n",
        "viagogo.dk                  0.010204\n",
        "www.stereostudio.dk         0.010490\n",
        "www.grydeguru.dk            0.010638\n",
        "www.alun.dk                 0.010848\n",
        "www.vipocean.dk             0.010870\n",
        "www.ure.dk                  0.010870\n",
        "www.lightinthebox.com       0.010917\n",
        "www.sejsdyner.dk            0.011111\n",
        "crazysport.dk               0.011364\n",
        "www.moviezoo.dk             0.012488\n",
        "www.happydays.nu            0.012500\n",
        "www.romantiske-gaver.dk     0.012821\n",
        "www.zopping.dk              0.013228\n",
        "pointdeal.dk                0.013699\n",
        "sweetdeal.dk                0.014286\n",
        "www.raadhuskiosken.dk       0.015625\n",
        "www.billetlugen.dk          0.016484\n",
        "Name: gender, dtype: float64"
       ]
      }
     ],
     "prompt_number": 19
    }
   ],
   "metadata": {}
  }
 ]
}