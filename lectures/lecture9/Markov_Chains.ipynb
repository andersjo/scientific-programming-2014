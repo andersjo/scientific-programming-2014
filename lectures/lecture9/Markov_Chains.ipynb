{
 "metadata": {
  "name": "",
  "signature": "sha256:10808bc7e4bf7c5afbc9210bc51d67a553a0d5459dc43d7e4b19aa6406dc0847"
 },
 "nbformat": 3,
 "nbformat_minor": 0,
 "worksheets": [
  {
   "cells": [
    {
     "cell_type": "code",
     "collapsed": false,
     "input": [
      "%matplotlib inline\n",
      "import numpy as np\n",
      "import pandas as pd"
     ],
     "language": "python",
     "metadata": {},
     "outputs": [],
     "prompt_number": 145
    },
    {
     "cell_type": "markdown",
     "metadata": {},
     "source": [
      "Markov Chains\n",
      "====\n",
      "\n",
      "<img src=\"AAMarkov.jpg\", width=200, float=left />\n",
      "\n",
      "Markov Chains are named after a Russian Mathematician, Andrey Markov. Markov Chains are a special kind of weighted directed graphs that describe how how a system changes over time. Each state is thus typically a point in discrete \"time\" (it depends on the problem what exactly a time step is). Markov Chains are thus usually used to predict how a system will develop in the future.\n",
      "\n",
      "The states are the nodes of the graph, and the transitions between them are the edges. Some state transitions are very likely, while others are not likely or even impossible. The edges are thus weighted, and expressed as conditional probability, i.e., what is the chance of going into the next state, given the state I am currently in. This is called the *Markov assumption*, i.e., that you don't take all the previous states into account when predicting the next one. Note that the system can also stay in one state, i.e., the next state is the same as the current one.\n",
      "\n",
      "The sum of the weights of all edges leaving a node has to sum to one!\n",
      "\n",
      "Markov chains are used for weather prediction, market development, speech recognition and NLP (each word is one time step), generational changes, etc.\n",
      "They are also the basis of Hidden Markov Models (HMMs) and Conditional Random Fields (CRFs), two predictive models for structured output.\n",
      "\n",
      "\n",
      "Example: Weather Prediction\n",
      "----\n",
      "\n",
      "While Copenhagen is a fantastic city, constantly rated one of the most liveable worldwide, its weather is probably not factored into these ratings. However, it can serve as an illustration of Markov Chains.\n",
      "\n",
      "Let's say there are three possible weather states:  `overcast`, `rainy`, or `sunny` (i.e., the state space). Let's also say that the next days weather only depends on the weather of today (this is our Markov assumption...). \n",
      "\n",
      "We can represent the state graph like this:\n",
      "\n",
      "<img src=\"328px-Finance_Markov_chain_example_state_space.svg.png\" width=\"400\" />\n",
      "\n",
      "Typically, the weather stays the same for a few days, but occasionally it changes. Our transition matrix looks thus like this:"
     ]
    },
    {
     "cell_type": "code",
     "collapsed": false,
     "input": [
      "#            overc. rainy  sunny\n",
      "P = np.array([[0.9, 0.075, 0.025], # overcast\n",
      "              [0.15, 0.8, 0.05],   # rainy\n",
      "              [0.25, 0.25, 0.5]])  # sunny"
     ],
     "language": "python",
     "metadata": {},
     "outputs": [],
     "prompt_number": 146
    },
    {
     "cell_type": "markdown",
     "metadata": {},
     "source": [
      "Now we can use the chain for predictions.\n",
      "\n",
      "If today it's sunny, what are the chances for tomorrow? Well, we can simply look at the last row of our transition matrix:"
     ]
    },
    {
     "cell_type": "code",
     "collapsed": false,
     "input": [
      "P[-1]"
     ],
     "language": "python",
     "metadata": {},
     "outputs": [
      {
       "metadata": {},
       "output_type": "pyout",
       "prompt_number": 147,
       "text": [
        "array([ 0.25,  0.25,  0.5 ])"
       ]
      }
     ],
     "prompt_number": 147
    },
    {
     "cell_type": "markdown",
     "metadata": {},
     "source": [
      "So there's a 25% chance of it being overcast or rainy, and a 50% chance of it staying sunny. The mathematical correct way of \"looking at the last row\" is to represent the current state (\"`sunny`\") as a one-hot vector (i.e., everything is $0$ but the current state, which is $1$), and then taking the dot product with $P$:\n",
      "\n",
      "$x \\cdot P$\n",
      "\n",
      "To represent \"`sunny`\", we would thus use\n",
      "`[ 0 0 1 ]`\n",
      "\n",
      "This will give us a distribution over the three possible states (note that the resulting state distribution vector sums to 1.0!)"
     ]
    },
    {
     "cell_type": "code",
     "collapsed": false,
     "input": [
      "np.dot(np.array([0,0,1]), P)"
     ],
     "language": "python",
     "metadata": {},
     "outputs": [
      {
       "metadata": {},
       "output_type": "pyout",
       "prompt_number": 148,
       "text": [
        "array([ 0.25,  0.25,  0.5 ])"
       ]
      }
     ],
     "prompt_number": 148
    },
    {
     "cell_type": "markdown",
     "metadata": {},
     "source": [
      "This might seem a little counterintuituve at first, but it has a big advantage: we can do this several times to predict several days ahead into the future! All we have to do for each day is take another dot product with the transition matrix.\n",
      "\n",
      "So if it is rainy today and we want to know the chances for the weather states in three days, we simply multiply the distribution over states on a day three times with the transition matrix (once for each day into the future). This can be written as\n",
      "\n",
      "$x \\cdot P^3$\n",
      "\n",
      "Again, we get a distribution over the states. In `numpy`, we have to use the `dot` function for matrix multiplication, and simply wrap it in a `for`-loop."
     ]
    },
    {
     "cell_type": "code",
     "collapsed": false,
     "input": [
      "current = np.array([1,0,0]) # one-hot representation of \"rainy\"\n",
      "\n",
      "# look three days into the future\n",
      "for i in xrange(3):\n",
      "     current = np.dot(current, P)\n",
      "        \n",
      "current"
     ],
     "language": "python",
     "metadata": {},
     "outputs": [
      {
       "metadata": {},
       "output_type": "pyout",
       "prompt_number": 157,
       "text": [
        "array([ 0.7745 ,  0.17875,  0.04675])"
       ]
      }
     ],
     "prompt_number": 157
    },
    {
     "cell_type": "markdown",
     "metadata": {},
     "source": [
      "Looks like it's likely to stay rainy for some time...\n",
      "\n",
      "If we repeat this long enough, the distribution converges to a ***stationary distribution***, i.e., in our case, we get the general distribution over weather states in Copenhagen. Note that it does not matter with which state we start."
     ]
    },
    {
     "cell_type": "code",
     "collapsed": false,
     "input": [
      "# start out rainy\n",
      "stable1 = np.array([0,1,0]) # one-hot representation of \"rainy\"\n",
      "\n",
      "# look years into the future\n",
      "for i in xrange(300000):\n",
      "     stable1 = np.dot(stable1, P)\n",
      "        \n",
      "# start out sunny\n",
      "stable2 = np.array([0,0,1]) # one-hot representation of \"sunny\"\n",
      "\n",
      "# look years into the future\n",
      "for i in xrange(300000):\n",
      "     stable2 = np.dot(stable2, P)\n",
      "\n",
      "print 'starting with \"rainy\":', stable1\n",
      "print 'starting with \"sunny\":', stable2"
     ],
     "language": "python",
     "metadata": {},
     "outputs": [
      {
       "output_type": "stream",
       "stream": "stdout",
       "text": [
        "starting with \"rainy\": [ 0.625   0.3125  0.0625]\n",
        "starting with \"sunny\": [ 0.625   0.3125  0.0625]\n"
       ]
      }
     ],
     "prompt_number": 150
    },
    {
     "cell_type": "markdown",
     "metadata": {},
     "source": [
      "So around 62.5% of the time it is overcast, 31.25% of the time it is rainy, and around 6.25% of the time it is sunny. We can even show the convergence graphically."
     ]
    },
    {
     "cell_type": "code",
     "collapsed": false,
     "input": [
      "# start out sunny\n",
      "stable3 = np.array([0,0,1]) # one-hot representation of \"sunny\"\n",
      "\n",
      "distros = []\n",
      "# look years into the future\n",
      "for i in xrange(20):\n",
      "    stable3 = np.dot(stable3, P)\n",
      "    distros.append(stable3)\n",
      "    \n",
      "pd.DataFrame(distros).plot();\n"
     ],
     "language": "python",
     "metadata": {},
     "outputs": [
      {
       "metadata": {},
       "output_type": "display_data",
       "png": "[encoded data removed]",
       "text": [
        "<matplotlib.figure.Figure at 0x1174597d0>"
       ]
      }
     ],
     "prompt_number": 159
    },
    {
     "cell_type": "markdown",
     "metadata": {},
     "source": [
      "Higher-order Chains\n",
      "----\n",
      "\n",
      "In the previous example, we only looked at the one day before, so our Markov Chain had a horizon (or history) of 1. This is thus called a ***first-order*** Markov Chain. However, we can have higher-order chains, which represent a relaxed MArkov assumption.\n",
      "\n",
      "If we wanted to base the current weather state on the last **2** days to get a ***second-order*** chain, we'd have to change our transition matrix.\n",
      "\n",
      "Each row is now a sequence of the weather on two days (i.e., '`rainy, rainy`'), so we'd have $3^2=9$ rows and still $3$ columns."
     ]
    },
    {
     "cell_type": "markdown",
     "metadata": {},
     "source": [
      "Reading\n",
      "====\n",
      "\n",
      "* http://en.wikipedia.org/wiki/Markov_chain"
     ]
    },
    {
     "cell_type": "code",
     "collapsed": false,
     "input": [],
     "language": "python",
     "metadata": {},
     "outputs": []
    }
   ],
   "metadata": {}
  }
 ]
}