{
 "metadata": {
  "name": "",
  "signature": "sha256:626389125a69a625cb6a317f5babff5c681114c421373af0369972314262c3a4"
 },
 "nbformat": 3,
 "nbformat_minor": 0,
 "worksheets": [
  {
   "cells": [
    {
     "cell_type": "markdown",
     "metadata": {},
     "source": [
      "The Shell Environment\n",
      "====\n",
      "\n",
      "So far, we have exclusively used Python to manipulate files, and used the shell only to open `ipython`. However, the shell can give you a range of excellent tools to manipulate (text) files. We wil introduce the basics here. Each of those tools was designed to do one specific thing, and do it really well.\n",
      "\n",
      "Another advantage of the shell is that you can string different tools together in a pipeline. Say, run a python script on a file, write the output to another file, and pass that one on to an external classification tool (for example **Vowpal Wabbit**). These pipelines can be stored as scripts, and then executed as often as you want. They can take parameters and are a useful tool if you work on a larger project, because you can run the same pipeline with different settings without having to write all commands by hand each time.\n",
      "\n",
      "As powerful as the shell is, it unfortunately does not run under Windows or the DOS shell, only on Mac and Linux. If you are using a Windows machine, you can install an environment like `cygwin` that simulates the shell.\n",
      "\n",
      "If you want to execute shell commands from ipython, you have to prefix them with the exclamation mark `!`, i.e., \n",
      "\n",
      "`!head file.txt`\n",
      "\n",
      "For the exercises, we will give you access to a linux server, where you can run the commands. \n",
      "\n",
      "If you have any problems with a command, you can always type `man COMMAND` to get a manual. \n",
      "\n",
      "In the follwoing, variables will be spelled in ***UPPERCASE***. Note that the shell and its programs are case-sensitive...\n"
     ]
    },
    {
     "cell_type": "markdown",
     "metadata": {},
     "source": [
      "Directories\n",
      "====\n",
      "\n",
      "You've already used `cd` to **c**hange a **d**irectory. \n",
      "\n",
      "`mkdir DIRECTORY` creates a new directory. \n",
      "\n",
      "You can also run it with a flag `-p`, and create several levels at once. In that case, it will create all directories along the path.\n",
      "\n",
      "`mkdir -p DIRECTORY/SUB_DIR/MOAR_SUB_DIR` creates all directories in the path, unless they already exist. \n"
     ]
    },
    {
     "cell_type": "code",
     "collapsed": false,
     "input": [],
     "language": "python",
     "metadata": {},
     "outputs": []
    },
    {
     "cell_type": "markdown",
     "metadata": {},
     "source": [
      "Files\n",
      "====\n",
      "\n",
      "There are several commands to manipulate files, i.e., create, move, or delete them.\n",
      "\n",
      "`touch FILE` will create a file with the given name, if it does not exist. Useful to make sure a certain file exists before writing to it, for example.\n",
      "\n",
      "`cp SOURCE TARGET` **c**o**p**ies a file from the source to the target. The source file still exists.\n",
      "\n",
      "`mv SOURCE TARGET` **m**o**v**es a file from source to target. The source file no longer exists.\n",
      "\n",
      "`rm FILE` **r**e**m**oves a file. It's gone. Deleted. Kaputt!\n",
      "\n",
      "All these commands also work for directories. However, you have to include a parameter `-r` (for **r**ecursively) if you want to include the subdirectories.\n",
      "\n",
      "You can also fetch remote files and directories from a URL by using `curl`:\n",
      "\n",
      "`curl -O URL` will fetch a file from a URL and write it into a file of the same name in the current directory.\n",
      "\n",
      "\n",
      "Wildcards\n",
      "----\n",
      "\n",
      "If you want to operate on several files that differ in only a few characters, it can be useful to have wildcards. If you had 10 files named `file000.txt` through `file009.txt`, you can copy all of them with \n",
      "\n",
      "`cp file0* some_directory/`\n",
      "\n",
      "If you only want to operate on certain files , you can provide a list:\n",
      "\n",
      "`cp file00[2468].txt some_directory/`\n"
     ]
    },
    {
     "cell_type": "code",
     "collapsed": false,
     "input": [],
     "language": "python",
     "metadata": {},
     "outputs": []
    },
    {
     "cell_type": "markdown",
     "metadata": {},
     "source": [
      "Compressing and uncompressing\n",
      "====\n",
      "\n",
      "It can be convenient to pack several files into one and compress it.\n",
      "\n",
      "`zip TARGET FILE(S)` packs all of the specified files into an archive. You should specify the ending `.zip` for the target.\n",
      "\n",
      "`unzip FILE.ZIP` reverses that, i.e., it decompresses and unpacks a `.zip` file.\n",
      "\n",
      "Alternatively, you can use `tar`. It's famously powerful and infamously complicated in it's syntax (see http://xkcd.com/1168/). Never mind, you can just remember these two:\n",
      "\n",
      "`tar czf FILE.tar.gz TARGET(S)` packs a tar file and gzips it.\n",
      "\n",
      "`tar zxvf FILE.tar.gz` unpacks a gzipped tar file.\n"
     ]
    },
    {
     "cell_type": "markdown",
     "metadata": {},
     "source": [
      "`head/tail`\n",
      "====\n",
      "You have already seen the `head` and `tail` commands, that let you look at the first and last few lines of a file (and you have seen that `pandas` has its own version).\n",
      "Both commands take a parameter that let's you specify how many lines you would like to display.\n",
      "\n",
      "`head -100 file.txt`\n",
      "gets the first 100 lines,\n",
      "`tail -100 file.txt`\n",
      "the last 100 lines.\n",
      "\n",
      "`tail` also takes an offset to start at the $n$th byte block, i.e., line.\n",
      "\n",
      "`tail +2 file.txt`\n",
      "skips the first line and shows the rest of the file.\n",
      "\n"
     ]
    },
    {
     "cell_type": "code",
     "collapsed": false,
     "input": [],
     "language": "python",
     "metadata": {},
     "outputs": []
    },
    {
     "cell_type": "markdown",
     "metadata": {},
     "source": [
      "Piping and output\n",
      "====\n",
      "Two important concepts in the shell are piping and output. Piping (i.e., creating a pipeline) allows you to execute several commands in a one go, where each takes the output of the previous commands as input. You can do this by using the `|` symbol (appropriately called the \"pipe\").\n",
      "\n",
      "`command1 file.txt | command2`\n",
      "\n",
      "File output comes in two forms: standard output and standard error, aka STDOUT and STDERR. This is extremely useful to separate progress output (e.g., \"Training model...\"), which is typiucally written to STDERR, from actual output (e.g., \"Accuracy: 89.56\"), which is typically written to STDOUT. If you run a script in the shell, you can not necessarily see which output is which, but you can redirect them to different files.\n",
      "In order to write standard output to a file, use the `>` sign after a command.\n",
      "\n",
      "`head -100 file.txt > file.top100.txt`\n",
      "\n",
      "Any STDERR output generated during this will still occur in the shell. In order to redirect STDERR, you use `2>`. This is very handy to create log files of the programs you are running.\n",
      "\n",
      "`command file.txt > output.txt 2> output.log`\n"
     ]
    },
    {
     "cell_type": "code",
     "collapsed": false,
     "input": [],
     "language": "python",
     "metadata": {},
     "outputs": []
    },
    {
     "cell_type": "markdown",
     "metadata": {},
     "source": [
      "`sort` and `uniq`\n",
      "====\n",
      "\n",
      "You can sort a file by running `sort` on it. \n",
      "\n",
      "`sort FILE`\n",
      "\n",
      "Several flags let you defined how to sort. The most important ones are `-r` for reverse order, and `-n`, for numerical sorting (otherwise, the numbers 1 through 10 will be ordered as 1 ***10*** 2 3 4 5 6 7 8 9)\n",
      "\n",
      "\n",
      "`uniq` is typically called with a pipe after sort, and basically removes duplicates. \n",
      "\n",
      "`sort FILE | uniq`\n",
      "\n",
      "It has a flag, `-c`, that counts how often each type has occurred in the sorted list.\n"
     ]
    },
    {
     "cell_type": "code",
     "collapsed": false,
     "input": [],
     "language": "python",
     "metadata": {},
     "outputs": []
    },
    {
     "cell_type": "markdown",
     "metadata": {},
     "source": [
      "`cat`\n",
      "====\n",
      "`cat` simply prints the contents of a file to the shell. \n",
      "\n",
      "`cat FILE`\n",
      "\n",
      "However, you can specify as many files as you want and output them together to create a new, combined file.\n",
      "\n",
      "`cat FILE1 FILE2 > FILE3`\n"
     ]
    },
    {
     "cell_type": "code",
     "collapsed": false,
     "input": [],
     "language": "python",
     "metadata": {},
     "outputs": []
    },
    {
     "cell_type": "markdown",
     "metadata": {},
     "source": [
      "`echo`\n",
      "====\n",
      "`echo` takes a string or a variable and prints it to standard output. \n",
      "\n",
      "`echo $VAR` or `echo \"my hovercraft is full of eels\"`\n",
      "\n",
      "This is very useful if you want to know the value of an environment variable, or if you want to leave traces in your shell scripts."
     ]
    },
    {
     "cell_type": "code",
     "collapsed": false,
     "input": [],
     "language": "python",
     "metadata": {},
     "outputs": []
    },
    {
     "cell_type": "markdown",
     "metadata": {},
     "source": [
      "`tr`\n",
      "====\n",
      "\n",
      "`tr` is a simple way to replace characters for others. `tr` has the strange property that you need to pipe the file **into** the program, so the syntax is\n",
      "\n",
      "`tr 'TARGET' 'REPLACEMENT' < FILE`\n",
      "\n",
      "A common operation is to replace spaces with newlines (`\\n`)\n",
      "The target and replacement can also be groups of characters, such as all uppercase or all lowercase letters, which makes lowercasing a whole file very easy:\n",
      "\n",
      "`tr 'A-Z' 'a-z' < FILE`\n",
      "\n"
     ]
    },
    {
     "cell_type": "code",
     "collapsed": false,
     "input": [],
     "language": "python",
     "metadata": {},
     "outputs": []
    },
    {
     "cell_type": "markdown",
     "metadata": {},
     "source": [
      "`paste`\n",
      "====\n",
      "`paste` takes any number of files and concatenates them horizontally, i.e., as tab-separated columns.\n",
      "\n",
      "`paste FILE1 FILE2 FILE3`\n",
      "\n",
      "Very useful to generate results files from bit and pieces of other files."
     ]
    },
    {
     "cell_type": "code",
     "collapsed": false,
     "input": [],
     "language": "python",
     "metadata": {},
     "outputs": []
    },
    {
     "cell_type": "markdown",
     "metadata": {},
     "source": [
      "`grep/egrep`\n",
      "====\n",
      "\n",
      "These commands do basically the same, namely search for a specified string in the file. `egrep` allows for regular expressions.\n",
      "\n",
      "`grep TARGET FILE`\n",
      "\n",
      "There are three important flags:\n",
      "\n",
      "* `-i`: ignore case\n",
      "* `-v`: return lines that ***don't*** contain the search string\n",
      "* `-c`: return the number of times the string has been found rather than the actual lines"
     ]
    },
    {
     "cell_type": "code",
     "collapsed": false,
     "input": [],
     "language": "python",
     "metadata": {},
     "outputs": []
    },
    {
     "cell_type": "markdown",
     "metadata": {},
     "source": [
      "`sed`\n",
      "====\n",
      "\n",
      "`sed` stands for *String Editor* and is on the surface similar to `tr`, but more powerful. It can replace whole strings or regular expressions. One of the most common commands is \n",
      "\n",
      "`sed 's/TARGET/REPLACEMENT/g' FILE`\n",
      "\n",
      "It replaces all instances of the target in the file and writes the result to STDOUT. Useful to replace misspelled words."
     ]
    },
    {
     "cell_type": "code",
     "collapsed": false,
     "input": [],
     "language": "python",
     "metadata": {},
     "outputs": []
    },
    {
     "cell_type": "markdown",
     "metadata": {},
     "source": [
      "`awk`\n",
      "====\n",
      "\n",
      "`awk` is not just a program, but a small and simple programming language, although it's mostly used for one-liners. It's great to\n",
      "\n",
      "1. find lines that fulfill a certain condition\n",
      "2. print only certain columns\n",
      "3. do arithmatic (summing, averaging, etc.) on counts\n",
      "\n",
      "It can split files on a given character (typically \"\\t\" for tabs, \",\" or, by default \" \"), and indexes each resulting column by a variable from `$1` to `$NF` (the ***N***umber of ***F***ields, i.e., the last column). You can get the number of columns by printing `NF` (without the `$`). Similarly, you can get the rows by `NR`.\n",
      "\n",
      "There is not enough space here to do `awk` justice in all its glory, but consider using these gems:\n",
      "\n",
      "* `awk -F \"\\t\" '{if ($1==\"STRING\") print}' FILE` splits a file on tabs, and prints the line if the first column has a certain value.\n",
      "\n",
      "* `awk -F \",\" '{print $1,$4,$8}' FILE` splits a file on commas (hellos, CSVs...) and prints the first, fourth, and eights column.\n",
      "\n",
      "* `awk '{sum+=$1} END {print sum/NR}' FILE` splits a file on spaces and prints the average of the first column. Nice if you have a lot of results in one file...\n"
     ]
    },
    {
     "cell_type": "code",
     "collapsed": false,
     "input": [],
     "language": "python",
     "metadata": {},
     "outputs": []
    },
    {
     "cell_type": "markdown",
     "metadata": {},
     "source": [
      "`for`-loops\n",
      "====\n",
      "\n",
      "Just as in Python, you can execute `for`-loops in the shell. This is extremely handy if you want to iterate over a bunch of files that have the same name with different extensions, or are in different directories.\n",
      "The syntax is\n",
      "\n",
      "```\n",
      "for VAR1 VAR2 VAR3\n",
      "do\n",
      "    SOME_COMMAND\n",
      "done\n",
      "```\n",
      "\n",
      "The variables to iter over can either be strings or a range of integers. In the latter case, you can specify a range like so:\n",
      "\n",
      "`for x in {START..FINISH}`\n",
      "\n"
     ]
    },
    {
     "cell_type": "code",
     "collapsed": false,
     "input": [],
     "language": "python",
     "metadata": {},
     "outputs": []
    },
    {
     "cell_type": "markdown",
     "metadata": {},
     "source": [
      "Reading\n",
      "====\n",
      "\n",
      "* http://web.stanford.edu/class/cs124/kwc-unix-for-poets.pdf"
     ]
    },
    {
     "cell_type": "code",
     "collapsed": false,
     "input": [],
     "language": "python",
     "metadata": {},
     "outputs": []
    }
   ],
   "metadata": {}
  }
 ]
}