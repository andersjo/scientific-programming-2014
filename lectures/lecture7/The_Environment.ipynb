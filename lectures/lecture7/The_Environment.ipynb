{
 "metadata": {
  "name": "",
  "signature": "sha256:a08a16a4fb45af23181f46aad5277c0671eb5df46101589c92c738ad2114f07b"
 },
 "nbformat": 3,
 "nbformat_minor": 0,
 "worksheets": [
  {
   "cells": [
    {
     "cell_type": "markdown",
     "metadata": {},
     "source": [
      "The Shell Environment\n",
      "====\n",
      "\n",
      "So far, we have exclusively used Python to manipulate files, and used the shell only to open `ipython`. However, the shell can give you a range of excellent tools to manipulate (text) files. We wil introduce the basics here. Each of those tools was designed to do one specific thing, and do it really well.\n",
      "\n",
      "Another advantage of the shell is that you can string different tools together in a pipeline. Say, run a python script on a file, write the output to another file, and pass that one on to an external classification tool (for example **Vowpal Wabbit**). These pipelines can be stored as scripts, and then executed as often as you want. They can take parameters and are a useful tool if you work on a larger project, because you can run the same pipeline with different settings without having to write all commands by hand each time.\n",
      "\n",
      "As powerful as the shell is, it unfortunately does not run under Windows or the DOS shell, only on Mac and Linux. If you are using a Windows machine, you can install an environment like `cygwin` that simulates the shell.\n",
      "\n",
      "If you want to execute shell commands from ipython, you have to prefix them with the exclamation mark `!`, i.e., \n",
      "\n",
      "`!head file.txt`\n",
      "\n",
      "For the exercises, we will give you access to a linux server, where you can run the commands. \n",
      "\n",
      "If you have any problems with a command, you can always type `man COMMAND` toget a manual. \n"
     ]
    },
    {
     "cell_type": "markdown",
     "metadata": {},
     "source": [
      "Files\n",
      "====\n",
      "\n",
      "There are several commands to manipulate files, i.e., create, move, or delete them.\n",
      "\n",
      "`touch FILE` will create a file with the given name, if it does not exist. \n",
      "\n",
      "`cp SOURCE TARGET` copies a file from the source to the target. The source file still exists.\n",
      "\n",
      "`mv SOURCE TARGET` moves a file from source to target. The source file no longer exists.\n",
      "\n",
      "`rm FILE` removes a file. It's gone!\n",
      "\n",
      "Wildcards\n",
      "----\n",
      "\n",
      "If you want to operate on several files that differ in only a few characters, it can be useful to have wildcards. If you had 10 files named `file000.txt` through `file009.txt`, you can copy all of them with \n",
      "\n",
      "`cp file0* some_directory/`\n",
      "\n",
      "If you only want to operate on certain files , you can provide a list:\n",
      "\n",
      "`cp file00[2468].txt some_directory/`\n"
     ]
    },
    {
     "cell_type": "markdown",
     "metadata": {},
     "source": [
      "Directories\n",
      "====\n",
      "\n"
     ]
    },
    {
     "cell_type": "markdown",
     "metadata": {},
     "source": [
      "`head/tail`\n",
      "====\n",
      "You have already seen the `head` and `tail` commands, that let you look at the first and last few lines of a file (and you have seen that `pandas` has its own version).\n",
      "Both commands take a parameter that let's you specify how many lines you would like to display.\n",
      "\n",
      "`head -100 file.txt`\n",
      "gets the first 100 lines,\n",
      "`tail -100 file.txt`\n",
      "the last 100 lines.\n",
      "\n",
      "`tail` also takes an offset to start at the $n$th byte block, i.e., line.\n",
      "\n",
      "`tail +2 file.txt`\n",
      "skips the first line and shows the rest of the file.\n",
      "\n"
     ]
    },
    {
     "cell_type": "code",
     "collapsed": false,
     "input": [
      "!head -10"
     ],
     "language": "python",
     "metadata": {},
     "outputs": []
    },
    {
     "cell_type": "markdown",
     "metadata": {},
     "source": [
      "Piping and output\n",
      "====\n",
      "Two important concepts in the shell are piping and output. Piping (i.e., creating a pipeline) allows you to execute several commands in a one go, where each takes the output of the previous commands as input. You can do this by using the `|` symbol (appropriately called the \"pipe\").\n",
      "\n",
      "`command1 file.txt | command2`\n",
      "\n",
      "File output comes in two forms: standard output and standard error, aka STDOUT and STDERR. This is extremely useful to separate progress output (e.g., \"Training model...\"), which is typiucally written to STDERR, from actual output (e.g., \"Accuracy: 89.56\"), which is typically written to STDOUT. If you run a script in the shell, you can not necessarily see which output is which, but you can redirect them to different files.\n",
      "In order to write standard output to a file, use the `>` sign after a command.\n",
      "\n",
      "`head -100 file.txt > file.top100.txt`\n",
      "\n",
      "Any STDERR output generated during this will still occur in the shell. In order to redirect STDERR, you use `2>`. This is very handy to create log files of the programs you are running.\n",
      "\n",
      "`command file.txt > output.txt 2> output.log`\n"
     ]
    },
    {
     "cell_type": "code",
     "collapsed": false,
     "input": [],
     "language": "python",
     "metadata": {},
     "outputs": []
    },
    {
     "cell_type": "markdown",
     "metadata": {},
     "source": [
      "`sort` and `uniq`\n",
      "====\n",
      "\n",
      "You can sort a file by running `sort` on it. Several flags let you defined how to sort. The most important ones are `-r` for reverse order, and `-n`, for numerical sorting (otherwise, the numbers 1 through 10 will be ordered as 1 ***10*** 2 3 4 5 6 7 8 9)\n",
      "\n",
      "`uniq` is typically called with a pipe after sort, and basically removes duplicates. It has a flag, `-c`, that counts how often each type has occurred in the sorted list.\n"
     ]
    },
    {
     "cell_type": "code",
     "collapsed": false,
     "input": [],
     "language": "python",
     "metadata": {},
     "outputs": []
    },
    {
     "cell_type": "markdown",
     "metadata": {},
     "source": [
      "`cat`\n",
      "====\n",
      "`cat` simply prints the contents of a file to the shell. However, you can specify as many files as you want and output them together to create a new, combined file.\n",
      "\n",
      "`cat file.txt output.top100.txt > new_file.txt`\n"
     ]
    },
    {
     "cell_type": "code",
     "collapsed": false,
     "input": [],
     "language": "python",
     "metadata": {},
     "outputs": []
    },
    {
     "cell_type": "markdown",
     "metadata": {},
     "source": [
      "`echo`\n",
      "====\n",
      "`echo` takes a string or a variable and prints it to standard output. This is very useful if you want to know the value of an environment variable, or if you want to leave traces in your shell scripts."
     ]
    },
    {
     "cell_type": "code",
     "collapsed": false,
     "input": [],
     "language": "python",
     "metadata": {},
     "outputs": []
    },
    {
     "cell_type": "markdown",
     "metadata": {},
     "source": [
      "`paste`\n",
      "====\n",
      "`paste` takes any number of files and concatenates them horizontally, i.e., as tab-separated columns.\n",
      "\n"
     ]
    },
    {
     "cell_type": "code",
     "collapsed": false,
     "input": [],
     "language": "python",
     "metadata": {},
     "outputs": []
    },
    {
     "cell_type": "markdown",
     "metadata": {},
     "source": [
      "`grep/egrep`\n",
      "====\n",
      "\n",
      "These commands do basically the same, namely search for a specified string in the file. There are three important flags:\n",
      "\n",
      "* `-i`: ignore case\n",
      "* `-v`: return lines that ***don't*** contain the search string\n",
      "* `-c`: return the number of times the string has been found rather than the actual lines"
     ]
    },
    {
     "cell_type": "code",
     "collapsed": false,
     "input": [],
     "language": "python",
     "metadata": {},
     "outputs": []
    },
    {
     "cell_type": "markdown",
     "metadata": {},
     "source": [
      "`tr`\n",
      "====\n",
      "\n",
      "`tr` is a simple way to replace characters for others. `tr` has the strange property that you need to pipe the file **into** the program, so the syntax is\n",
      "\n",
      "`tr 'target' 'replacement' < file`\n",
      "\n",
      "The target and replacement can be groups of characters, such as all uppercase or all lowercase letters, which makes lowercasing a whole file very easy:\n",
      "\n",
      "`tr 'A-Z' 'a-z' < file`\n",
      "\n"
     ]
    },
    {
     "cell_type": "code",
     "collapsed": false,
     "input": [],
     "language": "python",
     "metadata": {},
     "outputs": []
    },
    {
     "cell_type": "markdown",
     "metadata": {},
     "source": [
      "`sed`\n",
      "====\n",
      "\n",
      "`sed` stands for *String Editor* and is on the surface similar to `tr`, but more powerful. It can replace regular expressions."
     ]
    },
    {
     "cell_type": "code",
     "collapsed": false,
     "input": [],
     "language": "python",
     "metadata": {},
     "outputs": []
    },
    {
     "cell_type": "markdown",
     "metadata": {},
     "source": [
      "`awk`\n",
      "====\n",
      "\n",
      "`awk` is not just a program, but a small and simple programming language, although it's mostly used for one-liners. It's great to\n",
      "\n",
      "1. find lines that fulfill a certain condition\n",
      "2. print only certain columns\n",
      "3. do arithmatic (summing, averaging, etc.) on counts"
     ]
    },
    {
     "cell_type": "code",
     "collapsed": false,
     "input": [],
     "language": "python",
     "metadata": {},
     "outputs": []
    },
    {
     "cell_type": "markdown",
     "metadata": {},
     "source": [
      "`for`-loops\n",
      "====\n",
      "\n",
      "Just as in Python, you can execute `for`-loops in the shell. This is extremely handy if you want to iterate over a bunch of files that have the same name with different extensions, or are in different directories.\n",
      "The syntax is\n",
      "\n",
      "```\n",
      "for var1 [var2 ... varN]\n",
      "do\n",
      "    some command\n",
      "done\n",
      "```\n",
      "\n",
      "The variables to iter over can either be strings or a range of integers.\n"
     ]
    },
    {
     "cell_type": "code",
     "collapsed": false,
     "input": [
      "!for x in en fr de dk es; \\\n",
      "do echo $x; \\\n",
      "done\n",
      "\n",
      "!for x in 1..10; \\\n",
      "do echo $x; \\\n",
      "done"
     ],
     "language": "python",
     "metadata": {},
     "outputs": [
      {
       "output_type": "stream",
       "stream": "stdout",
       "text": [
        "en\r\n",
        "fr\r\n",
        "de\r\n",
        "dk\r\n",
        "es\r\n"
       ]
      },
      {
       "output_type": "stream",
       "stream": "stdout",
       "text": [
        "1..10\r\n"
       ]
      }
     ],
     "prompt_number": 11
    },
    {
     "cell_type": "markdown",
     "metadata": {},
     "source": [
      "Reading\n",
      "====\n",
      "\n",
      "* http://web.stanford.edu/class/cs124/kwc-unix-for-poets.pdf"
     ]
    },
    {
     "cell_type": "code",
     "collapsed": false,
     "input": [],
     "language": "python",
     "metadata": {},
     "outputs": []
    }
   ],
   "metadata": {}
  }
 ]
}