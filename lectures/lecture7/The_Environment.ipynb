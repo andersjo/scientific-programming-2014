{
 "metadata": {
  "name": "",
  "signature": "sha256:2d21a5902f2747254198a498753c1f1f52f0a9f8dc94710ba437f0c6c006d170"
 },
 "nbformat": 3,
 "nbformat_minor": 0,
 "worksheets": [
  {
   "cells": [
    {
     "cell_type": "markdown",
     "metadata": {},
     "source": [
      "The Shell Environment\n",
      "====\n",
      "\n",
      "So far, we have exclusively used Python to manipulate files, and used the shell only to open `ipython`. However, the shell can give you a range of excellent tools to manipulate (text) files. We wil introduce the basics here. Each of those tools was designed to do one specific thing, and do it really well.\n",
      "\n",
      "Another advantage of the shell is that you can string different tools together in a pipeline. Say, run a python script on a file, write the output to another file, and pass that one on to an external classification tool (for example **Vowpal Wabbit**). These pipelines can be stored as scripts, and then executed as often as you want. They can take parameters and are a useful tool if you work on a larger project, because you can run the same pipeline with different settings without having to write all commands by hand each time.\n",
      "\n",
      "As powerful as the shell is, it unfortunately does not run under Windows or the DOS shell, only on Mac and Linux. If you are using a Windows machine, you can install an environment like `cygwin` that simulates the shell.\n",
      "\n",
      "If you want to execute shell commands from ipython, you have to prefix them with the exclamation mark `!`, i.e., \n",
      "\n",
      "`!head file.txt`\n",
      "\n",
      "For the exercises, we will give you access to a linux server, where you can run the commands. \n",
      "\n",
      "If you have any problems with a command, you can always type `man COMMAND` to get a manual. \n",
      "\n",
      "In the following, variables will be spelled in ***UPPERCASE***. Note that the shell and its programs are case-sensitive...\n"
     ]
    },
    {
     "cell_type": "markdown",
     "metadata": {},
     "source": [
      "Directories\n",
      "====\n",
      "\n",
      "You've already used `cd` to **c**hange a **d**irectory. \n",
      "\n",
      "`mkdir DIRECTORY` creates a new directory. \n",
      "\n",
      "You can also run it with a flag `-p`, and create several levels at once. In that case, it will create all directories along the path.\n",
      "\n",
      "`mkdir -p DIRECTORY/SUB_DIR/MOAR_SUB_DIR` creates all directories in the path, unless they already exist. \n"
     ]
    },
    {
     "cell_type": "code",
     "collapsed": false,
     "input": [
      "!mkdir tmp\n",
      "!ls"
     ],
     "language": "python",
     "metadata": {},
     "outputs": [
      {
       "output_type": "stream",
       "stream": "stdout",
       "text": [
        "mkdir: tmp: File exists\r\n"
       ]
      },
      {
       "output_type": "stream",
       "stream": "stdout",
       "text": [
        "Exercises.ipynb       data.txt              male.txt              male2.txt\r\n",
        "The_Environment.ipynb data.zip              male1.txt             \u001b[34mtmp\u001b[m\u001b[m\r\n"
       ]
      }
     ],
     "prompt_number": 58
    },
    {
     "cell_type": "markdown",
     "metadata": {},
     "source": [
      "Files\n",
      "====\n",
      "\n",
      "There are several commands to manipulate files, i.e., create, move, or delete them.\n",
      "\n",
      "`touch FILE` will create a file with the given name, if it does not exist. Useful to make sure a certain file exists before writing to it, for example.\n",
      "\n",
      "`cp SOURCE TARGET` **c**o**p**ies a file from the source to the target. The source file still exists.\n",
      "\n",
      "`mv SOURCE TARGET` **m**o**v**es a file from source to target. The source file no longer exists.\n",
      "\n",
      "`rm FILE` **r**e**m**oves a file. It's gone. Deleted. Kaputt!\n",
      "\n",
      "All these commands also work for directories. However, you have to include a parameter `-r` (for **r**ecursively) if you want to include the subdirectories.\n",
      "\n",
      "You can also fetch remote files and directories from a URL by using `curl`:\n",
      "\n",
      "`curl -O URL` will fetch a file from a URL and write it into a file of the same name in the current directory.\n",
      "\n",
      "\n",
      "Wildcards\n",
      "----\n",
      "\n",
      "If you want to operate on several files that differ in only a few characters, it can be useful to have wildcards. If you had 10 files named `file000.txt` through `file009.txt`, you can copy all of them with \n",
      "\n",
      "`cp file0* some_directory/`\n",
      "\n",
      "If you only want to operate on certain files , you can provide a list:\n",
      "\n",
      "`cp file00[2468].txt some_directory/`\n"
     ]
    },
    {
     "cell_type": "code",
     "collapsed": false,
     "input": [
      "!cp data.txt tmp/reviews.tsv\n",
      "!cp data.txt tmp/\n",
      "!pwd"
     ],
     "language": "python",
     "metadata": {},
     "outputs": [
      {
       "output_type": "stream",
       "stream": "stdout",
       "text": [
        "/Users/dirkhovy/Dropbox/copenhagen/teaching/scientific_programming/scientific-programming-2014/lectures/lecture7\r\n"
       ]
      }
     ],
     "prompt_number": 63
    },
    {
     "cell_type": "markdown",
     "metadata": {},
     "source": [
      "Compressing and uncompressing\n",
      "====\n",
      "\n",
      "It can be convenient to pack several files into one and compress it.\n",
      "\n",
      "`zip TARGET FILE(S)` packs all of the specified files into an archive. You should specify the ending `.zip` for the target.\n",
      "\n",
      "`unzip FILE.ZIP` reverses that, i.e., it decompresses and unpacks a `.zip` file.\n",
      "\n",
      "Alternatively, you can use `tar`. It's famously powerful and infamously complicated in it's syntax (see http://xkcd.com/1168/). Never mind, you can just remember these two:\n",
      "\n",
      "`tar czf FILE.tar.gz TARGET(S)` packs a tar file and gzips it.\n",
      "\n",
      "`tar zxvf FILE.tar.gz` unpacks a gzipped tar file.\n"
     ]
    },
    {
     "cell_type": "markdown",
     "metadata": {},
     "source": [
      "`head/tail`\n",
      "====\n",
      "You have already seen the `head` and `tail` commands, that let you look at the first and last few lines of a file (and you have seen that `pandas` has its own version).\n",
      "Both commands take a parameter that let's you specify how many lines you would like to display.\n",
      "\n",
      "`head -100 file.txt`\n",
      "gets the first 100 lines,\n",
      "`tail -100 file.txt`\n",
      "the last 100 lines.\n",
      "\n",
      "`tail` also takes an offset to start at the $n$th byte block, i.e., line.\n",
      "\n",
      "`tail +2 file.txt`\n",
      "skips the first line and shows the rest of the file.\n",
      "\n"
     ]
    },
    {
     "cell_type": "code",
     "collapsed": false,
     "input": [
      "!head -10 data.txt"
     ],
     "language": "python",
     "metadata": {},
     "outputs": [
      {
       "output_type": "stream",
       "stream": "stdout",
       "text": [
        "NONE\tM\tThe order was filled quickly and correctly. No problems at all, highly recommended.\r\n",
        "NONE\tM\tI found the parts I was looking for much cheaper than at major part dealer sites. The delivery was fast and the part fit perfectly. Great service. No complaints. You will definitely get more of my business and I will gladly recommend you to friends!\r\n",
        "NONE\tM\tCamicia non conforme rispetto all'ordine  : sbagliate le cuciture dei bottoni.\r\n",
        "NONE\tF\tThis is the greatest thing, Once a month Petflow sends a box of \"goodies\" for your pet . Charlotte my ShihTzu got her first one on December 22nd just in time for Christmas .  She got an adorable cow toy,  some treats shes never tried before but seemed to like all of them. And some teeth cleaner that doesn't involve brushing. I dont know whos more excited about next month's package Charlotte or me...\r\n",
        "NONE\tM\tHonesty and sincerity are very important to have and I think that they have both. I would definitely recommend them.\r\n",
        "NONE\tF\tOne Product to big for being a med. and the color was not what was expected.\r\n",
        "50\tF\tUsed this site many times.  I always start mysearch here. Prices change daily and if you want to really research the price continually at many different sites, I have found cheaper cars elsewhere.  However, if you don't have a lot of time to research the price, this site has always been among the top three (e.g., cheapest) of the ten sites I use to reserve a car.\r\n",
        "NONE\tF\tVery unsatisfied with product. It was shipped with multiple wrong parts. It took months to resolve. They stopped answering my calls to get the right parts so i had to call credit card Company to get a credit before they finally responded. I wish I would have read thier reviews online prior to buying.\r\n",
        "NONE\tM\tDet rigtige til tiden\r\n",
        "NONE\tM\tWe were very happy to find out, that we also could take as many river cruises as we liked in the period of the ticket.\r\n"
       ]
      }
     ],
     "prompt_number": 64
    },
    {
     "cell_type": "markdown",
     "metadata": {},
     "source": [
      "Piping and output\n",
      "====\n",
      "Two important concepts in the shell are piping and output. Piping (i.e., creating a pipeline) allows you to execute several commands in a one go, where each takes the output of the previous commands as input. You can do this by using the `|` symbol (appropriately called the \"pipe\").\n",
      "\n",
      "`command1 file.txt | command2`\n",
      "\n",
      "File output comes in two forms: standard output and standard error, aka STDOUT and STDERR. This is extremely useful to separate progress output (e.g., \"Training model...\"), which is typiucally written to STDERR, from actual output (e.g., \"Accuracy: 89.56\"), which is typically written to STDOUT. If you run a script in the shell, you can not necessarily see which output is which, but you can redirect them to different files.\n",
      "In order to write standard output to a file, use the `>` sign after a command.\n",
      "\n",
      "`head -100 file.txt > file.top100.txt`\n",
      "\n",
      "Any STDERR output generated during this will still occur in the shell. In order to redirect STDERR, you use `2>`. This is very handy to create log files of the programs you are running.\n",
      "\n",
      "`command file.txt > output.txt 2> output.log`\n"
     ]
    },
    {
     "cell_type": "code",
     "collapsed": false,
     "input": [
      "!head tmp/reviews.tsv > tmp/top10.reviews.tsv\n",
      "!tail tmp/reviews.tsv > tmp/bottom10.reviews.tsv\n",
      "!head tmp/bottom10.reviews.tsv"
     ],
     "language": "python",
     "metadata": {},
     "outputs": [
      {
       "output_type": "stream",
       "stream": "stdout",
       "text": [
        "21\tM\tI've already purchased like 4 or 5 times in PCGameSupply PSN Cards, always they're almost Instant Issued to my account - orders before I notice...\r\n",
        "NONE\tM\tGot my labels quickly, and they look fantastic. Thanks!\r\n",
        "NONE\tM\tI have just sold my I-phone to envirophone and I am glad to say got a good price and excellent service. I will certainly use them again and recommend  them to you if you have a spare phone to dispose of if you have just upgraded. Give them a try what have you got to lose?\r\n",
        "NONE\tF\tWell structured website, helpful with good reviews and videos.\r\n",
        "NONE\tF\tI have 5 dogs and I like to order toys for them.  None of the 5 were interested in your Gumby Toy.  How have other dogs reacted to Gumby?\r\n",
        "NONE\tF\tI have used easytobook for the last 8 years and couldnt be happier with the website and service: the prices are lower than most other hotel websites and the page is easy to navigate. The page layout is extremely important if someone wants to such a large number of hotels and doesnt have too much time on their hands.\r\n",
        "NONE\tF\ti ordered for the first time a month or so ago. i ordered two dresses and three tops. i returned both the dresses and one of the tops. these three items had a total of 55 pounds but i was only refunded 48. I do not know why 7 pounds was deducted and this is unacceptable.\r\n",
        "NONE\tM\tDid not receive my items from a seller, pay pal would not refund the money. They said the seller provided a shipping/tracking # only half the order was in this box. Pay Pal Sucks\r\n",
        "NONE\tM\tFast and convenient.\r\n",
        "NONE\tM\tI buy some toners to printer and I buy it again in hunt office.\r\n"
       ]
      }
     ],
     "prompt_number": 66
    },
    {
     "cell_type": "markdown",
     "metadata": {},
     "source": [
      "`sort` and `uniq`\n",
      "====\n",
      "\n",
      "You can sort a file by running `sort` on it. \n",
      "\n",
      "`sort FILE`\n",
      "\n",
      "Several flags let you defined how to sort. The most important ones are `-r` for reverse order, and `-n`, for numerical sorting (otherwise, the numbers 1 through 10 will be ordered as 1 ***10*** 2 3 4 5 6 7 8 9)\n",
      "\n",
      "\n",
      "`uniq` is typically called with a pipe after sort, and basically removes duplicates. \n",
      "\n",
      "`sort FILE | uniq`\n",
      "\n",
      "It has a flag, `-c`, that counts how often each type has occurred in the sorted list.\n"
     ]
    },
    {
     "cell_type": "code",
     "collapsed": false,
     "input": [
      "!sort tmp/top10.reviews.tsv"
     ],
     "language": "python",
     "metadata": {},
     "outputs": [
      {
       "output_type": "stream",
       "stream": "stdout",
       "text": [
        "50\tF\tUsed this site many times.  I always start mysearch here. Prices change daily and if you want to really research the price continually at many different sites, I have found cheaper cars elsewhere.  However, if you don't have a lot of time to research the price, this site has always been among the top three (e.g., cheapest) of the ten sites I use to reserve a car.\r\n",
        "NONE\tF\tOne Product to big for being a med. and the color was not what was expected.\r\n",
        "NONE\tF\tThis is the greatest thing, Once a month Petflow sends a box of \"goodies\" for your pet . Charlotte my ShihTzu got her first one on December 22nd just in time for Christmas .  She got an adorable cow toy,  some treats shes never tried before but seemed to like all of them. And some teeth cleaner that doesn't involve brushing. I dont know whos more excited about next month's package Charlotte or me...\r\n",
        "NONE\tF\tVery unsatisfied with product. It was shipped with multiple wrong parts. It took months to resolve. They stopped answering my calls to get the right parts so i had to call credit card Company to get a credit before they finally responded. I wish I would have read thier reviews online prior to buying.\r\n",
        "NONE\tM\tCamicia non conforme rispetto all'ordine  : sbagliate le cuciture dei bottoni.\r\n",
        "NONE\tM\tDet rigtige til tiden\r\n",
        "NONE\tM\tHonesty and sincerity are very important to have and I think that they have both. I would definitely recommend them.\r\n",
        "NONE\tM\tI found the parts I was looking for much cheaper than at major part dealer sites. The delivery was fast and the part fit perfectly. Great service. No complaints. You will definitely get more of my business and I will gladly recommend you to friends!\r\n",
        "NONE\tM\tThe order was filled quickly and correctly. No problems at all, highly recommended.\r\n",
        "NONE\tM\tWe were very happy to find out, that we also could take as many river cruises as we liked in the period of the ticket.\r\n"
       ]
      }
     ],
     "prompt_number": 68
    },
    {
     "cell_type": "markdown",
     "metadata": {},
     "source": [
      "`cat`\n",
      "====\n",
      "`cat` simply prints the contents of a file to the shell. \n",
      "\n",
      "`cat FILE`\n",
      "\n",
      "However, you can specify as many files as you want and output them together to create a new, combined file.\n",
      "\n",
      "`cat FILE1 FILE2 > FILE3`\n"
     ]
    },
    {
     "cell_type": "code",
     "collapsed": false,
     "input": [
      "!cat tmp/top10.reviews.tsv tmp/bottom10.reviews.tsv > tmp/combined.tsv\n",
      "!wc -l tmp/combined.tsv"
     ],
     "language": "python",
     "metadata": {},
     "outputs": [
      {
       "output_type": "stream",
       "stream": "stdout",
       "text": [
        "      20 tmp/combined.tsv\r\n"
       ]
      }
     ],
     "prompt_number": 69
    },
    {
     "cell_type": "markdown",
     "metadata": {},
     "source": [
      "`echo`\n",
      "====\n",
      "`echo` takes a string or a variable and prints it to standard output. \n",
      "\n",
      "`echo $VAR` or `echo \"my hovercraft is full of eels\"`\n",
      "\n",
      "This is very useful if you want to know the value of an environment variable, or if you want to leave traces in your shell scripts."
     ]
    },
    {
     "cell_type": "code",
     "collapsed": false,
     "input": [
      "!echo \"NONE\\tM\\ttest\"\n",
      "!echo \"NONE\\tM\\ttest\" >> tmp/combined.tsv\n",
      "!wc -l tmp/combined.tsv"
     ],
     "language": "python",
     "metadata": {},
     "outputs": [
      {
       "output_type": "stream",
       "stream": "stdout",
       "text": [
        "NONE\tM\ttest\r\n"
       ]
      },
      {
       "output_type": "stream",
       "stream": "stdout",
       "text": [
        "      22 tmp/combined.tsv\r\n"
       ]
      }
     ],
     "prompt_number": 71
    },
    {
     "cell_type": "code",
     "collapsed": false,
     "input": [
      "!wc -l tmp/combined.tsv\n"
     ],
     "language": "python",
     "metadata": {},
     "outputs": [
      {
       "output_type": "stream",
       "stream": "stdout",
       "text": [
        "      22 tmp/combined.tsv\r\n"
       ]
      }
     ],
     "prompt_number": 76
    },
    {
     "cell_type": "markdown",
     "metadata": {},
     "source": [
      "`tr`\n",
      "====\n",
      "\n",
      "`tr` is a simple way to replace characters for others. `tr` has the strange property that you need to pipe the file **into** the program, so the syntax is\n",
      "\n",
      "`tr 'TARGET' 'REPLACEMENT' < FILE`\n",
      "\n",
      "A common operation is to replace spaces with newlines (`\\n`)\n",
      "The target and replacement can also be groups of characters, such as all uppercase or all lowercase letters, which makes lowercasing a whole file very easy:\n",
      "\n",
      "`tr 'A-Z' 'a-z' < FILE`\n",
      "\n"
     ]
    },
    {
     "cell_type": "code",
     "collapsed": false,
     "input": [
      "!tr 'A-Z' '0-9' < tmp/top10.reviews.tsv"
     ],
     "language": "python",
     "metadata": {},
     "outputs": [
      {
       "output_type": "stream",
       "stream": "stdout",
       "text": [
        "9994\t9\t9he order was filled quickly and correctly. 9o problems at all, highly recommended.\r\n",
        "9994\t9\t8 found the parts 8 was looking for much cheaper than at major part dealer sites. 9he delivery was fast and the part fit perfectly. 6reat service. 9o complaints. 9ou will definitely get more of my business and 8 will gladly recommend you to friends!\r\n",
        "9994\t9\t2amicia non conforme rispetto all'ordine  : sbagliate le cuciture dei bottoni.\r\n",
        "9994\t5\t9his is the greatest thing, 9nce a month 9etflow sends a box of \"goodies\" for your pet . 2harlotte my 9hih9zu got her first one on 3ecember 22nd just in time for 2hristmas .  9he got an adorable cow toy,  some treats shes never tried before but seemed to like all of them. 0nd some teeth cleaner that doesn't involve brushing. 8 dont know whos more excited about next month's package 2harlotte or me...\r\n",
        "9994\t9\t7onesty and sincerity are very important to have and 8 think that they have both. 8 would definitely recommend them.\r\n",
        "9994\t5\t9ne 9roduct to big for being a med. and the color was not what was expected.\r\n",
        "50\t5\t9sed this site many times.  8 always start mysearch here. 9rices change daily and if you want to really research the price continually at many different sites, 8 have found cheaper cars elsewhere.  7owever, if you don't have a lot of time to research the price, this site has always been among the top three (e.g., cheapest) of the ten sites 8 use to reserve a car.\r\n",
        "9994\t5\t9ery unsatisfied with product. 8t was shipped with multiple wrong parts. 8t took months to resolve. 9hey stopped answering my calls to get the right parts so i had to call credit card 2ompany to get a credit before they finally responded. 8 wish 8 would have read thier reviews online prior to buying.\r\n",
        "9994\t9\t3et rigtige til tiden\r\n",
        "9994\t9\t9e were very happy to find out, that we also could take as many river cruises as we liked in the period of the ticket.\r\n"
       ]
      }
     ],
     "prompt_number": 78
    },
    {
     "cell_type": "markdown",
     "metadata": {},
     "source": [
      "`paste`\n",
      "====\n",
      "`paste` takes any number of files and concatenates them horizontally, i.e., as tab-separated columns.\n",
      "\n",
      "`paste FILE1 FILE2 FILE3`\n",
      "\n",
      "Very useful to generate results files from bit and pieces of other files."
     ]
    },
    {
     "cell_type": "code",
     "collapsed": false,
     "input": [
      "!echo \"1\\n2\\n3\\n4\\n5\\n6\\n7\\n8\\n9\\n10\" > tmp/numbers\n",
      "!paste tmp/numbers tmp/top10.reviews.tsv > tmp/numbered-top10.reviews.tsv"
     ],
     "language": "python",
     "metadata": {},
     "outputs": [],
     "prompt_number": 81
    },
    {
     "cell_type": "code",
     "collapsed": false,
     "input": [
      "!cat tmp/numbered-top10.reviews.tsv"
     ],
     "language": "python",
     "metadata": {},
     "outputs": [
      {
       "output_type": "stream",
       "stream": "stdout",
       "text": [
        "1\tNONE\tM\tThe order was filled quickly and correctly. No problems at all, highly recommended.\r\n",
        "2\tNONE\tM\tI found the parts I was looking for much cheaper than at major part dealer sites. The delivery was fast and the part fit perfectly. Great service. No complaints. You will definitely get more of my business and I will gladly recommend you to friends!\r\n",
        "3\tNONE\tM\tCamicia non conforme rispetto all'ordine  : sbagliate le cuciture dei bottoni.\r\n",
        "4\tNONE\tF\tThis is the greatest thing, Once a month Petflow sends a box of \"goodies\" for your pet . Charlotte my ShihTzu got her first one on December 22nd just in time for Christmas .  She got an adorable cow toy,  some treats shes never tried before but seemed to like all of them. And some teeth cleaner that doesn't involve brushing. I dont know whos more excited about next month's package Charlotte or me...\r\n",
        "5\tNONE\tM\tHonesty and sincerity are very important to have and I think that they have both. I would definitely recommend them.\r\n",
        "6\tNONE\tF\tOne Product to big for being a med. and the color was not what was expected.\r\n",
        "7\t50\tF\tUsed this site many times.  I always start mysearch here. Prices change daily and if you want to really research the price continually at many different sites, I have found cheaper cars elsewhere.  However, if you don't have a lot of time to research the price, this site has always been among the top three (e.g., cheapest) of the ten sites I use to reserve a car.\r\n",
        "8\tNONE\tF\tVery unsatisfied with product. It was shipped with multiple wrong parts. It took months to resolve. They stopped answering my calls to get the right parts so i had to call credit card Company to get a credit before they finally responded. I wish I would have read thier reviews online prior to buying.\r\n",
        "9\tNONE\tM\tDet rigtige til tiden\r\n",
        "10\tNONE\tM\tWe were very happy to find out, that we also could take as many river cruises as we liked in the period of the ticket.\r\n"
       ]
      }
     ],
     "prompt_number": 82
    },
    {
     "cell_type": "markdown",
     "metadata": {},
     "source": [
      "`grep/egrep`\n",
      "====\n",
      "\n",
      "These commands do basically the same, namely search for a specified string in the file. `egrep` allows for regular expressions.\n",
      "\n",
      "`grep TARGET FILE`\n",
      "\n",
      "There are three important flags:\n",
      "\n",
      "* `-i`: ignore case\n",
      "* `-v`: return lines that ***don't*** contain the search string\n",
      "* `-c`: return the number of times the string has been found rather than the actual lines"
     ]
    },
    {
     "cell_type": "code",
     "collapsed": false,
     "input": [
      "!grep \"all\" tmp/top10.reviews.tsv\n",
      "!grep -c \"all\" tmp/top10.reviews.tsv\n",
      "!grep -n \"all\" tmp/top10.reviews.tsv\n"
     ],
     "language": "python",
     "metadata": {},
     "outputs": [
      {
       "output_type": "stream",
       "stream": "stdout",
       "text": [
        "NONE\tM\tThe order was filled quickly and correctly. No problems at all, highly recommended.\r\n",
        "NONE\tM\tCamicia non conforme rispetto all'ordine  : sbagliate le cuciture dei bottoni.\r\n",
        "NONE\tF\tThis is the greatest thing, Once a month Petflow sends a box of \"goodies\" for your pet . Charlotte my ShihTzu got her first one on December 22nd just in time for Christmas .  She got an adorable cow toy,  some treats shes never tried before but seemed to like all of them. And some teeth cleaner that doesn't involve brushing. I dont know whos more excited about next month's package Charlotte or me...\r\n",
        "50\tF\tUsed this site many times.  I always start mysearch here. Prices change daily and if you want to really research the price continually at many different sites, I have found cheaper cars elsewhere.  However, if you don't have a lot of time to research the price, this site has always been among the top three (e.g., cheapest) of the ten sites I use to reserve a car.\r\n",
        "NONE\tF\tVery unsatisfied with product. It was shipped with multiple wrong parts. It took months to resolve. They stopped answering my calls to get the right parts so i had to call credit card Company to get a credit before they finally responded. I wish I would have read thier reviews online prior to buying.\r\n"
       ]
      },
      {
       "output_type": "stream",
       "stream": "stdout",
       "text": [
        "5\r\n"
       ]
      },
      {
       "output_type": "stream",
       "stream": "stdout",
       "text": [
        "1:NONE\tM\tThe order was filled quickly and correctly. No problems at all, highly recommended.\r\n",
        "3:NONE\tM\tCamicia non conforme rispetto all'ordine  : sbagliate le cuciture dei bottoni.\r\n",
        "4:NONE\tF\tThis is the greatest thing, Once a month Petflow sends a box of \"goodies\" for your pet . Charlotte my ShihTzu got her first one on December 22nd just in time for Christmas .  She got an adorable cow toy,  some treats shes never tried before but seemed to like all of them. And some teeth cleaner that doesn't involve brushing. I dont know whos more excited about next month's package Charlotte or me...\r\n",
        "7:50\tF\tUsed this site many times.  I always start mysearch here. Prices change daily and if you want to really research the price continually at many different sites, I have found cheaper cars elsewhere.  However, if you don't have a lot of time to research the price, this site has always been among the top three (e.g., cheapest) of the ten sites I use to reserve a car.\r\n",
        "8:NONE\tF\tVery unsatisfied with product. It was shipped with multiple wrong parts. It took months to resolve. They stopped answering my calls to get the right parts so i had to call credit card Company to get a credit before they finally responded. I wish I would have read thier reviews online prior to buying.\r\n"
       ]
      }
     ],
     "prompt_number": 83
    },
    {
     "cell_type": "markdown",
     "metadata": {},
     "source": [
      "`sed`\n",
      "====\n",
      "\n",
      "`sed` stands for *String Editor* and is on the surface similar to `tr`, but more powerful. It can replace whole strings or regular expressions. One of the most common commands is \n",
      "\n",
      "`sed 's/TARGET/REPLACEMENT/g' FILE`\n",
      "\n",
      "It replaces all instances of the target in the file and writes the result to STDOUT. Useful to replace misspelled words."
     ]
    },
    {
     "cell_type": "code",
     "collapsed": false,
     "input": [
      "!sed 's/ I/ ***YOU***/g' tmp/top10.reviews.tsv"
     ],
     "language": "python",
     "metadata": {},
     "outputs": [
      {
       "output_type": "stream",
       "stream": "stdout",
       "text": [
        "NONE\tM\tThe order was filled quickly and correctly. No problems at all, highly recommended.\r\n",
        "NONE\tM\tI found the parts ***YOU*** was looking for much cheaper than at major part dealer sites. The delivery was fast and the part fit perfectly. Great service. No complaints. You will definitely get more of my business and ***YOU*** will gladly recommend you to friends!\r\n",
        "NONE\tM\tCamicia non conforme rispetto all'ordine  : sbagliate le cuciture dei bottoni.\r\n",
        "NONE\tF\tThis is the greatest thing, Once a month Petflow sends a box of \"goodies\" for your pet . Charlotte my ShihTzu got her first one on December 22nd just in time for Christmas .  She got an adorable cow toy,  some treats shes never tried before but seemed to like all of them. And some teeth cleaner that doesn't involve brushing. ***YOU*** dont know whos more excited about next month's package Charlotte or me...\r\n",
        "NONE\tM\tHonesty and sincerity are very important to have and ***YOU*** think that they have both. ***YOU*** would definitely recommend them.\r\n",
        "NONE\tF\tOne Product to big for being a med. and the color was not what was expected.\r\n",
        "50\tF\tUsed this site many times.  ***YOU*** always start mysearch here. Prices change daily and if you want to really research the price continually at many different sites, ***YOU*** have found cheaper cars elsewhere.  However, if you don't have a lot of time to research the price, this site has always been among the top three (e.g., cheapest) of the ten sites ***YOU*** use to reserve a car.\r\n",
        "NONE\tF\tVery unsatisfied with product. ***YOU***t was shipped with multiple wrong parts. ***YOU***t took months to resolve. They stopped answering my calls to get the right parts so i had to call credit card Company to get a credit before they finally responded. ***YOU*** wish ***YOU*** would have read thier reviews online prior to buying.\r\n",
        "NONE\tM\tDet rigtige til tiden\r\n",
        "NONE\tM\tWe were very happy to find out, that we also could take as many river cruises as we liked in the period of the ticket.\r\n"
       ]
      }
     ],
     "prompt_number": 88
    },
    {
     "cell_type": "markdown",
     "metadata": {},
     "source": [
      "`awk`\n",
      "====\n",
      "\n",
      "`awk` is not just a program, but a small and simple programming language, although it's mostly used for one-liners. It's great to\n",
      "\n",
      "1. find lines that fulfill a certain condition\n",
      "2. print only certain columns\n",
      "3. do arithmatic (summing, averaging, etc.) on counts\n",
      "\n",
      "It can split files on a given character (typically \"\\t\" for tabs, \",\" or, by default \" \"), and indexes each resulting column by a variable from `$1` to `$NF` (the ***N***umber of ***F***ields, i.e., the last column). You can get the number of columns by printing `NF` (without the `$`). Similarly, you can get the rows by `NR`.\n",
      "\n",
      "There is not enough space here to do `awk` justice in all its glory, but consider using these gems:\n",
      "\n",
      "* `awk -F \"\\t\" '{if ($1==\"STRING\") print}' FILE` splits a file on tabs, and prints the line if the first column has a certain value.\n",
      "\n",
      "* `awk -F \",\" '{print $1,$4,$8}' FILE` splits a file on commas (hellos, CSVs...) and prints the first, fourth, and eights column.\n",
      "\n",
      "* `awk '{sum+=$1} END {print sum/NR}' FILE` splits a file on spaces and prints the average of the first column. Nice if you have a lot of results in one file...\n"
     ]
    },
    {
     "cell_type": "code",
     "collapsed": false,
     "input": [
      "!awk -F \"\\t\" '{print $3}' tmp/top10.reviews.tsv"
     ],
     "language": "python",
     "metadata": {},
     "outputs": [
      {
       "output_type": "stream",
       "stream": "stdout",
       "text": [
        "The order was filled quickly and correctly. No problems at all, highly recommended.\r\n",
        "I found the parts I was looking for much cheaper than at major part dealer sites. The delivery was fast and the part fit perfectly. Great service. No complaints. You will definitely get more of my business and I will gladly recommend you to friends!\r\n",
        "Camicia non conforme rispetto all'ordine  : sbagliate le cuciture dei bottoni.\r\n",
        "This is the greatest thing, Once a month Petflow sends a box of \"goodies\" for your pet . Charlotte my ShihTzu got her first one on December 22nd just in time for Christmas .  She got an adorable cow toy,  some treats shes never tried before but seemed to like all of them. And some teeth cleaner that doesn't involve brushing. I dont know whos more excited about next month's package Charlotte or me...\r\n",
        "Honesty and sincerity are very important to have and I think that they have both. I would definitely recommend them.\r\n",
        "One Product to big for being a med. and the color was not what was expected.\r\n",
        "Used this site many times.  I always start mysearch here. Prices change daily and if you want to really research the price continually at many different sites, I have found cheaper cars elsewhere.  However, if you don't have a lot of time to research the price, this site has always been among the top three (e.g., cheapest) of the ten sites I use to reserve a car.\r\n",
        "Very unsatisfied with product. It was shipped with multiple wrong parts. It took months to resolve. They stopped answering my calls to get the right parts so i had to call credit card Company to get a credit before they finally responded. I wish I would have read thier reviews online prior to buying.\r\n",
        "Det rigtige til tiden\r\n",
        "We were very happy to find out, that we also could take as many river cruises as we liked in the period of the ticket.\r\n"
       ]
      }
     ],
     "prompt_number": 89
    },
    {
     "cell_type": "markdown",
     "metadata": {},
     "source": [
      "`for`-loops\n",
      "====\n",
      "\n",
      "Just as in Python, you can execute `for`-loops in the shell. This is extremely handy if you want to iterate over a bunch of files that have the same name with different extensions, or are in different directories.\n",
      "The syntax is\n",
      "\n",
      "```\n",
      "for VAR1 VAR2 VAR3\n",
      "do\n",
      "    SOME_COMMAND\n",
      "done\n",
      "```\n",
      "\n",
      "The variables to iter over can either be strings or a range of integers. In the latter case, you can specify a range like so:\n",
      "\n",
      "`for x in {START..FINISH}`\n",
      "\n"
     ]
    },
    {
     "cell_type": "code",
     "collapsed": false,
     "input": [
      "!for x in en fr de dk es; do echo $x; done\n",
      "!echo\n",
      "!for x in {1..10}; \\\n",
      "do echo $x; \\\n",
      "done"
     ],
     "language": "python",
     "metadata": {},
     "outputs": [
      {
       "output_type": "stream",
       "stream": "stdout",
       "text": [
        "en\r\n",
        "fr\r\n",
        "de\r\n",
        "dk\r\n",
        "es\r\n"
       ]
      },
      {
       "output_type": "stream",
       "stream": "stdout",
       "text": [
        "\r\n"
       ]
      },
      {
       "output_type": "stream",
       "stream": "stdout",
       "text": [
        "1\r\n",
        "2\r\n",
        "3\r\n",
        "4\r\n",
        "5\r\n",
        "6\r\n",
        "7\r\n",
        "8\r\n",
        "9\r\n",
        "10\r\n"
       ]
      }
     ],
     "prompt_number": 91
    },
    {
     "cell_type": "markdown",
     "metadata": {},
     "source": [
      "Reading\n",
      "====\n",
      "\n",
      "* http://web.stanford.edu/class/cs124/kwc-unix-for-poets.pdf"
     ]
    },
    {
     "cell_type": "code",
     "collapsed": false,
     "input": [],
     "language": "python",
     "metadata": {},
     "outputs": []
    }
   ],
   "metadata": {}
  }
 ]
}