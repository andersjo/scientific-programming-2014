{
 "metadata": {
  "name": "",
  "signature": "sha256:e139d49960e921aa59c4b75620c3570645325ebffb7b6699ecf384e9fe4650da"
 },
 "nbformat": 3,
 "nbformat_minor": 0,
 "worksheets": [
  {
   "cells": [
    {
     "cell_type": "markdown",
     "metadata": {},
     "source": [
      "Exercises\n",
      "====\n",
      "\n",
      "## Manipulating files and directories\n",
      "\n",
      "* Make directories `a`, `b`, `c`, `d`, `e`.\n",
      "* Delete directories `c` and `d`.\n",
      "* Create the nested directory structure `Adam/Cain/Enoch/Arad/Mehujael/Methushael/Lamech/Jabal`. \n",
      "* Make an empty file called `nothing_here` and verify that its size is 0 bytes.\n",
      "* Write your name in a file called `my_name`.\n",
      "\n",
      "## Download and extracting data\n",
      "\n",
      "* Download [inaugural.zip](https://dl.dropboxusercontent.com/u/1423772/inaugural.zip) to your home directory and unzip it.\n",
      "* Download [reviews.tar.gz](https://dl.dropboxusercontent.com/u/1423772/reviews.tar.gz) and untar it.\n",
      "* Recursively copy the directory `/home/anders/movie_reviews` to your home directory.\n",
      "\n",
      "## Selecting lines from files\n",
      "\n",
      "* Grep for the famous Kennedy quote from his inaugural address. The one about not asking what can be done for you but what you can do.\n",
      "* Display the last line of the 1861 Lincoln inaugural address.\n",
      "* Combine `head` and `tail` to show lines 50-70 of the `reviews.tsv` file.\n",
      "\n",
      "## Selecting columns and rows from files\n",
      "\n",
      "* Use `cut`, `tr`, `sort` and `uniq` to find the ten most common words in the text column of the `reviews.tsv` file. \n",
      "* As above but lowercasing the words using `tr`.\n",
      "* Advanced: Find the ten most common words in the file *excluding* stopwords. You may find a list of stopwords at `/home/anders/english_stopwords.txt`. Use `grep -v` to filter out the stopwords. You will need to use several other options for this to work. \n",
      "* Count the number of reviews written by males (M) and females (F) in the `reviews.tsv` file.\n",
      "* Create two new files `reviews.male.txt` and `reviews.female.txt` collecting reviews by males and females from the `reviews.tsv`.\n",
      "\n",
      "## Python and pipes\n",
      "\n",
      "* Place the script below in a file called `describe.py`. One option is to open the file in the `nano` editor and paste the contents.\n",
      "\n",
      "````\n",
      "import pandas as pd\n",
      "import sys\n",
      "\n",
      "numbers = []\n",
      "for line in sys.stdin:\n",
      "\tnumbers.append(float(line.strip()))\n",
      "\n",
      "print pd.Series(numbers).describe()\n",
      "````\n",
      "* Using the script above, calculate the mean of the numbers `5 2 9 5 2 1 5 7`.\n",
      "* Use `wc -w` to find the mean number of tokens in positive and negative movie review (in the `movie_reviews` directory)?\n",
      "* How long are the longest and the shortest of Roosevelt's inaugural addresses?"
     ]
    },
    {
     "cell_type": "code",
     "collapsed": false,
     "input": [],
     "language": "python",
     "metadata": {},
     "outputs": []
    }
   ],
   "metadata": {}
  }
 ]
}