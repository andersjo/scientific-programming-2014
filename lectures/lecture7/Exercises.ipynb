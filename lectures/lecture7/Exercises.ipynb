{
 "metadata": {
  "name": "",
  "signature": "sha256:a791782326339f806927a69bb3acb5b340e856cd9b1cf2db16d1de82e1c307d7"
 },
 "nbformat": 3,
 "nbformat_minor": 0,
 "worksheets": [
  {
   "cells": [
    {
     "cell_type": "markdown",
     "metadata": {},
     "source": [
      "Exercises\n",
      "====\n",
      "\n",
      "* Use `head` and `tail` to show the lines 50-100\n",
      "* sort all words in a file by reverse ('rhyming') order. Need to use `rev`\n",
      "* get bigram and trigram counts with `tr|tail =2|paste`\n",
      "* Use `grep`, `awk` and `paste` to select certain rows and columns and create new files from it\n",
      "* Write a `for`-loop to iterate over a bunch of files, select rows from them with `grep`, and output it into another file\n",
      "* find certain age ranges\n",
      "* sort by men and women (exclude NONE)\n",
      "* find frequency of words for a certain age and/or gender\n"
     ]
    },
    {
     "cell_type": "code",
     "collapsed": false,
     "input": [],
     "language": "python",
     "metadata": {},
     "outputs": []
    }
   ],
   "metadata": {}
  }
 ]
}