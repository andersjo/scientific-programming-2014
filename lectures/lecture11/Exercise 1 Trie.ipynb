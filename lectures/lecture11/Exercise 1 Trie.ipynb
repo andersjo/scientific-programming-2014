{
 "metadata": {
  "name": "",
  "signature": "sha256:b6e6e39c3aa7a102045fc3cce9a700a703521b820fc7704e8b33e396cc4828cb"
 },
 "nbformat": 3,
 "nbformat_minor": 0,
 "worksheets": [
  {
   "cells": [
    {
     "cell_type": "markdown",
     "metadata": {},
     "source": [
      "### Exercise 1: Autocomplete using the trie datastructure\n",
      "\n",
      "A trie (also called prefix tree) is a versatile data structure, which often comes in handy in text processing. It encodes a set of strings in a very compact format. The tree structure makes certain operations that are prohibitively expensive with a standard hash table, such as the one used in the Python `dict`, fast and easy. For instance, listing all strings that begin with a given string, or finding the *best* (e.g. most common) string with a given prefix. \n",
      "\n",
      "In this exercise you will implement an auto-complete facility that suggests the completion $c$ with the highest score $S$ conditioned on the query $q$. In other words, you should find the completion that maximizes $S(c|q)$, as written below:\n",
      "\n",
      "$$\n",
      "\\arg \\max_{c} S(c|q)\n",
      "$$\n",
      "\n",
      "This will simply be the string with the highest associated score in the subtree rooted at $q$.\n",
      "\n",
      "\n",
      "#### Dataset\n",
      "\n",
      "You will be working with a small toy data set as well as a larger AOL data set derived from real search queries. The AOL data set is surrounded by some controversy, because shortly after its release in 2006 researchers found that the user anonymization was insufficient and people's private information leaked through the query strings, including credit card numbers. To deal with the privacy issues we only include high-frequency queries isssued by many people in our version of the data set.\n",
      "\n",
      "Download the data from [here](https://dl.dropboxusercontent.com/u/1423772/aol-01-top5k.txt) and place it in the current folder."
     ]
    },
    {
     "cell_type": "code",
     "collapsed": false,
     "input": [
      "%matplotlib inline\n",
      "import networkx as nx\n",
      "\n",
      "class TrieNode(object):\n",
      "    \n",
      "    def __init__(self, value, count=0):\n",
      "        self.value = value\n",
      "        self.first_child = None\n",
      "        self.next_sibling = None\n",
      "        self.max_count = count\n",
      "        \n",
      "    def add(self, name, count=0):\n",
      "        \"\"\"Adds `name` to the subtree rooted at this node.\n",
      "        \n",
      "        When you have completed Ex. 1.2, this function will check and possibly update the `max_count` attribute\n",
      "        of the current node as well as nodes on the path to `name` in the subtree.\n",
      "        \"\"\"\n",
      "        child = self.first_child\n",
      "        found = None\n",
      "        prefix = name[0]\n",
      "        while child:\n",
      "            if child.value == prefix:\n",
      "                found = child\n",
      "            else:\n",
      "                child = child.next_sibling\n",
      "                \n",
      "        if not found:\n",
      "            found = TrieNode(prefix, count)\n",
      "            if self.first_child:\n",
      "                found.next_sibling = self.first_child\n",
      "            self.first_child = found\n",
      "            \n",
      "        if len(name) > 1:\n",
      "            found.add(name[1:], count)\n",
      "            \n",
      "    def find(self, name, prefix=''):\n",
      "        \"\"\"\n",
      "        Returns the longest match for `name`, as well as the matching node.\n",
      "        \"\"\"\n",
      "        if name[0] != self.value:\n",
      "            return prefix, None\n",
      "\n",
      "        current_name = prefix + self.value\n",
      "        \n",
      "        if len(name) > 1:\n",
      "            for child in self.children():\n",
      "                if child.value == name[1]:\n",
      "                    return child.find(name[1:], prefix + self.value)\n",
      "            \n",
      "        return current_name, self\n",
      "        \n",
      "    def children(self):\n",
      "        \"\"\"\n",
      "        Enumerates the children of the node.\n",
      "        \"\"\"\n",
      "        child = self.first_child\n",
      "        while child:\n",
      "            yield child\n",
      "            child = child.next_sibling\n",
      "\n",
      "        \n",
      "    # Visualization functions\n",
      "    #\n",
      "    def draw(self):\n",
      "        G = self.to_networkx()\n",
      "        pos = nx.graphviz_layout(G, prog='dot')\n",
      "        nx.draw(G, pos, with_labels=True, arrows=False, edge_color='gray', alpha=1, font_size=15, node_color='white',\n",
      "                labels=dict((n, n[-1]) for n in G.nodes()))\n",
      "    \n",
      "    def to_networkx(self):\n",
      "        G = nx.DiGraph()\n",
      "        to_visit = []\n",
      "        \n",
      "        # DFS traversal\n",
      "        to_visit += [(self.value, child) for child in self.children()]\n",
      "        \n",
      "        while to_visit:\n",
      "            parent_prefix, next_node = to_visit.pop()\n",
      "            prefix = parent_prefix + next_node.value\n",
      "            G.add_edge(parent_prefix, prefix)\n",
      "\n",
      "            to_visit += [(prefix, child) for child in next_node.children()]\n",
      "\n",
      "        return G\n",
      "\n",
      "    def __repr__(self):\n",
      "        return \"{}:{}\".format(self.value, self.max_count)"
     ],
     "language": "python",
     "metadata": {},
     "outputs": []
    },
    {
     "cell_type": "markdown",
     "metadata": {},
     "source": [
      "### Ex 1.1 Displaying the trie\n",
      "\n",
      "Add the following strings to the trie and display it using `draw()`.\n",
      "\n",
      "```\n",
      "aardvark\n",
      "talent\n",
      "tale\n",
      "talcum\n",
      "taleban\n",
      "```"
     ]
    },
    {
     "cell_type": "code",
     "collapsed": false,
     "input": [
      "# Your code here"
     ],
     "language": "python",
     "metadata": {},
     "outputs": []
    },
    {
     "cell_type": "markdown",
     "metadata": {},
     "source": [
      "### Ex 1.2 String scoring\n",
      "\n",
      "Make a new trie containing the same set of strings as in the previous exercise, only now each string is associated with an integer value indicating the count or scoring of the string in a corpus. The idea is to let the `max_count` attribute of a given node reflect the maximum score of any string in its subtree, because that enables quick retrieval of the best scoring string.\n",
      "\n",
      "You will have to modify the `add` method to do this. \n",
      "\n",
      "Here is the table of strings and values:\n",
      "\n",
      "```\n",
      "aardvark     10\n",
      "talent        9\n",
      "tale          7\n",
      "talcum        2\n",
      "taleban       8\n",
      "```\n",
      "\n",
      "As a sanity check of your implementation, you should verify that `max_count` for is 10 for the root node *^*, 9 for *^tal*, and 2 for *^talc*."
     ]
    },
    {
     "cell_type": "code",
     "collapsed": false,
     "input": [
      "# Your code here"
     ],
     "language": "python",
     "metadata": {},
     "outputs": []
    },
    {
     "cell_type": "markdown",
     "metadata": {},
     "source": [
      "### Ex 1.3: Autocompletion\n",
      "\n",
      "You are now ready to write the `autocomplete` function. The function should be flexible enough that you can use it with different tries. During development it is often most convenient to work with a small \"toy\" data set that you can print to the screen and where you can accuractely predict what the results are going to look like. Once you have arrived at an implementation you trust, it is easy to switch to the larger data set. \n",
      "\n",
      "We suggest that you create an `autocomplete` function with the following three parameters:\n",
      "\n",
      "1. The trie represented by the root node;\n",
      "2. The query as as string; and\n",
      "3. An `n_best` integer parameter specifying the number of suggestions to give back. \n",
      "\n",
      "Finding the best completion is similar to graph search, although actually a little less complicated, since in a tree you never risk visiting the same node more than once. Additionally, the precomputed `max_count` attribute is extremely helpful in guiding the search. To find the single best completion, you merely have to always follow the path with the highest `max_count`. Note, though, that you must keep track of the path to discover what the completion is, since that information is not stored in the goal node. \n",
      "\n",
      "Returning the $n$ best completions, instead of the single best, can be accomplished using a variation of the A\\* algorithm. Nodes are added to a priority queue with a priority of `-max_count` and visited in order. A completion is finished when a node with the final symbol *\\$* is encounted. Thus the algorithm should terminate when `n_best` nodes with a `value` of *\\$* have been explored."
     ]
    },
    {
     "cell_type": "code",
     "collapsed": false,
     "input": [
      "# Efficient priority queue implementation \n",
      "# from Python standard library\n",
      "from Queue import PriorityQueue"
     ],
     "language": "python",
     "metadata": {},
     "outputs": []
    },
    {
     "cell_type": "markdown",
     "metadata": {},
     "source": [
      "### Ex. 1.4: A large trie\n",
      "\n",
      "Read in the `aol-01-top5k.txt` file, adding the queries and counts to the trie. The file is created as the output of the unix utility `uniq`.\n",
      "\n",
      "Try different queries and see what comes up. Do you think this is the sort of data that Google uses for their auto completion? How could the autocompleter be improved --- algorithmically and with respect to data?\n",
      "\n",
      "And welcome to 2006. It's good to have you back!"
     ]
    },
    {
     "cell_type": "code",
     "collapsed": false,
     "input": [
      "# Your code here"
     ],
     "language": "python",
     "metadata": {},
     "outputs": []
    },
    {
     "cell_type": "markdown",
     "metadata": {},
     "source": [
      "### Ex. 1.5 (optional): Create a \"Did you mean\"-spelling corrector\n",
      "\n",
      "The spelling corrector should be able to deal with single substitution errors (one letter swapped for another) and insertion errors (putting extra letters in)."
     ]
    },
    {
     "cell_type": "code",
     "collapsed": false,
     "input": [
      "# Your code here"
     ],
     "language": "python",
     "metadata": {},
     "outputs": []
    }
   ],
   "metadata": {}
  }
 ]
}