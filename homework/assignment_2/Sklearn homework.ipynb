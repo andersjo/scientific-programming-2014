{
 "metadata": {
  "name": "",
  "signature": "sha256:ced46457b32e97e7e265ffc3f51575109f337eda64faf25f614fc46b45374d51"
 },
 "nbformat": 3,
 "nbformat_minor": 0,
 "worksheets": [
  {
   "cells": [
    {
     "cell_type": "heading",
     "level": 2,
     "metadata": {},
     "source": [
      "Homework 2 - Sklearn"
     ]
    },
    {
     "cell_type": "markdown",
     "metadata": {},
     "source": [
      "#### On grading\n",
      "\n",
      "The homework is graded on a scale from 0 to 100. For each question we indicate how many points you can get. If the answer is not completely correct but nonetheless on the right track, we may decide to give partial credit."
     ]
    },
    {
     "cell_type": "code",
     "collapsed": false,
     "input": [
      "%matplotlib inline\n",
      "from sklearn.datasets import load_digits\n",
      "import numpy as np\n",
      "import pandas as pd\n",
      "import matplotlib.pyplot as plt"
     ],
     "language": "python",
     "metadata": {},
     "outputs": [],
     "prompt_number": 6
    },
    {
     "cell_type": "code",
     "collapsed": false,
     "input": [
      "digits = load_digits()"
     ],
     "language": "python",
     "metadata": {},
     "outputs": [],
     "prompt_number": 7
    },
    {
     "cell_type": "code",
     "collapsed": false,
     "input": [
      "first_image = digits.images[0]\n",
      "print \"Digits is a N={} dataset handwritten digits, stored as {} by {} gray-scale images\".format(\n",
      "digits.images.shape[0], first_image.shape[0], first_image.shape[1])"
     ],
     "language": "python",
     "metadata": {},
     "outputs": [
      {
       "output_type": "stream",
       "stream": "stdout",
       "text": [
        "Digits is a N=1797 dataset handwritten digits, stored as 8 by 8 gray-scale images\n"
       ]
      }
     ],
     "prompt_number": 8
    },
    {
     "cell_type": "markdown",
     "metadata": {},
     "source": [
      "If you like you can get a description of the dataset by executing the cell below"
     ]
    },
    {
     "cell_type": "code",
     "collapsed": false,
     "input": [
      "print digits.DESCR"
     ],
     "language": "python",
     "metadata": {},
     "outputs": [
      {
       "output_type": "stream",
       "stream": "stdout",
       "text": [
        " Optical Recognition of Handwritten Digits Data Set\n",
        "\n",
        "Notes\n",
        "-----\n",
        "Data Set Characteristics:\n",
        "    :Number of Instances: 5620\n",
        "    :Number of Attributes: 64\n",
        "    :Attribute Information: 8x8 image of integer pixels in the range 0..16.\n",
        "    :Missing Attribute Values: None\n",
        "    :Creator: E. Alpaydin (alpaydin '@' boun.edu.tr)\n",
        "    :Date: July; 1998\n",
        "\n",
        "This is a copy of the test set of the UCI ML hand-written digits datasets\n",
        "http://archive.ics.uci.edu/ml/datasets/Optical+Recognition+of+Handwritten+Digits\n",
        "\n",
        "The data set contains images of hand-written digits: 10 classes where\n",
        "each class refers to a digit.\n",
        "\n",
        "Preprocessing programs made available by NIST were used to extract\n",
        "normalized bitmaps of handwritten digits from a preprinted form. From a\n",
        "total of 43 people, 30 contributed to the training set and different 13\n",
        "to the test set. 32x32 bitmaps are divided into nonoverlapping blocks of\n",
        "4x4 and the number of on pixels are counted in each block. This generates\n",
        "an input matrix of 8x8 where each element is an integer in the range\n",
        "0..16. This reduces dimensionality and gives invariance to small\n",
        "distortions.\n",
        "\n",
        "For info on NIST preprocessing routines, see M. D. Garris, J. L. Blue, G.\n",
        "T. Candela, D. L. Dimmick, J. Geist, P. J. Grother, S. A. Janet, and C.\n",
        "L. Wilson, NIST Form-Based Handprint Recognition System, NISTIR 5469,\n",
        "1994.\n",
        "\n",
        "References\n",
        "----------\n",
        "  - C. Kaynak (1995) Methods of Combining Multiple Classifiers and Their\n",
        "    Applications to Handwritten Digit Recognition, MSc Thesis, Institute of\n",
        "    Graduate Studies in Science and Engineering, Bogazici University.\n",
        "  - E. Alpaydin, C. Kaynak (1998) Cascading Classifiers, Kybernetika.\n",
        "  - Ken Tang and Ponnuthurai N. Suganthan and Xi Yao and A. Kai Qin.\n",
        "    Linear dimensionalityreduction using relevance weighted LDA. School of\n",
        "    Electrical and Electronic Engineering Nanyang Technological University.\n",
        "    2005.\n",
        "  - Claudio Gentile. A New Approximate Maximal Margin Classification\n",
        "    Algorithm. NIPS. 2000.\n",
        "\n"
       ]
      }
     ],
     "prompt_number": 9
    },
    {
     "cell_type": "markdown",
     "metadata": {},
     "source": [
      "#### Image representation\n",
      "\n",
      "An image is a 2-dimensional array of integers in the range 0-15. The value of a cell represents the intensity of the ink at that location, i.e. how black the cell should be rendered. A cell with a value of zero will be rendered as white, while a value of 15 signifies the darkest black. Values in between are grayscale."
     ]
    },
    {
     "cell_type": "code",
     "collapsed": false,
     "input": [
      "first_image"
     ],
     "language": "python",
     "metadata": {},
     "outputs": [
      {
       "metadata": {},
       "output_type": "pyout",
       "prompt_number": 10,
       "text": [
        "array([[  0.,   0.,   5.,  13.,   9.,   1.,   0.,   0.],\n",
        "       [  0.,   0.,  13.,  15.,  10.,  15.,   5.,   0.],\n",
        "       [  0.,   3.,  15.,   2.,   0.,  11.,   8.,   0.],\n",
        "       [  0.,   4.,  12.,   0.,   0.,   8.,   8.,   0.],\n",
        "       [  0.,   5.,   8.,   0.,   0.,   9.,   8.,   0.],\n",
        "       [  0.,   4.,  11.,   0.,   1.,  12.,   7.,   0.],\n",
        "       [  0.,   2.,  14.,   5.,  10.,  12.,   0.,   0.],\n",
        "       [  0.,   0.,   6.,  13.,  10.,   0.,   0.,   0.]])"
       ]
      }
     ],
     "prompt_number": 10
    },
    {
     "cell_type": "markdown",
     "metadata": {},
     "source": [
      "Can you guess what digit this? Otherwise the representation below might help"
     ]
    },
    {
     "cell_type": "code",
     "collapsed": false,
     "input": [
      "plt.imshow(first_image, cmap='Greys', interpolation='none');"
     ],
     "language": "python",
     "metadata": {},
     "outputs": [
      {
       "metadata": {},
       "output_type": "display_data",
       "png": "[encoded data removed]",
       "text": [
        "<matplotlib.figure.Figure at 0x10e731f90>"
       ]
      }
     ],
     "prompt_number": 11
    },
    {
     "cell_type": "code",
     "collapsed": false,
     "input": [
      "first_image.reshape(-1).shape"
     ],
     "language": "python",
     "metadata": {},
     "outputs": [
      {
       "metadata": {},
       "output_type": "pyout",
       "prompt_number": 12,
       "text": [
        "(64,)"
       ]
      }
     ],
     "prompt_number": 12
    },
    {
     "cell_type": "markdown",
     "metadata": {},
     "source": [
      "Labels are supplied in the `target` attribute of the `digits` object. The labels are integers corresponding to the digits."
     ]
    },
    {
     "cell_type": "code",
     "collapsed": false,
     "input": [
      "digits.target"
     ],
     "language": "python",
     "metadata": {},
     "outputs": [
      {
       "metadata": {},
       "output_type": "pyout",
       "prompt_number": 13,
       "text": [
        "array([0, 1, 2, ..., 8, 9, 8])"
       ]
      }
     ],
     "prompt_number": 13
    },
    {
     "cell_type": "heading",
     "level": 3,
     "metadata": {},
     "source": [
      "Assignment 1: Plot the first 8 in the dataset (10 pts)\n"
     ]
    },
    {
     "cell_type": "code",
     "collapsed": false,
     "input": [
      "# Your code here\n",
      "first_8_image = digits.images[digits.target == 8][0]\n",
      "plt.imshow(first_8_image, cmap='Greys', interpolation='none');\n",
      "digits.images.shape"
     ],
     "language": "python",
     "metadata": {},
     "outputs": [
      {
       "metadata": {},
       "output_type": "pyout",
       "prompt_number": 29,
       "text": [
        "(1797, 8, 8)"
       ]
      },
      {
       "metadata": {},
       "output_type": "display_data",
       "png": "[encoded data removed]",
       "text": [
        "<matplotlib.figure.Figure at 0x10eadea90>"
       ]
      }
     ],
     "prompt_number": 29
    },
    {
     "cell_type": "heading",
     "level": 3,
     "metadata": {},
     "source": [
      "Assignment 2: Average images for different classes (15 pts)"
     ]
    },
    {
     "cell_type": "markdown",
     "metadata": {},
     "source": [
      "Plot the digits left to right, starting with 0 in the upper left corner, 1 in the upper right corner, etc. \n",
      "\n",
      "Use the `fig` and `axes` data structure returned from the `plt.subplots` command. The `axes` is actually a two-dimensional array of subplots,  where subplots may be referenced by row and column indices. For instance, the plot in the upper right corner (at row 0 and column 1) can be accessed by\n",
      "\n",
      "````\n",
      "axes[0, 1]\n",
      "````\n",
      "\n",
      "The axis object supports all the usual plotting commands: `plot()`, `scatter()`, `hist()`, `imshow()`, etc.\n",
      "\n",
      "Optional: Try to plot image with the least and most ink for each digit to get a feel for the variation."
     ]
    },
    {
     "cell_type": "code",
     "collapsed": false,
     "input": [
      "fig, axes = plt.subplots(5, 2)\n",
      "fig.set_size_inches(5, 15)\n",
      "\n",
      "# Plot a straight line in the upper right corner.\n",
      "# Replace by your own code\n",
      "ax = axes[0, 1]\n",
      "ax.scatter([0, 1], [4, 5])\n",
      "ax.set_title(\"Digit: 1\")"
     ],
     "language": "python",
     "metadata": {},
     "outputs": [
      {
       "metadata": {},
       "output_type": "pyout",
       "prompt_number": 15,
       "text": [
        "<matplotlib.text.Text at 0x10e772950>"
       ]
      },
      {
       "metadata": {},
       "output_type": "display_data",
       "png": "[encoded data removed]",
       "text": [
        "<matplotlib.figure.Figure at 0x10e731310>"
       ]
      }
     ],
     "prompt_number": 15
    },
    {
     "cell_type": "heading",
     "level": 3,
     "metadata": {},
     "source": [
      "Assignment 3: Flatten the images to 1-dim (10 pts)"
     ]
    },
    {
     "cell_type": "markdown",
     "metadata": {},
     "source": [
      "The 2-dimensional images must be converted to 1-dimensional feature vectors before they we can feed them to the machine learning algorithms in sklearn. The simplest (although perhaps not best) way to do this is to string the rows together, such that the last element of the previous row would be adjacent to the first element of the next row. \n",
      "\n",
      "As an example, after this transformation the 3 by 2 array below"
     ]
    },
    {
     "cell_type": "code",
     "collapsed": false,
     "input": [
      "print np.array([[1,2], [3, 4], [5, 6]])"
     ],
     "language": "python",
     "metadata": {},
     "outputs": [
      {
       "output_type": "stream",
       "stream": "stdout",
       "text": [
        "[[1 2]\n",
        " [3 4]\n",
        " [5 6]]\n"
       ]
      }
     ],
     "prompt_number": 16
    },
    {
     "cell_type": "markdown",
     "metadata": {},
     "source": [
      "would become this 6 element array:"
     ]
    },
    {
     "cell_type": "code",
     "collapsed": false,
     "input": [
      "print np.array([1,2, 3, 4, 5, 6])"
     ],
     "language": "python",
     "metadata": {},
     "outputs": [
      {
       "output_type": "stream",
       "stream": "stdout",
       "text": [
        "[1 2 3 4 5 6]\n"
       ]
      }
     ],
     "prompt_number": 17
    },
    {
     "cell_type": "markdown",
     "metadata": {},
     "source": [
      "**Exercise** Convert the `numbers_2d` array to a one-dimensional `numpy` array called `numbers_1d`. \n",
      "\n",
      "Hint: Use the `.reshape()` method on the array object."
     ]
    },
    {
     "cell_type": "code",
     "collapsed": false,
     "input": [
      "numbers_2d = np.array([[1,2], [3, 4], [5, 6]])\n",
      "\n",
      "# Your code here"
     ],
     "language": "python",
     "metadata": {},
     "outputs": [],
     "prompt_number": 18
    },
    {
     "cell_type": "markdown",
     "metadata": {},
     "source": [
      "**Exercise** Reshape the entire images array, which has three dimensions, to a two-dimensional array. Save the converted array as `images_flat`. Check that \n",
      "\n",
      "```\n",
      "images_flat.shape\n",
      "```\n",
      "\n",
      "outputs \n",
      "\n",
      "```\n",
      "(1797, 64)\n",
      "```\n"
     ]
    },
    {
     "cell_type": "code",
     "collapsed": false,
     "input": [
      "# Your code here"
     ],
     "language": "python",
     "metadata": {},
     "outputs": [],
     "prompt_number": 19
    },
    {
     "cell_type": "heading",
     "level": 3,
     "metadata": {},
     "source": [
      "Assignment 4: Binary classification - 7 vs 1 (15 pts)"
     ]
    },
    {
     "cell_type": "markdown",
     "metadata": {},
     "source": [
      "In this assigment you will learn a binary classifier to distinguish between the two digits `digit_a` and `digit_b`. Your classifier will thus only be trained on a subset of the images, namely those that have *either* class `digit_a` *or* class `digit_b`.\n",
      "\n",
      "We begin by choosing **7** and **1** as our two digits"
     ]
    },
    {
     "cell_type": "code",
     "collapsed": false,
     "input": [
      "digit_a = 7\n",
      "digit_b = 1"
     ],
     "language": "python",
     "metadata": {},
     "outputs": [],
     "prompt_number": 20
    },
    {
     "cell_type": "markdown",
     "metadata": {},
     "source": [
      "You will now need to two do a couple of things to get your data ready for the classifier\n",
      "\n",
      "* Select the subset of flattened images and labels that have label `digit_a` or label `digit_b` and store them in new variables.\n",
      "* Change your labels, which will be a mix of the integers `digit_a` and `digit_b`, to 0 and 1. Sklearn unfortunately cannot handle arbitrary labels. Although you can accomplish this in several ways, the most consistent approach is to use `LabelEncoder`, which also works when you have more than two classes.\n",
      "* Split the data and labels into training and test sets using `train_test_split`. The test set should make up 20% of the instances. Supply `random_state=42` parameter to the `train_test_split` command. This ensures that the split is the same everytime you run the command, making it easier for us to check your results."
     ]
    },
    {
     "cell_type": "code",
     "collapsed": false,
     "input": [
      "from sklearn.cross_validation import train_test_split\n",
      "from sklearn.preprocessing import LabelEncoder\n",
      "\n",
      "# Your code here\n"
     ],
     "language": "python",
     "metadata": {},
     "outputs": [],
     "prompt_number": 21
    },
    {
     "cell_type": "markdown",
     "metadata": {},
     "source": [
      "Start by importing `LogisticRegression` and initialize a classifier object. Then fit a model on the training set and obtain predictions on the test set.\n",
      "\n",
      "Assuming you named your test data `X_test` and test labels `y_test`, you should be able to check the performance of your model by writing \n",
      "\n",
      "````\n",
      "print classification_report(y_test, y_pred)\n",
      "````"
     ]
    },
    {
     "cell_type": "code",
     "collapsed": false,
     "input": [
      "from sklearn.metrics import classification_report\n",
      "\n",
      "# Your code here\n"
     ],
     "language": "python",
     "metadata": {},
     "outputs": [],
     "prompt_number": 22
    },
    {
     "cell_type": "heading",
     "level": 3,
     "metadata": {},
     "source": [
      "Exercise 5: Plot most important features (15 pts)"
     ]
    },
    {
     "cell_type": "markdown",
     "metadata": {},
     "source": [
      "Here we will re-use the model from the previous question to get a closer look at the coefficients (or weights) that it has learned. Recall each weight corresponds to a particular pixel location in the image. When a learned weight has a large magnitude (i.e. large absolute value), it plays a large role in the classificationd decision. In fact the larger the weight the more important the feature is.\n",
      "\n",
      "The idea is to use plotting to gain insight into the model. We ask you to two plots -- one for each digit class -- showing the location and strength of the important weights. You can use the same basic technique as for plotting digits, except the intensity of the pixels should come from the weights.\n",
      "\n",
      "The two plots should be identical, except: \n",
      "\n",
      "* The first plot must display only weights counting towards a classification as **7**.\n",
      "* The second plot must show only weights counting towards a classification as **1**."
     ]
    },
    {
     "cell_type": "code",
     "collapsed": false,
     "input": [
      "# Your code here\n"
     ],
     "language": "python",
     "metadata": {},
     "outputs": [],
     "prompt_number": 23
    },
    {
     "cell_type": "markdown",
     "metadata": {},
     "source": [
      "If you did this correctly the plots should be easy (i.e. not impossible) to interpret. In case you feel like exploring, try to do the plots for other pairs of digits"
     ]
    },
    {
     "cell_type": "heading",
     "level": 3,
     "metadata": {},
     "source": [
      "Exercise 6: Make all pairwise classifications (10 pts)"
     ]
    },
    {
     "cell_type": "markdown",
     "metadata": {},
     "source": [
      "In one of the previous questions we asked you to learn a model to classify pairs of digits. Now you are going to extend that approach to classify all pairs of digits. You should be able to reuse most of the code you have written for the previous question.\n",
      "\n",
      "The accuracy of each pair-wise classifier should be saved in a 10 by 10 pandas `DataFrame`. Note that you only need to fill the values above the diagonal, since the model for pair (a, b) is the same as the model for pair (b, a)."
     ]
    },
    {
     "cell_type": "code",
     "collapsed": false,
     "input": [
      "# Your code here\n"
     ],
     "language": "python",
     "metadata": {},
     "outputs": [],
     "prompt_number": 24
    },
    {
     "cell_type": "heading",
     "level": 3,
     "metadata": {},
     "source": [
      "Assignment 7: Do true multi-class classification (10 pts)"
     ]
    },
    {
     "cell_type": "markdown",
     "metadata": {},
     "source": [
      "All classifiers in sklearn come with multi-class support. For `LogisticRegression` multi-class is implemented as a series of binary classification decisions, where each decision is between some class $i$ and the remaining classes. E.g. is this digit a **7** or some other digit? This particular type of multi-class classification is referred to as *one-vs-all*. Happily all this takes place behind the scenes and you are handed the final decision of by the `predict` method of the ``LogisticRegression` object.\n",
      "\n",
      "You should train a `LogisticRegression` classifier directly on the complete set of flattened images and integer labels and print the classification report."
     ]
    },
    {
     "cell_type": "code",
     "collapsed": false,
     "input": [
      "# Your code here\n"
     ],
     "language": "python",
     "metadata": {},
     "outputs": [],
     "prompt_number": 25
    },
    {
     "cell_type": "markdown",
     "metadata": {},
     "source": [
      "How well are we doing? Compare your results with state-of-the-art at Rodrigo Benenson's [object recognition benchmark page]( http://rodrigob.github.io/are_we_there_yet/build/classification_datasets_results.html)"
     ]
    },
    {
     "cell_type": "heading",
     "level": 3,
     "metadata": {},
     "source": [
      "Assignment 8: Perform cross-validation (15 pts)"
     ]
    },
    {
     "cell_type": "markdown",
     "metadata": {},
     "source": [
      "In this question you will be comparing two cross-validation strategies:\n",
      "\n",
      "- $k$-fold CV, which divides the dataset into $k$ parts. One by one, each of these parts are used as the test set, while the remaining $k-1$ parts constitute the training set. \n",
      "- Stratified $k$-fold CV, which works as above, but ensures that the proportion of instances of different classes in each part is the same\n",
      "\n",
      "The two strategies are implemented as `KFold` and `StratifiedKFold` in sklearn. Both are imported in the cell below. \n",
      "\n",
      "We will consider $k=10$. For each of the two strategies, you should build a 10 by 10 pandas `DataFrame`, which, for each fold, shows the number of instances in each class. In this `DataFrame`, rows correspond to folds and columns to digit classes. \n",
      "\n",
      "When you initialize the `KFold` object, please set the `shuffle` parameter to `True`."
     ]
    },
    {
     "cell_type": "code",
     "collapsed": false,
     "input": [
      "from sklearn.cross_validation import KFold, StratifiedKFold\n",
      "\n",
      "# Your code for the KFold table here\n"
     ],
     "language": "python",
     "metadata": {},
     "outputs": [],
     "prompt_number": 26
    },
    {
     "cell_type": "code",
     "collapsed": false,
     "input": [
      "# Your code for the StratifiedKFold table here\n"
     ],
     "language": "python",
     "metadata": {},
     "outputs": [],
     "prompt_number": 27
    }
   ],
   "metadata": {}
  }
 ]
}