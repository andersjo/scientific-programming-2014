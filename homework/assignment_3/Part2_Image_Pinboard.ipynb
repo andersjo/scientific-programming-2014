{
 "metadata": {
  "name": "",
  "signature": "sha256:7c2cf38e7bfcca935def0542464c78347a157aaa3cf79c5c29573978b4a6d5e6"
 },
 "nbformat": 3,
 "nbformat_minor": 0,
 "worksheets": [
  {
   "cells": [
    {
     "cell_type": "heading",
     "level": 2,
     "metadata": {},
     "source": [
      "The image pinboard"
     ]
    },
    {
     "cell_type": "code",
     "collapsed": false,
     "input": [
      "%matplotlib inline\n",
      "from skimage import data, io, draw, color, transform, morphology, measure\n",
      "import skimage.filter\n",
      "from skimage.io import imshow\n",
      "import numpy as np\n",
      "import pandas as pd\n",
      "import matplotlib.pyplot as plt"
     ],
     "language": "python",
     "metadata": {},
     "outputs": []
    },
    {
     "cell_type": "markdown",
     "metadata": {},
     "source": [
      "Here is an image of pinboard with a couple of colored pins. Apart from the pins and a small note in the right corner it is completely empty. Blank. Approach it like an artist. If you are handed a blank canvas, fill it with passionate and dramatic images. \n",
      "\n",
      "This is in fact the purpose of this assignment. You should first write code to process the pinboard image and calculate the positions of the pins. With these coordinates you should paste images on the canvas as if they were attached by the pins. As a finishing touch we ask you to render the pins on top of the pasted images."
     ]
    },
    {
     "cell_type": "code",
     "collapsed": false,
     "input": [
      "pinboard_orig = io.imread(\"pinboard.jpg\")\n",
      "pinboard = transform.rescale(pinboard_orig, 0.5)\n",
      "imshow(pinboard)"
     ],
     "language": "python",
     "metadata": {},
     "outputs": []
    },
    {
     "cell_type": "markdown",
     "metadata": {},
     "source": [
      "### Ex. 2.1: Identify the pins (10 points)\n",
      "\n",
      "Create a binary image marking the extents of the pins. Concretely, the binary image should have a height and width that is comparable with the pinboard image. Put ones (or `True`) at pixels that belong to a pin and zeros (or `False`) otherwise.\n",
      "\n",
      "Start by converting the image to HSV colorspace. The binary image can then be created thresholding on individual channels. Note that you may not be able to catch all pins by the same threshold / channel. Finally, you need to come up with a way to get rid of the distracting note in the lower-right corner.\n",
      "\n",
      "Show your progress as you go along using `imshow`.\n",
      "\n",
      "*Hint:* Your binary image will most likely be noisy with lots of small speckles outside of the pins. Clean these from the image with the `morphology.remove_small_objects` function. "
     ]
    },
    {
     "cell_type": "code",
     "collapsed": false,
     "input": [
      "# Your code here"
     ],
     "language": "python",
     "metadata": {},
     "outputs": []
    },
    {
     "cell_type": "markdown",
     "metadata": {},
     "source": [
      "### Ex 2.2: Label pins (10 points)\n",
      "\n",
      "Find the 4-connected regions of the image and assign labels. The number of regions (as returned by the `measure.label` function) should be *5*. \n",
      "\n",
      "Render each region with its own color."
     ]
    },
    {
     "cell_type": "code",
     "collapsed": false,
     "input": [
      "# Your code here"
     ],
     "language": "python",
     "metadata": {},
     "outputs": []
    },
    {
     "cell_type": "markdown",
     "metadata": {},
     "source": [
      "### Ex 2.3: Calculate center positions and draw as circles (10 points)\n",
      "\n",
      "Using the labeled regions of the last assignment you should find a way to calculate the $(i, j)$ coordinates of the pin centers. \n",
      "\n",
      "The results should be approximately as below. \n",
      "\n",
      "```\n",
      "[(217, 1004), (271, 1786), (470, 202), (831, 1335), (962, 389)]\n",
      "```"
     ]
    },
    {
     "cell_type": "code",
     "collapsed": false,
     "input": [
      "# Your code here   "
     ],
     "language": "python",
     "metadata": {},
     "outputs": []
    },
    {
     "cell_type": "markdown",
     "metadata": {},
     "source": [
      "To verify your pin center coordinates, plot them as white circles of radius 15 on top of *a copy* of the `pinboard` image."
     ]
    },
    {
     "cell_type": "code",
     "collapsed": false,
     "input": [
      "# Your code here"
     ],
     "language": "python",
     "metadata": {},
     "outputs": []
    },
    {
     "cell_type": "markdown",
     "metadata": {},
     "source": [
      "### Ex 2.4: Place rotated images on image canvas (15 points)\n",
      "\n",
      "Find 5 images on the internet that are neither offense nor illegal. This feat will earn you at least half of the points in this  assignment. Make sure that the files are of reasonable size, as they should be submitted along with the homework. \n",
      "\n",
      "The images should now be placed on the canvas using the following procedure:\n",
      "\n",
      "1. Choose an unused pin and an image not yet placed on the canvas.\n",
      "2. Resize the image to fit on the pin. In particular make sure the image will not overlap other pins.\n",
      "3. Rotate the image by a random angle between -15 and 15 degrees. \n",
      "4. Calculate the position of the left corner of the image, such that the pin is approximately equally far from the left and right corners of the image and one fifth below the top edge. However, it does not matter if you do not hit these goals exactly.\n",
      "5. Paste the image onto a copy of the pinboard using the supplied `paste_image` function.\n",
      "\n",
      "Use the same code to place all images."
     ]
    },
    {
     "cell_type": "code",
     "collapsed": false,
     "input": [
      "def paste_image(canvas_image, paste_image, left_corner_ij):\n",
      "    \"\"\"This function takes an image `paste_image` and copies\n",
      "    each pixel into the another image `canvas_image`, starting \n",
      "    at the (i, j) coordinates given by `left_corner_ij`. \n",
      "    \n",
      "    Pixels where the first color channel is -1 are skipped. \n",
      "    This is useful if you wish to avoid transfering the background.\n",
      "    \"\"\"\n",
      "    left_corner_i, left_corner_j = left_corner_ij\n",
      "\n",
      "    \n",
      "    for i in range(paste_image.shape[0]):\n",
      "        canvas_i = left_corner_i + i\n",
      "        for j in range(paste_image.shape[1]):\n",
      "            canvas_j = left_corner_j + j\n",
      "            \n",
      "            if canvas_i < canvas_image.shape[0] and canvas_j < canvas_image.shape[1]:\n",
      "                paste_pixel = paste_image[i, j]\n",
      "                # Skip background\n",
      "                if paste_pixel[0] != -1:\n",
      "                    canvas_image[canvas_i, canvas_j] = paste_pixel"
     ],
     "language": "python",
     "metadata": {},
     "outputs": []
    },
    {
     "cell_type": "code",
     "collapsed": false,
     "input": [
      "# Your code here"
     ],
     "language": "python",
     "metadata": {},
     "outputs": []
    },
    {
     "cell_type": "markdown",
     "metadata": {},
     "source": [
      "### Ex 2.5: Render original pins on top of the images (5 points)\n",
      "\n",
      "Finally, render the original pins on top of the image produced in the last assigment."
     ]
    },
    {
     "cell_type": "code",
     "collapsed": false,
     "input": [
      "# Your code here"
     ],
     "language": "python",
     "metadata": {},
     "outputs": []
    },
    {
     "cell_type": "code",
     "collapsed": false,
     "input": [],
     "language": "python",
     "metadata": {},
     "outputs": []
    }
   ],
   "metadata": {}
  }
 ]
}