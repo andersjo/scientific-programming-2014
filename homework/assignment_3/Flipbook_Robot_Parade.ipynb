{
 "metadata": {
  "name": "",
  "signature": "sha256:4270a311b250619155420be65184c88c88cfc2b69f13bc6aec2cb53f253ae824"
 },
 "nbformat": 3,
 "nbformat_minor": 0,
 "worksheets": [
  {
   "cells": [
    {
     "cell_type": "markdown",
     "metadata": {},
     "source": [
      "Homework 3 - Flipbook Robot Parade\n",
      "====\n",
      "\n",
      "In this homework, you are implementing a flipbook for robots. You will draw simple images for the heads, bodies, and legs of the robots, and implement a fucntion to generate a random image of a whole robot.\n",
      "![Robot Parade](robot_parade.jpg)\n",
      "\n",
      "\n",
      "Part1\n",
      "----\n",
      "\n",
      "Create at least 3 heads, 3 bodies, and 3 feet. Each should be drawn on a 10-by-20 binary matrix, i.e., using only 1s and 0s. You can use all line and circle drawing elemnts you have encountered so far. \n"
     ]
    },
    {
     "cell_type": "code",
     "collapsed": false,
     "input": [
      "# Your code here"
     ],
     "language": "python",
     "metadata": {},
     "outputs": []
    },
    {
     "cell_type": "markdown",
     "metadata": {},
     "source": [
      "Part 2\n",
      "----\n",
      "\n",
      "Write a function that uses the robot parts you drew in the first part to generate a random robot and color it. You need to select the different elements, assemble them into a full robot, increase the size to be 200 by 300, and color the background in one and the lines in another color.\n"
     ]
    },
    {
     "cell_type": "code",
     "collapsed": false,
     "input": [
      "def draw_robot(color1, color2):\n",
      "    # Your code here"
     ],
     "language": "python",
     "metadata": {},
     "outputs": []
    }
   ],
   "metadata": {}
  }
 ]
}