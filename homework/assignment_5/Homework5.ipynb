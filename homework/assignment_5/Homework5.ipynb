{
 "metadata": {
  "name": "",
  "signature": "sha256:a38f31fc546927c7a8efe35f25998991e9c91ed4858b38f9aa3338bd71bd059f"
 },
 "nbformat": 3,
 "nbformat_minor": 0,
 "worksheets": [
  {
   "cells": [
    {
     "cell_type": "markdown",
     "metadata": {},
     "source": [
      "Homework 5\n",
      "====\n",
      "\n",
      "The final homework is designed to let you use everything you have learned up to this point. You should select at least one of the data sets below and then perform the following three tasks: statistical analysis, building a predictive model, and visualization. \n",
      "\n",
      "Grading\n",
      "----\n",
      "There is no fixed form this time, but note that you need to fulfill all of the parts. Please also add a few lines at the beginning of your code to describe what you did and why. The homework is worth 100pts, you need at least 50 to have it counted.\n",
      "\n",
      "\n",
      "Co\u00f6peration\n",
      "----\n",
      "You may opt to work together with up to ***2*** other students. In that case, please enter the names of all authors in the code. The group only needs to submit one homework.\n",
      "However, group homeworks need to be more substantial in size and depth than individual homeworks.\n",
      "\n",
      "Data Sets\n",
      "----\n",
      "Select at least one of the follwing data sets. You are allowed to use as many additional data sets as you would like, but please make sure to document them.\n",
      "\n",
      "* [Tate Gallery art collection](https://github.com/tategallery/collection) (CSV and JSON)\n",
      "* [Million Songs data](http://labrosa.ee.columbia.edu/millionsong/) ()\n",
      "* [Egonet Facebook data set](http://snap.stanford.edu/data/egonets-Facebook.html) (space-separated)\n",
      "\n",
      "You do NOT need to include these data sets in your submission, but indicate which one you used.\n"
     ]
    },
    {
     "cell_type": "markdown",
     "metadata": {},
     "source": [
      "Part1: Statistical Analysis (30pts)\n",
      "----\n",
      "\n",
      "Perform a statistical analysis of the data. Suggested Python module to use here: `pandas`.\n",
      "\n",
      "Some questions you should consider: \n",
      "* How can you best analyze the data?\n",
      "* How many instances are there, how are the values distributed? \n",
      "* Are there any outliers?\n",
      "\n",
      "Grading will consider how thorough the description is, whether it makes sense for the data set, and whether there are any XXX"
     ]
    },
    {
     "cell_type": "markdown",
     "metadata": {},
     "source": [
      "Part2: Predictive Model (40pts)\n",
      "----\n",
      "\n",
      "Use your knowledge of the data to build a predictive model. Suggested Python module to use here: `sklearn`.\n",
      "\n",
      "You can either predict missing values in the data, use the data to predict another data set, or use another data set to predict this data set, or, or, or...\n",
      "\n",
      "Grading will consider the complexity of the model, its performance, and the difficulty of the prediction task."
     ]
    },
    {
     "cell_type": "markdown",
     "metadata": {},
     "source": [
      "Part3: Visualization (30pts)\n",
      "----\n",
      "\n",
      "Finally, visualize either the original data, the predictibve model, or both. Grading will take into account how informative and creative the visualization is. When in doubt, an informative visualization is worth more than a creative one!"
     ]
    },
    {
     "cell_type": "code",
     "collapsed": false,
     "input": [],
     "language": "python",
     "metadata": {},
     "outputs": []
    }
   ],
   "metadata": {}
  }
 ]
}