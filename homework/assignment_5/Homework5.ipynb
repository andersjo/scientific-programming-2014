{
 "metadata": {
  "name": "",
  "signature": "sha256:a9e12dcc8d5cd275ea84364b9ea0d587be99dd7b2042ca99df60516b041e1573"
 },
 "nbformat": 3,
 "nbformat_minor": 0,
 "worksheets": [
  {
   "cells": [
    {
     "cell_type": "markdown",
     "metadata": {},
     "source": [
      "Homework 5\n",
      "====\n",
      "\n",
      "The final homework is designed to let you use everything you have learned up to this point. You should select one of the data sets below and then perform the following three tasks: statistical analysis, building a predictive model, and visualization. \n",
      "\n",
      "Grading\n",
      "----\n",
      "There is no fixed form this time, but note that you need to fulfill all of the parts. Please also add a few lines at the beginning of your code to describe what you did and why. The homework is worth 100pts, you need at least 50 to have it counted.\n",
      "\n",
      "\n",
      "Co\u00f6peration\n",
      "----\n",
      "You may opt to work together with up to ***2*** other students. In that case, please enter the names of all authors in the code. The group only needs to submit one homework.\n",
      "However, group homeworks need to be more substantial in size and depth than individual homeworks.\n",
      "\n",
      "Data Sets\n",
      "----\n",
      "Select one of the following data sets. You are allowed to use as many additional data sets as you would like, but please make sure to document them.\n",
      "\n",
      "#### Tate Gallery Art Collection\n",
      "\n",
      "Meta-data on more than 70,000 artworks owned by the London gallery. Biographical information on some artists are provided as well. Files are in CSV and JSON format, and may be downloaded from the data set's [github repository](https://github.com/tategallery/collection).\n",
      "\n",
      "#### Million Song Dataset\n",
      "\n",
      "This dataset collects various aspects of one million songs, including meta-data about artists and charateristics of the audio.  It has also been linked up with lyrics through the musiXmatch dataset. \n",
      "\n",
      "The dataset itself is huge (280 GB), so we suggest you only work with the meta-data and lyrics parts. \n",
      "\n",
      "\n",
      "* (Main page for dataset)[http://labrosa.ee.columbia.edu/millionsong/]\n",
      "* (Data example)[http://labrosa.ee.columbia.edu/millionsong/pages/example-track-description]\n",
      "* (Description of lyrics dataset)[http://labrosa.ee.columbia.edu/millionsong/musixmatch#desc]\n",
      "\n",
      "\n",
      "#### Trustpilot Danish Reviews\n",
      "\n",
      "A complete record of the reviews posted on the Danish part of the Trustpilot user review homepage. The Danish site has more than 600,000 users, and includes demographic information (age, gender, place of living) about a large proportion of the them. \n",
      "\n",
      "* [Review and users](https://dl.dropboxusercontent.com/u/1423772/trustpilot_denmark_auto_gender.jsonl)\n",
      "* [Company data](https://dl.dropboxusercontent.com/u/1423772/trustpilot_company.jsonl)\n",
      "\n",
      "The dataset has the following fields for users, reviews and companies:\n",
      "\n",
      "**User** Name, ID, profile text, location (city and country), gender, year of birth.\n",
      "\n",
      "**Review** Title, text, rating (1--5), User ID, Company ID, Date and time of review\n",
      "\n",
      "**Company** Name, categories (e.g., electronics), number of ratings, description, address, location (city and country)\n",
      "\n",
      "You do NOT need to include these data sets in your submission, but indicate which one you used.\n"
     ]
    },
    {
     "cell_type": "markdown",
     "metadata": {},
     "source": [
      "Part1: Statistical Analysis (30pts)\n",
      "----\n",
      "\n",
      "Perform a statistical analysis of the data. Suggested Python module to use here: `pandas`.\n",
      "\n",
      "Some questions you should consider: \n",
      "* How can you best analyze the data?\n",
      "* How many instances are there, how are the values distributed? \n",
      "* Are there any outliers?\n",
      "\n",
      "Grading will consider how thorough the description is, and whether it makes sense for the data set."
     ]
    },
    {
     "cell_type": "markdown",
     "metadata": {},
     "source": [
      "Part2: Predictive Model (40pts)\n",
      "----\n",
      "\n",
      "Use your knowledge of the data to build a predictive model. Suggested Python module to use here: `sklearn`.\n",
      "\n",
      "You can either predict missing values in the data, use the data to predict another data set, or use another data set to predict this data set, or, or, or...\n",
      "\n",
      "Grading will consider the complexity of the model, its performance, and the difficulty of the prediction task."
     ]
    },
    {
     "cell_type": "markdown",
     "metadata": {},
     "source": [
      "Part3: Visualization (30pts)\n",
      "----\n",
      "\n",
      "Finally, visualize either the original data, the predictibve model, or both. Grading will take into account how informative and creative the visualization is. When in doubt, an informative visualization is worth more than a creative one!"
     ]
    },
    {
     "cell_type": "code",
     "collapsed": false,
     "input": [],
     "language": "python",
     "metadata": {},
     "outputs": []
    }
   ],
   "metadata": {}
  }
 ]
}