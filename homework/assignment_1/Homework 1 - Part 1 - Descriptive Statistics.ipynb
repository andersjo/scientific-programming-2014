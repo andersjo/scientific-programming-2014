{
 "metadata": {
  "name": "",
  "signature": "sha256:589e1b6bb9caf0fa73abbb7f57dee7b7e2d3b2961f02488278f2c8a3bada0a49"
 },
 "nbformat": 3,
 "nbformat_minor": 0,
 "worksheets": [
  {
   "cells": [
    {
     "cell_type": "heading",
     "level": 1,
     "metadata": {},
     "source": [
      "Homework 1 - Part 1"
     ]
    },
    {
     "cell_type": "markdown",
     "metadata": {},
     "source": [
      "In the first part of the homework you will be working with a dataset describing various properties of CPUs using the `pandas` library. You will be asked to characterize the data using the tools of descriptive statistics and basic plotting. \n",
      "\n",
      "The homework is graded on a scale from 0 to 100. The first part of the homework is worth a maximum of 40 points while the second part counts for up to 60 points. For each question we indicate how many points you can get. If the answer is not completely correct but nonetheless on the right track, we may decide to give partial credit."
     ]
    },
    {
     "cell_type": "heading",
     "level": 4,
     "metadata": {},
     "source": [
      "About the data"
     ]
    },
    {
     "cell_type": "markdown",
     "metadata": {},
     "source": [
      "The dataset was collected by typing the information on a stack of trump cards in the CPU wars series:\n",
      "\n",
      "![CPU Wars trump cards](cpu_wars.jpg)\n",
      "\n"
     ]
    },
    {
     "cell_type": "code",
     "collapsed": false,
     "input": [
      "%matplotlib inline\n",
      "import pandas as pd\n",
      "import matplotlib.pyplot as plt"
     ],
     "language": "python",
     "metadata": {},
     "outputs": []
    },
    {
     "cell_type": "heading",
     "level": 3,
     "metadata": {},
     "source": [
      "Reading the dataset (5 pts)"
     ]
    },
    {
     "cell_type": "markdown",
     "metadata": {},
     "source": [
      "With real datasets you often have to do a little grunt work to get the data into a suitable format for your analysis. This is also the case here. We placed the dataset in a shared spreadsheet on Google Drive, which you can access [here](https://docs.google.com/a/johannsen.com/spreadsheets/d/1KsIu6I_TqW0oXwEMpomqfwmmoAz4_-kp6xE8vXDms0w/edit?pli=1#gid=0). If you visit the link, you will be given the opportunity to download the spreadsheet data to our own file.\n",
      "\n",
      "While Pandas can read datafiles in many formats we recommend you use either tab-separated files (tsv) or comma-separated files (csv) for this homework. Complete the steps below:\n",
      "\n",
      "1. Download the file from the link above.\n",
      "2. Place the file in the same directory as the IPython notebook.\n",
      "3. Display the top lines of the *raw* file using the `head` system command. \n",
      "4. Read the file into a Pandas `DataFrame` called `cpus`."
     ]
    },
    {
     "cell_type": "code",
     "collapsed": false,
     "input": [
      "# Your code here"
     ],
     "language": "python",
     "metadata": {},
     "outputs": []
    },
    {
     "cell_type": "markdown",
     "metadata": {},
     "source": [
      "If you successfully completed the above steps, `cpus` should now refer to a `DataFrame` with the columns *name*, *clock_speed*, *bus_speed*, *year*, *n_transistors*, *data_width*, *process*, *die_size*, and *tdp*.\n"
     ]
    },
    {
     "cell_type": "heading",
     "level": 3,
     "metadata": {},
     "source": [
      "Find the outlier (5 pts)"
     ]
    },
    {
     "cell_type": "markdown",
     "metadata": {},
     "source": [
      "We have deliberately introduced an error in this dataset. Your job is now to find out where it is and remove it. \n",
      "\n",
      "The error is not subtle and should plainly visible if you plot the data against time. The easiest way to do this is to group the `cpus` `DataFrame` by year, taking the mean value of the group, and use the `.plot` method of the resulting structure.\n",
      "\n",
      "Make the plot below. Note that you can supply a `subplots=True` argument to the `.plot` method to obtain separate plots for each column."
     ]
    },
    {
     "cell_type": "code",
     "collapsed": false,
     "input": [
      "# Your code here"
     ],
     "language": "python",
     "metadata": {},
     "outputs": []
    },
    {
     "cell_type": "markdown",
     "metadata": {},
     "source": [
      "Once you have identified the offending value using the plots, write code below to replace it the correct value, which is **8**."
     ]
    },
    {
     "cell_type": "code",
     "collapsed": false,
     "input": [
      "# Your code here"
     ],
     "language": "python",
     "metadata": {},
     "outputs": []
    },
    {
     "cell_type": "heading",
     "level": 3,
     "metadata": {},
     "source": [
      "Correlation analysis (5 pts)"
     ]
    },
    {
     "cell_type": "markdown",
     "metadata": {},
     "source": [
      "Make a table showing *only* all the strong correlations between the variables of the dataset. For the purpose of this exercise we consider a correlation strong if the absolute value is above 0.9.\n",
      "The correlation coefficient should be calculated using Spearman's method.\n",
      "\n",
      "Hint: Use the `.corr()` method of the `DataFrame`."
     ]
    },
    {
     "cell_type": "code",
     "collapsed": false,
     "input": [
      "# Your code here"
     ],
     "language": "python",
     "metadata": {},
     "outputs": []
    },
    {
     "cell_type": "heading",
     "level": 3,
     "metadata": {},
     "source": [
      "Correlation analysis II (5 pts)"
     ]
    },
    {
     "cell_type": "markdown",
     "metadata": {},
     "source": [
      "What pairs of variables are strongly negatively correlated? Print out a list of all such pairs. \n",
      "\n",
      "Recall correlation is symmetric, so\n",
      "\n",
      "$$\\text{corr}(a, b) = \\text{corr}(b, a)$$\n",
      "\n",
      "Your code should therefore only output each pair of variables once."
     ]
    },
    {
     "cell_type": "code",
     "collapsed": false,
     "input": [
      "# Your code here"
     ],
     "language": "python",
     "metadata": {},
     "outputs": []
    },
    {
     "cell_type": "heading",
     "level": 3,
     "metadata": {},
     "source": [
      "Exploring Moore's law (20 pts)"
     ]
    },
    {
     "cell_type": "markdown",
     "metadata": {},
     "source": [
      "Moore's law refers to a prediction made by Gordon E. More, a co-founder of the Intel Corporation, in 1965. The \"law\" states that the number of transistors which can be packed in an integrated circuit doubles every second year. Remarkably, the prediction has been empirically verified since 1965 and continues to hold today. \n",
      "\n",
      "In this task we ask you to verify Moore's law using the CPU Wars dataset. In particular you will be recreating the plot below, which is taken from the Wikipedia page on [Moore's law](http://en.wikipedia.org/wiki/Moore's_law).\n",
      "\n",
      "![Moore's law](Moores law Wikipedia.svg)\n",
      "\n",
      "The Wikipedia plot has two main components. \n",
      "\n",
      "* A *theoretical line* showing Moore's prediction starting with some value in 1971 and doubling every second year. \n",
      "* The *empirical data points*, which are shown as dots and annotated with the name of the microprocessor.\n",
      "\n",
      "We say the law is confirmed when the empirical data points fall at or close to the predicted line.\n",
      "\n",
      "Let's begin by constructing the $x$ and $y$ coordinates for the theoretical line, where the x-axis is the year of issue of a microprocessor, and the y-axis is the predicted number of transistors."
     ]
    },
    {
     "cell_type": "code",
     "collapsed": false,
     "input": [
      "# Replace the two lines below with the minimum and maximum year found in the CPU Wars dataset\n",
      "min_year = 1971\n",
      "max_year = 2050\n",
      "\n",
      "predicted_year = [year for year in range(min_year, max_year + 2)]"
     ],
     "language": "python",
     "metadata": {},
     "outputs": []
    },
    {
     "cell_type": "markdown",
     "metadata": {},
     "source": [
      "The `predicted_year` list now has an entry for each year in the range, but Moore's law states that the doubling occurs every *second* year. Based on the `predicted_year` list, create a new list that leaves out every other element and assign it to `predicted_year`."
     ]
    },
    {
     "cell_type": "code",
     "collapsed": false,
     "input": [
      "# Your code here"
     ],
     "language": "python",
     "metadata": {},
     "outputs": []
    },
    {
     "cell_type": "markdown",
     "metadata": {},
     "source": [
      "Now create a list of predicted transistor counts, `predicted_n_transistors`. It should have the same number of elements as `predicted_year`. \n",
      "\n",
      "The initial prediction, `predicted_n_transistors[0]`, is an empirical value that you read from the CPU Wars dataset. The next prediction is the double of the first prediction. In general, further predictions may be generated as \n",
      "\n",
      "```\n",
      "predicted_n_transistors[i] = 2 * predicted_n_transistors[i-1]\n",
      "```"
     ]
    },
    {
     "cell_type": "code",
     "collapsed": false,
     "input": [
      "# Your code here"
     ],
     "language": "python",
     "metadata": {},
     "outputs": []
    },
    {
     "cell_type": "markdown",
     "metadata": {},
     "source": [
      "Now we are ready to plot the prediction line using Matplotlib."
     ]
    },
    {
     "cell_type": "code",
     "collapsed": false,
     "input": [
      "fig, ax = plt.subplots()\n",
      "\n",
      "ax.plot(predicted_year, predicted_n_transistors, label=\"Moore's law\")\n",
      "ax.set_yscale('log')\n",
      "ax.set_xlabel(\"Year\")\n",
      "ax.set_ylabel(\"Number of transistors (millions)\")\n",
      "\n",
      "ax.set_title(\"Moore's law\");"
     ],
     "language": "python",
     "metadata": {},
     "outputs": []
    },
    {
     "cell_type": "markdown",
     "metadata": {},
     "source": [
      "If it worked, the plot should show a straight line from 1974 to 2010"
     ]
    },
    {
     "cell_type": "markdown",
     "metadata": {},
     "source": [
      "The next step is to add the data points from the CPU Wars dataset. These should be plotted as unconnected points, which can be accomplished in Matplotlib by using the `.scatter()` command. To see how it works, try substituting `ax.plot` by `ax.scatter` in the cell above.\n",
      "\n",
      "The final ingredient in replicating the Wikipedia plot is the command for putting text next a data point, which is called `.annotate`. The basic form is to specify the text you want to place in the plot together with the $(x, y)$ coordinates of its location:\n",
      "\n",
      "```\n",
      "ax.annotate(\"Name of data point\", xy=(1985, 11))\n",
      "```\n",
      "\n",
      "Place the complete code for making the plot, including the predicted line, empirical data points, and annotations, in the cell below:"
     ]
    },
    {
     "cell_type": "code",
     "collapsed": false,
     "input": [
      "# Your code here"
     ],
     "language": "python",
     "metadata": {},
     "outputs": []
    }
   ],
   "metadata": {}
  }
 ]
}