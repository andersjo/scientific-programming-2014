{
 "metadata": {
  "name": "",
  "signature": "sha256:bbbfeadf545a8006166d4172b1f7c5db0476532c9bc150db91a578b629210d49"
 },
 "nbformat": 3,
 "nbformat_minor": 0,
 "worksheets": [
  {
   "cells": [
    {
     "cell_type": "markdown",
     "metadata": {},
     "source": [
      "Homework 1 - Part 2\n",
      "====\n",
      "\n",
      "Use the scaffold of the code below to implement \n",
      "\n",
      "* a way to read in the CPU data\n",
      "\n",
      "* a strategy based on the data to choose an attribute\n",
      "\n",
      "Make sure to pay attention to whether the attribute is better when it has a high (e.g., speed) or a low (e.g., price) value. For a given attribute you can check the dictionary defined below to see whether a larger or a smaller value wins."
     ]
    },
    {
     "cell_type": "code",
     "collapsed": false,
     "input": [
      "larger_is_better = {'clock_speed': True, \n",
      "                    'bus_speed': True, \n",
      "                    'year': False, \n",
      "                    'n_transistors': True, \n",
      "                    'data_width': True,  \n",
      "                    'process': False, \n",
      "                    'die_size': False, \n",
      "                    'tdp': False}"
     ],
     "language": "python",
     "metadata": {},
     "outputs": [],
     "prompt_number": 40
    },
    {
     "cell_type": "markdown",
     "metadata": {},
     "source": [
      "Ex. 2.1: Read in the data (5 pts)\n",
      "----\n",
      "\n",
      "Read in the CSV file you corrected in Part 1 of the homework, and store it as a `pandas` data frame."
     ]
    },
    {
     "cell_type": "code",
     "collapsed": false,
     "input": [
      "import numpy as np\n",
      "import pandas as pd\n",
      "import random\n",
      "\n",
      "# create and import data with pandas as data frame\n",
      "#######################\n",
      "# TODO: YOU CODE HERE #\n",
      "#######################\n",
      "#D = None            "
     ],
     "language": "python",
     "metadata": {},
     "outputs": [],
     "prompt_number": 41
    },
    {
     "cell_type": "markdown",
     "metadata": {},
     "source": [
      "Ex. 2.2: Implement the strategy (45 pts)\n",
      "----\n",
      "\n",
      "Implement a strategy to beat the opponents. We first provide two baseline strategies, `random_adversary` and `mean_adversary`."
     ]
    },
    {
     "cell_type": "code",
     "collapsed": false,
     "input": [
      "def random_adversary(card_idx, D):\n",
      "    \"\"\"\n",
      "    opponent picks an attribute at random\n",
      "    \"\"\"\n",
      "    attributes = list(D.columns)\n",
      "    attributes.remove('name')\n",
      "    return random.choice(attributes)\n",
      "\n",
      "\n",
      "def mean_adversary(card_idx, D):\n",
      "    \"\"\"\n",
      "    adversary selects only attributes above the mean\n",
      "    \"\"\"\n",
      "    attributes = list(D.columns)\n",
      "    attributes.remove('name')\n",
      "    \n",
      "    eligible = []\n",
      "    mean_values = D.mean()    \n",
      "    for attribute in attributes:\n",
      "        if larger_is_better[attribute]:\n",
      "            if D.ix[card_idx, attribute] > mean_values[attribute]:\n",
      "                eligible.append(attribute)\n",
      "        else:\n",
      "            if D.ix[card_idx, attribute] < mean_values[attribute]:\n",
      "                eligible.append(attribute)\n",
      "\n",
      "    if len(eligible):\n",
      "        return random.choice(eligible)\n",
      "    else:\n",
      "        return random.choice(attributes)\n"
     ],
     "language": "python",
     "metadata": {},
     "outputs": [],
     "prompt_number": 42
    },
    {
     "cell_type": "markdown",
     "metadata": {},
     "source": [
      "Your own strategy should go below"
     ]
    },
    {
     "cell_type": "code",
     "collapsed": false,
     "input": [
      "def my_strategy(card_idx, D):\n",
      "    \"\"\"\n",
      "    implement a strategy based on statistics of the data set\n",
      "    takes a card and the whole data set as input\n",
      "    returns the attribute chosen for this card\n",
      "    \"\"\"\n",
      "\n",
      "    ########################\n",
      "    # TODO: YOUR CODE HERE #\n",
      "    ########################\n",
      "\n",
      "    # change return type to be an attribute...\n",
      "    return None\n"
     ],
     "language": "python",
     "metadata": {},
     "outputs": [],
     "prompt_number": 43
    },
    {
     "cell_type": "markdown",
     "metadata": {},
     "source": [
      "The code below provides the `play_game` function. You should not change anything in this block. Read through it to make sure that you understand how the game works. "
     ]
    },
    {
     "cell_type": "code",
     "collapsed": false,
     "input": [
      "def void_update_func(event, cards, turn_i):\n",
      "    \"\"\"don't do anything\"\"\"\n",
      "    pass\n",
      "\n",
      "\n",
      "def play_game(player_1_move_func, player_2_move_func, dataset, player_1_update_func=void_update_func, player_2_update_func=void_update_func, N=100):\n",
      "    \"\"\"\n",
      "    play N games\n",
      "    \"\"\"\n",
      "    wins = 0.0\n",
      "    no_of_draws = 0.0\n",
      "    no_of_turns = 0.0\n",
      "    \n",
      "    for x in xrange(N):\n",
      "        # shuffle cards\n",
      "        order = np.array(D.index)\n",
      "        np.random.shuffle(order)\n",
      "    \n",
      "        # divide into two sets\n",
      "        pivot = order.shape[0]/2\n",
      "        my_stack = order[:pivot].tolist()\n",
      "        opponent_stack = order[pivot:].tolist()\n",
      "    \n",
      "        # pick starter\n",
      "        my_turn = bool(random.randint(0,1))\n",
      "    \n",
      "        cache = []\n",
      "        no_of_turns_in_current_game = 0\n",
      "        \n",
      "        # play until one player runs out of cards\n",
      "        while my_stack and opponent_stack:\n",
      "            no_of_turns += 1.0\n",
      "            no_of_turns_in_current_game += 1\n",
      "            \n",
      "            ##############\n",
      "            # draw cards #\n",
      "            ##############\n",
      "            my_card_idx = my_stack.pop(0)\n",
      "        \n",
      "            opponent_card_idx = opponent_stack.pop(0)\n",
      "        \n",
      "            ####################\n",
      "            # decide attribute #\n",
      "            ####################\n",
      "            if my_turn:\n",
      "                chosen_attribute = player_1_move_func(my_card_idx, D)\n",
      "            else:\n",
      "                chosen_attribute = player_2_move_func(opponent_card_idx, D)\n",
      "    \n",
      "            my_value = D.ix[my_card_idx, chosen_attribute]\n",
      "            opponent_value = D.ix[opponent_card_idx, chosen_attribute]\n",
      "    \n",
      "            ############\n",
      "            # evaluate #\n",
      "            ############\n",
      "    \n",
      "            # add cards to cache\n",
      "            cache.extend([my_card_idx, opponent_card_idx])\n",
      "    \n",
      "            if larger_is_better[chosen_attribute]:\n",
      "                i_win_turn = my_value > opponent_value\n",
      "            else: \n",
      "                i_win_turn = my_value < opponent_value\n",
      "\n",
      "            # Draw\n",
      "            if my_value == opponent_value:\n",
      "                player_1_update_func('draw', cache, no_of_turns_in_current_game)\n",
      "                player_2_update_func('draw', cache, no_of_turns_in_current_game)\n",
      "                no_of_draws += 1.0\n",
      "            # I win\n",
      "            elif i_win_turn:\n",
      "                player_1_update_func('win', cache, no_of_turns_in_current_game)\n",
      "                player_2_update_func('lose', cache, no_of_turns_in_current_game)\n",
      "                \n",
      "                my_stack.extend(cache)\n",
      "                cache = []\n",
      "                my_turn = True\n",
      "            # I lose\n",
      "            else:\n",
      "                player_1_update_func('lose', cache, no_of_turns_in_current_game)\n",
      "                player_2_update_func('win', cache, no_of_turns_in_current_game)\n",
      "                \n",
      "                opponent_stack.extend(cache)\n",
      "                cache = []\n",
      "                my_turn = False\n",
      "                    \n",
      "        # if I have cards left, I win the game\n",
      "        if my_stack:\n",
      "            wins += 1.0\n",
      "    \n",
      "    return {\"Success rate\": (wins/N), \n",
      "            \"Avg #turns\": (no_of_turns/N),\n",
      "            \"Draw rate\": (no_of_draws/N)}\n",
      "    "
     ],
     "language": "python",
     "metadata": {},
     "outputs": [],
     "prompt_number": 44
    },
    {
     "cell_type": "markdown",
     "metadata": {},
     "source": [
      "Finally, play the game using strategies of your choice. \n",
      "\n",
      "The example code below plays 1000 games between the `random_adversary` and the `mean_adversary` strategy."
     ]
    },
    {
     "cell_type": "code",
     "collapsed": false,
     "input": [
      "# call the actual game function to get the results\n",
      "play_game(random_adversary, mean_adversary, D)"
     ],
     "language": "python",
     "metadata": {},
     "outputs": [
      {
       "metadata": {},
       "output_type": "pyout",
       "prompt_number": 51,
       "text": [
        "{'Avg #turns': 51.4, 'Draw rate': 2.03, 'Success rate': 0.0}"
       ]
      }
     ],
     "prompt_number": 51
    },
    {
     "cell_type": "markdown",
     "metadata": {},
     "source": [
      "Ex 2.3: Confusion matrix (10 pts)\n",
      "----\n",
      "\n",
      "Make a confusion matrix in `pandas` that shows how your strategy, the random, and the mean opponent perform against each other."
     ]
    },
    {
     "cell_type": "code",
     "collapsed": false,
     "input": [
      "# TODO: YOUR CODE HERE"
     ],
     "language": "python",
     "metadata": {},
     "outputs": [],
     "prompt_number": 46
    }
   ],
   "metadata": {}
  }
 ]
}