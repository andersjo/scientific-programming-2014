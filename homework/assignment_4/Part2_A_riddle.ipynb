{
 "metadata": {
  "name": "",
  "signature": "sha256:b79f7c146b20e22bfef69ef775f842d118bbd6676c7aa0c7d89cc0e2b5ad6f8b"
 },
 "nbformat": 3,
 "nbformat_minor": 0,
 "worksheets": [
  {
   "cells": [
    {
     "cell_type": "heading",
     "level": 2,
     "metadata": {},
     "source": [
      "A riddle: Passing the river Styx"
     ]
    },
    {
     "cell_type": "markdown",
     "metadata": {},
     "source": [
      "> \u201cOf four infernal rivers, that disgorge<br>\n",
      "> Into the burning lake their baleful streams;<br>\n",
      "> Abhorred Styx, the flood of deadly hate;<br>\n",
      "> Sad Acheron, of sorrow, black and deep;<br>\n",
      "> Cocytus, named of lamentation loud<br>\n",
      "> Heard on the rueful stream; fierce Phlegethon,<br>\n",
      "> Whose waves of torrent inflame with rage.<br>\n",
      "> Far off from these, a slow and silent stream,<br>\n",
      "> Lethe, the river of oblivion rolls.\u201d<br>\n",
      ">\n",
      "> *Milton: Paradise Lost, Book 2*\n",
      "\n",
      "Three lost souls stand quietly on the shore of the river Styx, guarded by five devils. All are waiting to enter the inner realms of Hell. At the pier the boat lies ready for the journey, but no-one is told to climb on. In the wrinkly and scorched skin of the senior devil, a nervous complexion is visible. \n",
      "\n",
      "The devils are faced with a conondrum. Only three passengers can be transported by the boat at one time, and it cannot pass the river empty. Not trusting the lost souls, the devils agree that there should always be at least as many of them as there are souls, whether on the boat or on either side of the shore. The souls are after all in Hell for a reason. Also, the devils are rather keen to avoid the humilation of being overpowered and the dread of the usual punishment for losing a lost soul: spending *yet another* eternity in Hell. \n",
      "\n",
      "But how may the lost souls pass the river without violating this, in the eyes of the devils, important safety precaution?\n",
      "\n",
      "Maybe you can help?\n",
      "\n",
      "<img src=\"devils_and_souls.png\" width=200>"
     ]
    },
    {
     "cell_type": "markdown",
     "metadata": {},
     "source": [
      "You may have recognized that the devils are, in fact, facing a graph problem. Initially, the devils, the souls, and the boat are positioned at the entrace side (es) of the river. This is the initial state. The goal state occurs when everyone is happily transported to the Hell side.\n",
      "\n",
      "To summarize, we may represent the initial state as follows:\n",
      "\n",
      "| Variable                          | Value    |\n",
      "|-----------------------------------|----------|\n",
      "| Number of devils at entrance side | 5        |\n",
      "| Number of souls at entrance side  | 3        |\n",
      "| Number of devils at Hell side     | 0        |\n",
      "| Number of souls at Hell side      | 0        |\n",
      "| Position of boat                  | Entrance |\n",
      "\n",
      "And the goal state:\n",
      "\n",
      "| Variable                          | Value    |\n",
      "|-----------------------------------|----------|\n",
      "| Number of devils at entrance side | 0        |\n",
      "| Number of souls at entrance side  | 0        |\n",
      "| Number of devils at Hell side     | 5        |\n",
      "| Number of souls at Hell side      | 3        |\n",
      "| Position of boat                  | Hell     |\n",
      "\n",
      "\n",
      "Solving the devils' problem is equivalent to finding a path from initial state to goal state which only passes through valid states.  \n",
      "\n",
      "The class `PassingState` below represents a single such state. One method is left as a stub. Below we ask you to finish the implementation."
     ]
    },
    {
     "cell_type": "code",
     "collapsed": false,
     "input": [
      "BOAT_CAPACITY = 3\n",
      "\n",
      "class PassingState(object):\n",
      "    \n",
      "    def __init__(self, n_devils_es, n_souls_es, n_devils_hs, n_souls_hs, boat_es):\n",
      "        self.n_devils_es = n_devils_es\n",
      "        self.n_souls_es = n_souls_es\n",
      "        self.n_devils_hs = n_devils_hs\n",
      "        self.n_souls_hs = n_souls_hs\n",
      "        self.boat_es = boat_es\n",
      "        \n",
      "    def successors(self):\n",
      "        # Your code here\n",
      "        return []\n",
      "    \n",
      "    # The two following methods enables the `PassingState` object \n",
      "    # to be used in \"hashable\" collections, such as sets or dictionaries.\n",
      "    def __eq__(self, other): \n",
      "        return self.__dict__ == other.__dict__\n",
      "    \n",
      "    def __hash__(self):\n",
      "        return hash((self.n_devils_es, self.n_souls_es, \n",
      "                     self.n_devils_hs, self.n_souls_hs, \n",
      "                     self.boat_es))\n",
      "    \n",
      "    # Pretty-print the object\n",
      "    def __repr__(self):\n",
      "        return repr(self.__dict__)\n"
     ],
     "language": "python",
     "metadata": {},
     "outputs": []
    },
    {
     "cell_type": "markdown",
     "metadata": {},
     "source": [
      "### Exercise 2.1 (5 pts)\n",
      "\n",
      "Bind appropriate instances of `PassingState` to the variables `initial_state` and `goal_state`."
     ]
    },
    {
     "cell_type": "code",
     "collapsed": false,
     "input": [
      "# Your code here"
     ],
     "language": "python",
     "metadata": {},
     "outputs": []
    },
    {
     "cell_type": "markdown",
     "metadata": {},
     "source": [
      "### Exercise 2.2 (10 pts)\n",
      "\n",
      "Implement the `successors` method, which should return a list of all possible successor states. Each element of the list should be an instance of the `PassageState` class. Make sure that the generated states are valid according to the constraints. Recall \n",
      "\n",
      "- The number of devils should be at least as large as the number of souls at any of the three positions (both shores and boat) at any given time.\n",
      "- The boat needs at least one passenger to operate.\n",
      "\n",
      "It may be helpful to implement a separate `is_valid_state()` method in the class for that purpose.\n",
      "\n",
      "Show the output of calling `successors()` on the `initial_state` object."
     ]
    },
    {
     "cell_type": "code",
     "collapsed": false,
     "input": [
      "# Your code here"
     ],
     "language": "python",
     "metadata": {},
     "outputs": []
    },
    {
     "cell_type": "markdown",
     "metadata": {},
     "source": [
      "### Exercise 2.3 (10 pts)\n",
      "\n",
      "Find the shortest path through the state graph using your own implementation of breath-first search."
     ]
    },
    {
     "cell_type": "code",
     "collapsed": false,
     "input": [
      "# Your code here"
     ],
     "language": "python",
     "metadata": {},
     "outputs": []
    },
    {
     "cell_type": "markdown",
     "metadata": {},
     "source": [
      "### Exercise 2.4 (5 pts)\n",
      "\n",
      "Enumerate *all states* in the state graph and represent them as a networkx graph. Consider whether to make it an instance of `Graph` or `DiGraph`. \n",
      "\n",
      "Print the output of `nx.info` on your generated graph."
     ]
    },
    {
     "cell_type": "code",
     "collapsed": false,
     "input": [
      "import networkx as nx\n",
      "\n",
      "# Your code here"
     ],
     "language": "python",
     "metadata": {},
     "outputs": []
    },
    {
     "cell_type": "markdown",
     "metadata": {},
     "source": [
      "### Exercise 2.5 (10 pts)\n",
      "\n",
      "Use the networkx graph to answer the following two questions:\n",
      "    \n",
      "- If you are trying to find a path through the state graph by visiting nodes completely at random, how many steps are required on average to reach the goal state? Produce an average over 500 such random walks.\n",
      "- How long is the average path length if you make random choices, but never return to a previously visited state? Again, average over 500 runs."
     ]
    },
    {
     "cell_type": "markdown",
     "metadata": {},
     "source": [
      "### Exercise 2.6 (10 pts)\n",
      "\n",
      "Complete the table below, which lists different configurations of the initial states along with properties of the associated state graph. Set `n_devils_hs = n_souls_hs = 0` and `boat_es = True`. *n_states* refers to the number of all valid states in the graph, i.e. the number of nodes."
     ]
    },
    {
     "cell_type": "code",
     "collapsed": false,
     "input": [
      "import pandas as pd\n",
      "import numpy as np\n",
      "from itertools import product\n",
      "D = pd.DataFrame(list(product(range(2,6), range(2, 6))), columns=['n_devils_es', 'n_souls_es'])\n",
      "D['shortest_path_length'] = np.nan\n",
      "D['n_states'] = np.nan\n",
      "D"
     ],
     "language": "python",
     "metadata": {},
     "outputs": []
    },
    {
     "cell_type": "code",
     "collapsed": false,
     "input": [
      "# Your code here"
     ],
     "language": "python",
     "metadata": {},
     "outputs": []
    }
   ],
   "metadata": {}
  }
 ]
}