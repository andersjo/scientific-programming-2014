{
 "metadata": {
  "name": "",
  "signature": "sha256:e21bd8e0e79a16b0f8d10eb6071e3fa7a2e10a9f25dcf51d3255623c07dfe4fc"
 },
 "nbformat": 3,
 "nbformat_minor": 0,
 "worksheets": [
  {
   "cells": [
    {
     "cell_type": "heading",
     "level": 2,
     "metadata": {},
     "source": [
      "Part 1: Finding your way on a map"
     ]
    },
    {
     "cell_type": "markdown",
     "metadata": {},
     "source": [
      "In the first part of the homework, we ask you to implement the core parts of a routing algorithm, including the visualization of the route on a map. In other words you will be making something that maybe could pass as a very early prototype of Google Maps. And although everything will be kind-of bare-bones and in a much smaller scale compared to the route planners you find on the net, the basic principles are much the same.\n",
      "\n",
      "#### On grading\n",
      "\n",
      "The homework is graded on a scale from 0 to 100. For each question we indicate how many points you can get. If the answer is not completely correct but nonetheless on the right track, we may decide to give partial credit.\n",
      "\n",
      "For this and future homeworks we require **50 points** or more to pass. If you score below this threshold, the homework will count as failed. To pass the class you need **four passed** homeworks with a minimum of **250 points** in total. As before we consider only the four best homeworks. "
     ]
    },
    {
     "cell_type": "code",
     "collapsed": false,
     "input": [
      "from IPython.display import HTML\n",
      "import folium\n",
      "import json\n",
      "import networkx as nx"
     ],
     "language": "python",
     "metadata": {},
     "outputs": [
      {
       "ename": "ImportError",
       "evalue": "No module named folium",
       "output_type": "pyerr",
       "traceback": [
        "\u001b[0;31m---------------------------------------------------------------------------\u001b[0m\n\u001b[0;31mImportError\u001b[0m                               Traceback (most recent call last)",
        "\u001b[0;32m<ipython-input-3-3b6f76b14266>\u001b[0m in \u001b[0;36m<module>\u001b[0;34m()\u001b[0m\n\u001b[1;32m      1\u001b[0m \u001b[0;32mfrom\u001b[0m \u001b[0mIPython\u001b[0m\u001b[0;34m.\u001b[0m\u001b[0mdisplay\u001b[0m \u001b[0;32mimport\u001b[0m \u001b[0mHTML\u001b[0m\u001b[0;34m\u001b[0m\u001b[0m\n\u001b[0;32m----> 2\u001b[0;31m \u001b[0;32mimport\u001b[0m \u001b[0mfolium\u001b[0m\u001b[0;34m\u001b[0m\u001b[0m\n\u001b[0m\u001b[1;32m      3\u001b[0m \u001b[0;32mimport\u001b[0m \u001b[0mjson\u001b[0m\u001b[0;34m\u001b[0m\u001b[0m\n\u001b[1;32m      4\u001b[0m \u001b[0;32mimport\u001b[0m \u001b[0mnetworkx\u001b[0m \u001b[0;32mas\u001b[0m \u001b[0mnx\u001b[0m\u001b[0;34m\u001b[0m\u001b[0m\n",
        "\u001b[0;31mImportError\u001b[0m: No module named folium"
       ]
      }
     ],
     "prompt_number": 3
    },
    {
     "cell_type": "markdown",
     "metadata": {},
     "source": [
      "Below are visualization helpers needed to display the routes on a map."
     ]
    },
    {
     "cell_type": "code",
     "collapsed": false,
     "input": [
      "def inline_map(map):\n",
      "    \"\"\"\n",
      "    Embeds the HTML source of the map directly into the IPython notebook.\n",
      "    \n",
      "    This method will not work if the map depends on any files (json data). Also this uses\n",
      "    the HTML5 srcdoc attribute, which may not be supported in all browsers.\n",
      "    \"\"\"\n",
      "    map._build_map()\n",
      "    return HTML('<iframe srcdoc=\"{srcdoc}\" style=\"width: 100%; height: 510px; border: none\"></iframe>'.format(srcdoc=map.HTML.replace('\"', '&quot;')))\n",
      "\n",
      "def add_lines(folium_map, list_of_lines, filename, line_color='blue', line_weight=5):\n",
      "    \"\"\"\n",
      "    Draws a number of lines to the given map.\n",
      "    \n",
      "    An individual line consists of (lat, lon) coordinate pairs, which are connected by line segments.\n",
      "    The argument `list_of_lines` should be thus be a list of lists of coordinate pairs. For instance,\n",
      "    \n",
      "    [[(55.65, 12.59), (55.79, 12.79)], [(55.20, 12.50), (55.22, 12.62)]]\n",
      "    \n",
      "    will draw a two line, each made up of a single line segment.\n",
      "    \"\"\"\n",
      "    swap_multi_line_string = []\n",
      "    for line in list_of_lines:\n",
      "        swap_line = []\n",
      "        for lat, lon in line:\n",
      "            swap_line.append((lon, lat))\n",
      "        swap_multi_line_string.append(swap_line)\n",
      "        \n",
      "    feature = {\"type\": \"MultiLineString\", \"coordinates\": swap_multi_line_string}\n",
      "    with open(filename, 'w') as f:\n",
      "        json.dump(feature, f)\n",
      "\n",
      "    folium_map.geo_json(geo_path=filename, line_weight=line_weight,\n",
      "                        line_opacity=0.5, line_color=line_color)    "
     ],
     "language": "python",
     "metadata": {},
     "outputs": [],
     "prompt_number": 2
    },
    {
     "cell_type": "markdown",
     "metadata": {},
     "source": [
      "## Basic visualization\n",
      "\n",
      "More often than not, scientific programming involves juggling numbers and abstract concepts that are kind of hard to form a clear picture of in your head. Fortunately, though, maps are delightfully visual. Here we show you:\n",
      "\n",
      "1. How you can display a map in IPython;\n",
      "2. How to add markers, such as circles or tear drops, to the map; and\n",
      "3. How to draw lines. \n",
      "\n",
      "At present the support for map drawing in IPython is a little more experimental than we would have liked. If you cannot get the examples below to work, please try it in another browser. We have tested the notebook in a recent versions of Chrome and Safari."
     ]
    },
    {
     "cell_type": "code",
     "collapsed": false,
     "input": [
      "# Creates a map centered at `location`, which is a coordinate pair in decimal degrees.\n",
      "map_viz = folium.Map(location=[55.6632322, 12.5870087], zoom_start=15)\n",
      "\n",
      "# Place a circle marker at DR byen\n",
      "dr_byen_loc = (55.658105, 12.590940)\n",
      "map_viz.circle_marker(dr_byen_loc, radius=50, popup='DR Byen')\n",
      "\n",
      "# Draw a line between Islands Brygge station and DR Byen\n",
      "# Note calls to `add_lines` places files in your homework folder, which you must include the upload.\n",
      "islands_brygge_loc = (55.663425, 12.585951)\n",
      "amager_bro_loc = (55.663037, 12.603289)\n",
      "add_lines(map_viz, [[islands_brygge_loc, dr_byen_loc]], 'islands_brygge_to_dr_byen.json')\n",
      "inline_map(map_viz)"
     ],
     "language": "python",
     "metadata": {},
     "outputs": [
      {
       "ename": "NameError",
       "evalue": "name 'folium' is not defined",
       "output_type": "pyerr",
       "traceback": [
        "\u001b[0;31m---------------------------------------------------------------------------\u001b[0m\n\u001b[0;31mNameError\u001b[0m                                 Traceback (most recent call last)",
        "\u001b[0;32m<ipython-input-1-5d471f3af68a>\u001b[0m in \u001b[0;36m<module>\u001b[0;34m()\u001b[0m\n\u001b[1;32m      1\u001b[0m \u001b[0;31m# Creates a map centered at `location`, which is a coordinate pair in decimal degrees.\u001b[0m\u001b[0;34m\u001b[0m\u001b[0;34m\u001b[0m\u001b[0m\n\u001b[0;32m----> 2\u001b[0;31m \u001b[0mmap_viz\u001b[0m \u001b[0;34m=\u001b[0m \u001b[0mfolium\u001b[0m\u001b[0;34m.\u001b[0m\u001b[0mMap\u001b[0m\u001b[0;34m(\u001b[0m\u001b[0mlocation\u001b[0m\u001b[0;34m=\u001b[0m\u001b[0;34m[\u001b[0m\u001b[0;36m55.6632322\u001b[0m\u001b[0;34m,\u001b[0m \u001b[0;36m12.5870087\u001b[0m\u001b[0;34m]\u001b[0m\u001b[0;34m,\u001b[0m \u001b[0mzoom_start\u001b[0m\u001b[0;34m=\u001b[0m\u001b[0;36m15\u001b[0m\u001b[0;34m)\u001b[0m\u001b[0;34m\u001b[0m\u001b[0m\n\u001b[0m\u001b[1;32m      3\u001b[0m \u001b[0;34m\u001b[0m\u001b[0m\n\u001b[1;32m      4\u001b[0m \u001b[0;31m# Place a circle marker at DR byen\u001b[0m\u001b[0;34m\u001b[0m\u001b[0;34m\u001b[0m\u001b[0m\n\u001b[1;32m      5\u001b[0m \u001b[0mdr_byen_loc\u001b[0m \u001b[0;34m=\u001b[0m \u001b[0;34m(\u001b[0m\u001b[0;36m55.658105\u001b[0m\u001b[0;34m,\u001b[0m \u001b[0;36m12.590940\u001b[0m\u001b[0;34m)\u001b[0m\u001b[0;34m\u001b[0m\u001b[0m\n",
        "\u001b[0;31mNameError\u001b[0m: name 'folium' is not defined"
       ]
      }
     ],
     "prompt_number": 1
    },
    {
     "cell_type": "markdown",
     "metadata": {},
     "source": [
      "### Map data\n",
      "\n",
      "You will be working with freely available map data from the collaborative [Open Street Map](http://www.openstreetmap.org/) service. We have exported a small part of the dataset covering the area around the southern campus of the University of Copenhagen. You will find this in the file `bryggen.osm`. \n",
      "\n",
      "Additionally, we provide a loader function `read_way_network` from the module `osm` which parses the Open Street Map data and returns a `networkx` graph. The nodes in the graph represent points on the map, and the edges are roads or, more generally, *ways* between these points.\n",
      "\n",
      "In the cell below we read in the network and bind it to the variable `bryggen`. We also import the function `gc_dist`, which calculates the great-circle distance between two points on the map."
     ]
    },
    {
     "cell_type": "code",
     "collapsed": false,
     "input": [
      "from osm import read_way_network, gc_dist\n",
      "bryggen = read_way_network(\"bryggen.osm\")"
     ],
     "language": "python",
     "metadata": {},
     "outputs": [],
     "prompt_number": 4
    },
    {
     "cell_type": "markdown",
     "metadata": {},
     "source": [
      "### Exercise 1.1: Properties of nodes and edges (10 pts)\n",
      "\n",
      "To get a feel for how the way network is represented in the graph, please retrieve **5** nodes from the `bryggen` graph at random and for each of them output the following: \n",
      "\n",
      "- Node id\n",
      "- Data associated with the node\n",
      "- IDs of outgoing edges\n",
      "- Data associated with the outgoing edges"
     ]
    },
    {
     "cell_type": "code",
     "collapsed": false,
     "input": [
      "# Your code here"
     ],
     "language": "python",
     "metadata": {},
     "outputs": [],
     "prompt_number": 5
    },
    {
     "cell_type": "markdown",
     "metadata": {},
     "source": [
      "### Exercise 1.2: Find nearest node (10 pts)\n",
      "\n",
      "Pick a point as close to the center of Tietgen Kollegiet as possible and retrieve the coordinates. You may use Google Maps for this purpose, as explained [here](https://support.google.com/maps/answer/18539?hl=en).\n",
      "\n",
      "Once you have the coordinates of the point, you should implement a function `find_nearest_node`, which takes the `networkx` graph as well as the latitude and longtitude of a point as arguments. The return value should be the the node id of the nearest node on the map, measured by great circle distance. In other words, the function should map from a set of coordinates to the nearest way intersection.\n",
      "\n",
      "To verify that your function works as expected, place a circle marker in the middle of Tietgen Kollegiet and draw a line from that point to the way intersection. Display the map."
     ]
    },
    {
     "cell_type": "code",
     "collapsed": false,
     "input": [
      "# Your code here"
     ],
     "language": "python",
     "metadata": {},
     "outputs": [],
     "prompt_number": 6
    },
    {
     "cell_type": "markdown",
     "metadata": {},
     "source": [
      "### Exercise 1.3 (15 pts)\n",
      "\n",
      "Find and draw the shortest path in meters from `start_loc` to `goal_loc`. Use both A\\* search (including heuristic function) and Dijistra's shortest-path algorithm and compare the results. You may use the implementations available in `networkx`."
     ]
    },
    {
     "cell_type": "code",
     "collapsed": false,
     "input": [
      "start_loc = (55.663811, 12.596087)\n",
      "goal_loc = (55.665372, 12.578170)\n",
      "\n",
      "# Your code here"
     ],
     "language": "python",
     "metadata": {},
     "outputs": [],
     "prompt_number": 7
    },
    {
     "cell_type": "markdown",
     "metadata": {},
     "source": [
      "### Exercise 1.4 (15 pts)\n",
      "\n",
      "Copenhagen is known as a bike-friendly city, with many roads and paths designated for exclusive use by cyclists and pedestrians. Now we ask you to quantify the advantage of going by bike compared to driving a car. How much shorter is the distance you need to travel to get from A to B?\n",
      "\n",
      "First, make a subgraph containing just bike-accessible edges and a subgraph with only the edges accessible by car. Use these to find shortest paths in meters between `start_loc` and `goal_loc` for cyclists and car drivers. Draw both paths on a map using different colors. Output the length of each path."
     ]
    },
    {
     "cell_type": "code",
     "collapsed": false,
     "input": [
      "# Your code here"
     ],
     "language": "python",
     "metadata": {},
     "outputs": [],
     "prompt_number": 8
    },
    {
     "cell_type": "markdown",
     "metadata": {},
     "source": [
      "Next, draw 500 random pairs of source and destination nodes from the set of nodes shared by both subgraphs. Calculate the average shortest path distance in each graph and report the figures.\n",
      "\n",
      "Compare your results with the output of `nx.average_shortest_path_length`."
     ]
    },
    {
     "cell_type": "code",
     "collapsed": false,
     "input": [
      "# Your code here"
     ],
     "language": "python",
     "metadata": {},
     "outputs": [],
     "prompt_number": 9
    }
   ],
   "metadata": {}
  }
 ]
}